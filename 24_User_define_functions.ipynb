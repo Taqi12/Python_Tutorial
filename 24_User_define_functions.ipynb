{
 "cells": [
  {
   "cell_type": "markdown",
   "metadata": {},
   "source": [
    "## User define functions"
   ]
  },
  {
   "cell_type": "code",
   "execution_count": 3,
   "metadata": {},
   "outputs": [
    {
     "name": "stdout",
     "output_type": "stream",
     "text": [
      "Good Morning\n"
     ]
    }
   ],
   "source": [
    "# Example 1: Simple Function\n",
    "\n",
    "def greet():\n",
    "    print(\"Good Morning\")\n",
    "\n",
    "# calling function\n",
    "greet()"
   ]
  },
  {
   "cell_type": "code",
   "execution_count": 9,
   "metadata": {},
   "outputs": [
    {
     "name": "stdout",
     "output_type": "stream",
     "text": [
      "The sum of 10 and 20 is 30\n"
     ]
    }
   ],
   "source": [
    "# Exampke 2: Parameterized Function\n",
    "\n",
    "def add_numbers(num1, num2):\n",
    "    result = num1 + num2\n",
    "    print(f\"The sum of {num1} and {num2} is {result}\") \n",
    "\n",
    "# calling function\n",
    "add_numbers(10, 20)     "
   ]
  },
  {
   "cell_type": "code",
   "execution_count": 10,
   "metadata": {},
   "outputs": [
    {
     "name": "stdout",
     "output_type": "stream",
     "text": [
      "The square of 4 is 16\n"
     ]
    }
   ],
   "source": [
    "# Example 3: Function with Return Value\n",
    "\n",
    "def square(x):\n",
    "    return x ** 2\n",
    "\n",
    "# Call the function and store the result\n",
    "result = square(4)\n",
    "print(f\"The square of 4 is {result}\")"
   ]
  },
  {
   "cell_type": "code",
   "execution_count": 11,
   "metadata": {},
   "outputs": [
    {
     "name": "stdout",
     "output_type": "stream",
     "text": [
      "Hello, John!\n",
      "Hello, Alice!\n"
     ]
    }
   ],
   "source": [
    "# Example 4: Function with Default Parameter\n",
    "\n",
    "def greet(name=\"John\"):\n",
    "    print(f\"Hello, {name}!\")\n",
    "\n",
    "# calling function without passing any argument\n",
    "greet()\n",
    "\n",
    "# calling function with an argument\n",
    "greet(\"Alice\")"
   ]
  },
  {
   "cell_type": "code",
   "execution_count": 13,
   "metadata": {},
   "outputs": [
    {
     "name": "stdout",
     "output_type": "stream",
     "text": [
      "The sum of (1, 2, 3) is  6\n",
      "The sum of (4, 5, 6, 7) is  22\n"
     ]
    }
   ],
   "source": [
    "# Example 5: Function with Variable Number of Arguments\n",
    "\n",
    "def sum_all(*numbers):\n",
    "    total = sum(numbers)\n",
    "    print(f\"The sum of {numbers} is  {total}\")\n",
    "\n",
    "# Call the function with different numbers of arguments\n",
    "sum_all(1, 2, 3)\n",
    "sum_all(4, 5, 6, 7)"
   ]
  },
  {
   "cell_type": "code",
   "execution_count": 14,
   "metadata": {},
   "outputs": [
    {
     "name": "stdout",
     "output_type": "stream",
     "text": [
      "The factorial of 5 is: 120\n"
     ]
    }
   ],
   "source": [
    "# Example 6: Recursive Function (Factorial)\n",
    "\n",
    "def factorial(n):\n",
    "    if n == 0 or n == 1:\n",
    "        return 1\n",
    "    else:\n",
    "        return n * factorial(n - 1)\n",
    "\n",
    "# Call the recursive function\n",
    "result = factorial(5)\n",
    "print(f\"The factorial of 5 is: {result}\")\n"
   ]
  },
  {
   "cell_type": "code",
   "execution_count": 17,
   "metadata": {},
   "outputs": [
    {
     "name": "stdout",
     "output_type": "stream",
     "text": [
      "8\n",
      "\n",
      "    Calculate the power of a number.\n",
      "\n",
      "    Parameters:\n",
      "    - base (float): The base number.\n",
      "    - exponent (int): The exponent.\n",
      "\n",
      "    Returns:\n",
      "    float: The result of base raised to the power of exponent.\n",
      "    \n"
     ]
    }
   ],
   "source": [
    "# Example 7: Function with Docstring\n",
    "\n",
    "def power(base, exponent):\n",
    "    \"\"\"\n",
    "    Calculate the power of a number.\n",
    "\n",
    "    Parameters:\n",
    "    - base (float): The base number.\n",
    "    - exponent (int): The exponent.\n",
    "\n",
    "    Returns:\n",
    "    float: The result of base raised to the power of exponent.\n",
    "    \"\"\"\n",
    "    result = base ** exponent\n",
    "    return result\n",
    "\n",
    "# Call the function and access the docstring\n",
    "print(power(2, 3))\n",
    "print(power.__doc__)\n"
   ]
  },
  {
   "cell_type": "code",
   "execution_count": 18,
   "metadata": {},
   "outputs": [
    {
     "name": "stdout",
     "output_type": "stream",
     "text": [
      "Quotient: 3, Remainder: 1\n"
     ]
    }
   ],
   "source": [
    "# Example 8: Function with Multiple Return Values\n",
    "\n",
    "def divide_and_remainder(a, b):\n",
    "    quotient = a // b\n",
    "    remainder = a % b\n",
    "    return quotient, remainder\n",
    "\n",
    "# Call the function and unpack the returned values\n",
    "result_quotient, result_remainder = divide_and_remainder(10, 3)\n",
    "print(f\"Quotient: {result_quotient}, Remainder: {result_remainder}\")\n"
   ]
  },
  {
   "cell_type": "code",
   "execution_count": 19,
   "metadata": {},
   "outputs": [
    {
     "name": "stdout",
     "output_type": "stream",
     "text": [
      "The result is: 50\n"
     ]
    }
   ],
   "source": [
    "# Example 9: Function with Global Variable\n",
    "global_variable = 10\n",
    "\n",
    "def multiply_by_global(x):\n",
    "    global global_variable\n",
    "    result = x * global_variable\n",
    "    return result\n",
    "\n",
    "# Call the function\n",
    "result = multiply_by_global(5)\n",
    "print(f\"The result is: {result}\")"
   ]
  },
  {
   "cell_type": "code",
   "execution_count": 20,
   "metadata": {},
   "outputs": [
    {
     "name": "stdout",
     "output_type": "stream",
     "text": [
      "The result is: 25\n"
     ]
    }
   ],
   "source": [
    "# Example 11: Function as Argument\n",
    "def square(x):\n",
    "    return x ** 2\n",
    "\n",
    "def perform_operation(func, value):\n",
    "    result = func(value)\n",
    "    return result\n",
    "\n",
    "# Call the function with another function as an argument\n",
    "result = perform_operation(square, 5)\n",
    "print(f\"The result is: {result}\")\n"
   ]
  },
  {
   "cell_type": "code",
   "execution_count": 21,
   "metadata": {},
   "outputs": [
    {
     "name": "stdout",
     "output_type": "stream",
     "text": [
      "The result is: 6\n"
     ]
    }
   ],
   "source": [
    "# Example 12: Function with Nested Functions\n",
    "def outer_function(x):\n",
    "    def inner_function(y):\n",
    "        return y * 2\n",
    "    return inner_function(x)\n",
    "\n",
    "# Call the outer function\n",
    "result = outer_function(3)\n",
    "print(f\"The result is: {result}\")\n"
   ]
  },
  {
   "cell_type": "code",
   "execution_count": 23,
   "metadata": {},
   "outputs": [
    {
     "name": "stdout",
     "output_type": "stream",
     "text": [
      "Result 1: 5.0\n",
      "Error: Division by zero!\n"
     ]
    }
   ],
   "source": [
    "# Example 13: Function with Exception Handling\n",
    "def divide_safely(a, b):\n",
    "    try:\n",
    "        result = a / b\n",
    "        return result\n",
    "    except ZeroDivisionError:\n",
    "        print(\"Error: Division by zero!\")\n",
    "\n",
    "# Call the function with and without potential error\n",
    "result1 = divide_safely(10, 2)\n",
    "print(f\"Result 1: {result1}\")\n",
    "\n",
    "result2 = divide_safely(5, 0)\n"
   ]
  },
  {
   "cell_type": "code",
   "execution_count": null,
   "metadata": {},
   "outputs": [],
   "source": []
  }
 ],
 "metadata": {
  "kernelspec": {
   "display_name": "python_ml",
   "language": "python",
   "name": "python3"
  },
  "language_info": {
   "codemirror_mode": {
    "name": "ipython",
    "version": 3
   },
   "file_extension": ".py",
   "mimetype": "text/x-python",
   "name": "python",
   "nbconvert_exporter": "python",
   "pygments_lexer": "ipython3",
   "version": "3.11.5"
  }
 },
 "nbformat": 4,
 "nbformat_minor": 2
}
