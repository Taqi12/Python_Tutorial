{
 "cells": [
  {
   "cell_type": "markdown",
   "metadata": {},
   "source": [
    "## Variable Scopes "
   ]
  },
  {
   "cell_type": "markdown",
   "metadata": {},
   "source": [
    "- `Definition`\n",
    "  - Variable scope in Python refers to the region of the code where a particular variable is accessible. \n",
    "  - Python has three main types of variable scopes:\n",
    "\n",
    "    - `Local Scope`\n",
    "      - Variables declared inside a function or block of code have local scope.\n",
    "      - Local variables are used for temporary storage within a specific function or block.\n",
    "  \n",
    "    - `Global Scope`\n",
    "      - Variables declared at the top level of a script or module have global scope.\n",
    "      - Global variables are accessible throughout the entire codebase, allowing shared data between functions and modules.\n",
    "  \n",
    "    - `Enclosing/Nonlocal Scope`\n",
    "      - Variables used in nested functions that are not local but also not global have enclosing (or nonlocal) scope.\n",
    "      - Accessible from both the inner and outer functions.\n",
    "  \n",
    "    - `Built-in Scope`\n",
    "      - Exist throughout the program's execution.\n",
    "      - Should not be modified; they are typically read-only.\n",
    "      - print(), len(), sum() etc."
   ]
  },
  {
   "cell_type": "code",
   "execution_count": null,
   "metadata": {},
   "outputs": [],
   "source": []
  },
  {
   "cell_type": "code",
   "execution_count": null,
   "metadata": {},
   "outputs": [],
   "source": []
  },
  {
   "cell_type": "markdown",
   "metadata": {},
   "source": [
    "## Varible Scopes Comparison"
   ]
  },
  {
   "cell_type": "markdown",
   "metadata": {},
   "source": [
    "| Feature                    | Local Scope (Function Scope)                                    | Global Scope (Module Scope)                                   | Enclosing Scope (Nested Scope)                                | Built-in Scope                                               |\n",
    "|----------------------------|-----------------------------------------------------------------|----------------------------------------------------------------|--------------------------------------------------------------|--------------------------------------------------------------|\n",
    "| Accessibility              | Accessible only within the function where they are defined.     | Accessible from any part of the module.                      | Accessible from both inner and outer functions.              | Accessible from any part of the program.                     |\n",
    "| Lifetime                   | Exist only during the execution of the function.                | Exist as long as the program is running.                     | Exist as long as the inner function exists.                  | Exist throughout the program's execution.                    |\n",
    "| Modifiability              | Can be modified within the function.                            | Can be modified globally.                                    | Can be modified within the inner function.                   | Should not be modified; typically read-only.                |\n",
    "| Can Shadow Outer Variables | No                                                              | Yes                                                            | No                                                           | No                                                           |\n"
   ]
  },
  {
   "cell_type": "code",
   "execution_count": null,
   "metadata": {},
   "outputs": [],
   "source": []
  },
  {
   "cell_type": "code",
   "execution_count": null,
   "metadata": {},
   "outputs": [],
   "source": []
  },
  {
   "cell_type": "markdown",
   "metadata": {},
   "source": [
    "## Local Scope"
   ]
  },
  {
   "cell_type": "markdown",
   "metadata": {},
   "source": [
    "### Accessing Local Variable Within a Function"
   ]
  },
  {
   "cell_type": "code",
   "execution_count": 3,
   "metadata": {},
   "outputs": [
    {
     "name": "stdout",
     "output_type": "stream",
     "text": [
      "10\n"
     ]
    }
   ],
   "source": [
    "def my_function():\n",
    "    x = 10  # local variable\n",
    "    print(x)  # accessible within the function\n",
    "\n",
    "my_function()  \n"
   ]
  },
  {
   "cell_type": "code",
   "execution_count": null,
   "metadata": {},
   "outputs": [],
   "source": []
  },
  {
   "cell_type": "markdown",
   "metadata": {},
   "source": [
    "### Attempting to Access Local Variable Outside the Function"
   ]
  },
  {
   "cell_type": "code",
   "execution_count": 5,
   "metadata": {},
   "outputs": [
    {
     "ename": "NameError",
     "evalue": "name 'x' is not defined",
     "output_type": "error",
     "traceback": [
      "\u001b[0;31m---------------------------------------------------------------------------\u001b[0m",
      "\u001b[0;31mNameError\u001b[0m                                 Traceback (most recent call last)",
      "Cell \u001b[0;32mIn[5], line 5\u001b[0m\n\u001b[1;32m      2\u001b[0m     x \u001b[38;5;241m=\u001b[39m \u001b[38;5;241m10\u001b[39m  \u001b[38;5;66;03m# local variable\u001b[39;00m\n\u001b[1;32m      4\u001b[0m my_function()\n\u001b[0;32m----> 5\u001b[0m \u001b[38;5;28mprint\u001b[39m(x)\n",
      "\u001b[0;31mNameError\u001b[0m: name 'x' is not defined"
     ]
    }
   ],
   "source": [
    "def my_function():\n",
    "    x = 10  # local variable\n",
    "\n",
    "my_function()\n",
    "print(x)  # This would raise an error since x is not accessible outside the function\n"
   ]
  },
  {
   "cell_type": "code",
   "execution_count": null,
   "metadata": {},
   "outputs": [],
   "source": []
  },
  {
   "cell_type": "markdown",
   "metadata": {},
   "source": [
    "### Reusing Local Variable Name in Another Function"
   ]
  },
  {
   "cell_type": "code",
   "execution_count": 7,
   "metadata": {},
   "outputs": [
    {
     "name": "stdout",
     "output_type": "stream",
     "text": [
      "10\n",
      "20\n"
     ]
    }
   ],
   "source": [
    "def first_function():\n",
    "    x = 10  # local variable\n",
    "    print(x)  # accessible within the function\n",
    "\n",
    "def second_function():\n",
    "    x = 20  # another local variable with the same name\n",
    "    print(x)  # accessible within the function\n",
    "\n",
    "first_function()  \n",
    "second_function()  \n"
   ]
  },
  {
   "cell_type": "code",
   "execution_count": null,
   "metadata": {},
   "outputs": [],
   "source": []
  },
  {
   "cell_type": "markdown",
   "metadata": {},
   "source": [
    "### Modifying Local Variable Inside a Loop"
   ]
  },
  {
   "cell_type": "code",
   "execution_count": 8,
   "metadata": {},
   "outputs": [
    {
     "name": "stdout",
     "output_type": "stream",
     "text": [
      "0\n",
      "1\n",
      "2\n",
      "3\n",
      "4\n"
     ]
    }
   ],
   "source": [
    "def loop_example():\n",
    "    for i in range(5):\n",
    "        x = i  # local variable\n",
    "        print(x)  # accessible within the loop\n",
    "\n",
    "loop_example()  "
   ]
  },
  {
   "cell_type": "code",
   "execution_count": null,
   "metadata": {},
   "outputs": [],
   "source": []
  },
  {
   "cell_type": "markdown",
   "metadata": {},
   "source": [
    "### Local Variable Shadowing Global Variable\n",
    "- When a local variable has the same name as a global variable we say that the local shadows the global. \n",
    "- A shadow means that the global variable cannot be accessed by Python because the local variable will be found first."
   ]
  },
  {
   "cell_type": "code",
   "execution_count": 10,
   "metadata": {},
   "outputs": [
    {
     "name": "stdout",
     "output_type": "stream",
     "text": [
      "10\n",
      "100\n"
     ]
    }
   ],
   "source": [
    "x = 100  # global variable\n",
    "\n",
    "def my_function():\n",
    "    x = 10  # local variable with the same name\n",
    "    print(x)  # prints the local variable\n",
    "\n",
    "my_function() \n",
    "print(x)  "
   ]
  },
  {
   "cell_type": "code",
   "execution_count": null,
   "metadata": {},
   "outputs": [],
   "source": []
  },
  {
   "cell_type": "markdown",
   "metadata": {},
   "source": [
    "### Nested Functions and Local Variables"
   ]
  },
  {
   "cell_type": "code",
   "execution_count": 11,
   "metadata": {},
   "outputs": [
    {
     "name": "stdout",
     "output_type": "stream",
     "text": [
      "10\n"
     ]
    }
   ],
   "source": [
    "def outer_function():\n",
    "    x = 10  # outer function's local variable\n",
    "\n",
    "    def inner_function():\n",
    "        print(x)  # inner function can access outer function's local variable\n",
    "\n",
    "    inner_function()\n",
    "\n",
    "outer_function()  "
   ]
  },
  {
   "cell_type": "code",
   "execution_count": null,
   "metadata": {},
   "outputs": [],
   "source": []
  },
  {
   "cell_type": "code",
   "execution_count": null,
   "metadata": {},
   "outputs": [],
   "source": []
  },
  {
   "cell_type": "markdown",
   "metadata": {},
   "source": [
    "## Global Scope"
   ]
  },
  {
   "cell_type": "markdown",
   "metadata": {},
   "source": [
    "### Accessing Global Variable Within a Function"
   ]
  },
  {
   "cell_type": "code",
   "execution_count": 13,
   "metadata": {},
   "outputs": [
    {
     "name": "stdout",
     "output_type": "stream",
     "text": [
      "10\n"
     ]
    }
   ],
   "source": [
    "x = 10  # global variable\n",
    "\n",
    "def my_function():\n",
    "    print(x)  # accessible within the function\n",
    "\n",
    "my_function() "
   ]
  },
  {
   "cell_type": "code",
   "execution_count": null,
   "metadata": {},
   "outputs": [],
   "source": []
  },
  {
   "cell_type": "markdown",
   "metadata": {},
   "source": [
    "### Modifying Global Variable Inside a Function"
   ]
  },
  {
   "cell_type": "code",
   "execution_count": 15,
   "metadata": {},
   "outputs": [
    {
     "name": "stdout",
     "output_type": "stream",
     "text": [
      "15\n"
     ]
    }
   ],
   "source": [
    "x = 10  # global variable\n",
    "\n",
    "def modify_global():\n",
    "    global x  # declare 'x' as global within the function\n",
    "    x += 5  # modify global variable\n",
    "\n",
    "modify_global()\n",
    "print(x)  "
   ]
  },
  {
   "cell_type": "code",
   "execution_count": null,
   "metadata": {},
   "outputs": [],
   "source": []
  },
  {
   "cell_type": "markdown",
   "metadata": {},
   "source": [
    "### Global Variable Shadowed by Local Variable"
   ]
  },
  {
   "cell_type": "code",
   "execution_count": 20,
   "metadata": {},
   "outputs": [
    {
     "name": "stdout",
     "output_type": "stream",
     "text": [
      "20\n",
      "10\n"
     ]
    }
   ],
   "source": [
    "x = 10  # global variable\n",
    "\n",
    "def my_function():\n",
    "    x = 20  # local variable with the same name\n",
    "    print(x)  # prints the local variable\n",
    "\n",
    "my_function() \n",
    "print(x)  "
   ]
  },
  {
   "cell_type": "code",
   "execution_count": null,
   "metadata": {},
   "outputs": [],
   "source": []
  },
  {
   "cell_type": "code",
   "execution_count": null,
   "metadata": {},
   "outputs": [],
   "source": []
  },
  {
   "cell_type": "markdown",
   "metadata": {},
   "source": [
    "## Enclosed/Non-Local Scope"
   ]
  },
  {
   "cell_type": "markdown",
   "metadata": {},
   "source": [
    "### Accessing Enclosing Scope Variable in Nested Function"
   ]
  },
  {
   "cell_type": "code",
   "execution_count": 21,
   "metadata": {},
   "outputs": [
    {
     "name": "stdout",
     "output_type": "stream",
     "text": [
      "10\n"
     ]
    }
   ],
   "source": [
    "def outer_function():\n",
    "    x = 10  # variable in the enclosing scope\n",
    "\n",
    "    def inner_function():\n",
    "        print(x)  # accessible from the enclosing scope\n",
    "\n",
    "    inner_function()\n",
    "\n",
    "outer_function()  \n"
   ]
  },
  {
   "cell_type": "code",
   "execution_count": null,
   "metadata": {},
   "outputs": [],
   "source": []
  },
  {
   "cell_type": "markdown",
   "metadata": {},
   "source": [
    "### Modifying Enclosing Scope Variable in Nested Function"
   ]
  },
  {
   "cell_type": "code",
   "execution_count": 22,
   "metadata": {},
   "outputs": [
    {
     "name": "stdout",
     "output_type": "stream",
     "text": [
      "15\n"
     ]
    }
   ],
   "source": [
    "def outer_function():\n",
    "    x = 10  # variable in the enclosing scope\n",
    "\n",
    "    def inner_function():\n",
    "        nonlocal x  # specifying x as non-local to modify the variable from the enclosing scope\n",
    "        x += 5  # modifying the value of x from the enclosing scope\n",
    "        print(x)  # modified value of x\n",
    "\n",
    "    inner_function()\n",
    "\n",
    "outer_function()  "
   ]
  },
  {
   "cell_type": "code",
   "execution_count": null,
   "metadata": {},
   "outputs": [],
   "source": []
  }
 ],
 "metadata": {
  "kernelspec": {
   "display_name": "python_ml",
   "language": "python",
   "name": "python3"
  },
  "language_info": {
   "codemirror_mode": {
    "name": "ipython",
    "version": 3
   },
   "file_extension": ".py",
   "mimetype": "text/x-python",
   "name": "python",
   "nbconvert_exporter": "python",
   "pygments_lexer": "ipython3",
   "version": "3.11.5"
  }
 },
 "nbformat": 4,
 "nbformat_minor": 2
}
