{
 "cells": [
  {
   "cell_type": "markdown",
   "metadata": {},
   "source": [
    "## Variable Scopes "
   ]
  },
  {
   "cell_type": "markdown",
   "metadata": {},
   "source": [
    "- `Definition`\n",
    "  - Variable scope in Python refers to the region of the code where a particular variable is accessible. \n",
    "  - Python has three main types of variable scopes:\n",
    "\n",
    "    - `Local Scope`\n",
    "      - Variables declared inside a function or block of code have local scope.\n",
    "      - Local variables are used for temporary storage within a specific function or block.\n",
    "  \n",
    "    - `Global Scope`\n",
    "      - Variables declared at the top level of a script or module have global scope.\n",
    "      - Global variables are accessible throughout the entire codebase, allowing shared data between functions and modules.\n",
    "  \n",
    "    - `Enclosing/Nonlocal Scope`\n",
    "      - Variables used in nested functions that are not local but also not global have enclosing (or nonlocal) scope.\n",
    "      - Nonlocal variables are useful when you need to modify a variable in an outer (but non-global) scope from within a nested function.\n"
   ]
  },
  {
   "cell_type": "code",
   "execution_count": 3,
   "metadata": {},
   "outputs": [
    {
     "name": "stdout",
     "output_type": "stream",
     "text": [
      "I am local\n"
     ]
    }
   ],
   "source": [
    "# local variable scope\n",
    "\n",
    "def example_function():\n",
    "    local_variable = \"I am local\"\n",
    "    print(local_variable)\n",
    "\n",
    "example_function()"
   ]
  },
  {
   "cell_type": "code",
   "execution_count": 5,
   "metadata": {},
   "outputs": [
    {
     "name": "stdout",
     "output_type": "stream",
     "text": [
      "I am global\n"
     ]
    }
   ],
   "source": [
    "# global variable scope\n",
    "\n",
    "global_variable = \"I am global\"\n",
    "def example_function():\n",
    "    print(global_variable)\n",
    "\n",
    "example_function()"
   ]
  },
  {
   "cell_type": "code",
   "execution_count": 6,
   "metadata": {},
   "outputs": [
    {
     "name": "stdout",
     "output_type": "stream",
     "text": [
      "I am modified in inner\n"
     ]
    }
   ],
   "source": [
    "# enclosing variable scope\n",
    "\n",
    "def outer_function():\n",
    "    outer_variable = \"I am outer\"\n",
    "    def inner_function():\n",
    "        nonlocal outer_variable\n",
    "        outer_variable = \"I am modified in inner\"\n",
    "    inner_function()\n",
    "    print(outer_variable)\n",
    "\n",
    "outer_function()"
   ]
  },
  {
   "cell_type": "code",
   "execution_count": 7,
   "metadata": {},
   "outputs": [
    {
     "name": "stdout",
     "output_type": "stream",
     "text": [
      "Inside the function: I am local\n",
      "Inside the inner function: I am modified in inner_function\n",
      "Outside the function: I am modified inside the function\n"
     ]
    }
   ],
   "source": [
    "# Global variable\n",
    "global_variable = \"I am global\"\n",
    "\n",
    "def example_function():\n",
    "    # Local variable\n",
    "    local_variable = \"I am local\"\n",
    "    print(f\"Inside the function: {local_variable}\")\n",
    "\n",
    "    # Modifying the global variable within the function\n",
    "    global global_variable\n",
    "    global_variable = \"I am modified inside the function\"\n",
    "\n",
    "    def inner_function():\n",
    "        # Nonlocal variable\n",
    "        nonlocal local_variable\n",
    "        local_variable = \"I am modified in inner_function\"\n",
    "        print(f\"Inside the inner function: {local_variable}\")\n",
    "\n",
    "    # Calling the inner function\n",
    "    inner_function()\n",
    "\n",
    "# Call the function\n",
    "example_function()\n",
    "\n",
    "# Accessing local_variable outside the function will result in an error\n",
    "# print(f\"Outside the function: {local_variable}\")  # Uncommenting this line will raise an error\n",
    "\n",
    "# Accessing the modified global_variable outside the function\n",
    "print(f\"Outside the function: {global_variable}\")\n"
   ]
  },
  {
   "cell_type": "code",
   "execution_count": null,
   "metadata": {},
   "outputs": [],
   "source": []
  }
 ],
 "metadata": {
  "kernelspec": {
   "display_name": "python_ml",
   "language": "python",
   "name": "python3"
  },
  "language_info": {
   "codemirror_mode": {
    "name": "ipython",
    "version": 3
   },
   "file_extension": ".py",
   "mimetype": "text/x-python",
   "name": "python",
   "nbconvert_exporter": "python",
   "pygments_lexer": "ipython3",
   "version": "3.11.5"
  }
 },
 "nbformat": 4,
 "nbformat_minor": 2
}
