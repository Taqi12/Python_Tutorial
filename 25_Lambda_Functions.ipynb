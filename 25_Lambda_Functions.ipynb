{
 "cells": [
  {
   "cell_type": "markdown",
   "metadata": {},
   "source": [
    "## Lambda Functions"
   ]
  },
  {
   "cell_type": "code",
   "execution_count": 1,
   "metadata": {},
   "outputs": [
    {
     "name": "stdout",
     "output_type": "stream",
     "text": [
      "The square of 5 is: 25\n"
     ]
    }
   ],
   "source": [
    "# Example 1: Basic Lambda Function\n",
    "\n",
    "# Lambda function to square a number\n",
    "square = lambda x: x ** 2\n",
    "\n",
    "# Call the lambda function\n",
    "result = square(5)\n",
    "print(f\"The square of 5 is: {result}\")\n"
   ]
  },
  {
   "cell_type": "code",
   "execution_count": 2,
   "metadata": {},
   "outputs": [
    {
     "name": "stdout",
     "output_type": "stream",
     "text": [
      "The sum of 3 and 4 is: 7\n"
     ]
    }
   ],
   "source": [
    "# Example 2: Lambda Function with Multiple Parameters\n",
    "\n",
    "# Lambda function to calculate the sum of two numbers\n",
    "add = lambda x, y: x + y\n",
    "\n",
    "# Call the lambda function\n",
    "result = add(3, 4)\n",
    "print(f\"The sum of 3 and 4 is: {result}\")\n"
   ]
  },
  {
   "cell_type": "code",
   "execution_count": 3,
   "metadata": {},
   "outputs": [
    {
     "name": "stdout",
     "output_type": "stream",
     "text": [
      "Squared numbers: [1, 4, 9, 16, 25]\n"
     ]
    }
   ],
   "source": [
    "# Example 3: Lambda Function in Map\n",
    "# Use lambda function with map to square each element in a list\n",
    "numbers = [1, 2, 3, 4, 5]\n",
    "squared_numbers = list(map(lambda x: x ** 2, numbers))\n",
    "print(f\"Squared numbers: {squared_numbers}\")"
   ]
  },
  {
   "cell_type": "code",
   "execution_count": 4,
   "metadata": {},
   "outputs": [
    {
     "name": "stdout",
     "output_type": "stream",
     "text": [
      "Even numbers: [2, 4, 6, 8]\n"
     ]
    }
   ],
   "source": [
    "# Example 4: Lambda Function in Filter\n",
    "# Use lambda function with filter to get even numbers from a list\n",
    "numbers = [1, 2, 3, 4, 5, 6, 7, 8, 9]\n",
    "even_numbers = list(filter(lambda x: x % 2 == 0, numbers))\n",
    "print(f\"Even numbers: {even_numbers}\")"
   ]
  },
  {
   "cell_type": "code",
   "execution_count": 7,
   "metadata": {},
   "outputs": [
    {
     "name": "stdout",
     "output_type": "stream",
     "text": [
      "Sorted pairs: [(2, 1), (5, 2), (1, 3), (4, 4)]\n"
     ]
    }
   ],
   "source": [
    "# Example 5: Lambda Function in Sorting\n",
    "# Use lambda function in sorted to sort a list of tuples by the second element\n",
    "pairs = [(1, 3), (2, 1), (5, 2), (4, 4)]\n",
    "sorted_pairs = sorted(pairs, key=lambda x: x[1])\n",
    "print(f\"Sorted pairs: {sorted_pairs}\")"
   ]
  },
  {
   "cell_type": "code",
   "execution_count": 9,
   "metadata": {},
   "outputs": [
    {
     "name": "stdout",
     "output_type": "stream",
     "text": [
      "Addition result: 8\n",
      "Multiplication result: 24\n"
     ]
    }
   ],
   "source": [
    "# Example 6: Lambda Function as Argument\n",
    "\n",
    "# Lambda function used as an argument in a higher-order function\n",
    "def operate_on_numbers(x, y, operation):\n",
    "    return operation(x, y)\n",
    "\n",
    "result_addition = operate_on_numbers(5, 3, lambda a, b: a + b)\n",
    "result_multiplication = operate_on_numbers(4, 6, lambda a, b: a * b)\n",
    "\n",
    "print(f\"Addition result: {result_addition}\")\n",
    "print(f\"Multiplication result: {result_multiplication}\")"
   ]
  },
  {
   "cell_type": "code",
   "execution_count": 10,
   "metadata": {},
   "outputs": [
    {
     "name": "stdout",
     "output_type": "stream",
     "text": [
      "Result 1: Even\n",
      "Result 2: Odd\n"
     ]
    }
   ],
   "source": [
    "# Example 7: Lambda Function with Conditional Expression\n",
    "# Lambda function with a conditional expression to check if a number is even or odd\n",
    "check_even_odd = lambda x: \"Even\" if x % 2 == 0 else \"Odd\"\n",
    "\n",
    "# Call the lambda function\n",
    "result1 = check_even_odd(10)\n",
    "result2 = check_even_odd(7)\n",
    "\n",
    "print(f\"Result 1: {result1}\")\n",
    "print(f\"Result 2: {result2}\")"
   ]
  },
  {
   "cell_type": "code",
   "execution_count": 11,
   "metadata": {},
   "outputs": [
    {
     "name": "stdout",
     "output_type": "stream",
     "text": [
      "2 raised to the power of 3 is: 8\n"
     ]
    }
   ],
   "source": [
    "# Example 8: Lambda Function for Exponential Operation\n",
    "\n",
    "# Lambda function for exponentiation\n",
    "power_of_two = lambda x: 2 ** x\n",
    "\n",
    "# Call the lambda function\n",
    "result = power_of_two(3)\n",
    "print(f\"2 raised to the power of 3 is: {result}\")\n"
   ]
  },
  {
   "cell_type": "code",
   "execution_count": 15,
   "metadata": {},
   "outputs": [
    {
     "name": "stdout",
     "output_type": "stream",
     "text": [
      "Squared even numbers: [4, 16]\n"
     ]
    }
   ],
   "source": [
    "# Example 9: Lambda Function with List Comprehension\n",
    "\n",
    "# Lambda function used with list comprehension to filter and transform elements\n",
    "numbers = [1, 2, 3, 4, 5]\n",
    "squared_even_numbers = [(lambda x: x ** 2)(num) for num in numbers if num % 2 == 0]\n",
    "\n",
    "print(f\"Squared even numbers: {squared_even_numbers}\")"
   ]
  },
  {
   "cell_type": "code",
   "execution_count": 16,
   "metadata": {},
   "outputs": [
    {
     "name": "stdout",
     "output_type": "stream",
     "text": [
      "Reversed string: olleh\n"
     ]
    }
   ],
   "source": [
    "# Example 10: Lambda Function for String Manipulation\n",
    "\n",
    "# Lambda function for reversing a string\n",
    "reverse_string = lambda s: s[::-1]\n",
    "\n",
    "# Call the lambda function\n",
    "result = reverse_string(\"hello\")\n",
    "print(f\"Reversed string: {result}\")\n"
   ]
  },
  {
   "cell_type": "code",
   "execution_count": 17,
   "metadata": {},
   "outputs": [
    {
     "name": "stdout",
     "output_type": "stream",
     "text": [
      "Sorted grades: {'Alice': 95, 'Charlie': 90, 'Bob': 82, 'David': 78}\n"
     ]
    }
   ],
   "source": [
    "# Example 11: Lambda Function in Dictionary Sorting\n",
    "\n",
    "# Use lambda function in sorted to sort a dictionary by values\n",
    "grades = {'Alice': 95, 'Bob': 82, 'Charlie': 90, 'David': 78}\n",
    "sorted_grades = dict(sorted(grades.items(), key=lambda x: x[1], reverse=True))\n",
    "print(f\"Sorted grades: {sorted_grades}\")"
   ]
  },
  {
   "cell_type": "code",
   "execution_count": 18,
   "metadata": {},
   "outputs": [
    {
     "name": "stdout",
     "output_type": "stream",
     "text": [
      "Combined operations result: (6, 9, 8)\n"
     ]
    }
   ],
   "source": [
    "# Example 12: Lambda Function with Multiple Operations\n",
    "\n",
    "# Lambda function with multiple operations\n",
    "combine_operations = lambda x: (x * 2, x ** 2, x + 5)\n",
    "\n",
    "# Call the lambda function\n",
    "result = combine_operations(3)\n",
    "print(f\"Combined operations result: {result}\")"
   ]
  },
  {
   "cell_type": "code",
   "execution_count": 19,
   "metadata": {},
   "outputs": [
    {
     "name": "stdout",
     "output_type": "stream",
     "text": [
      "Positive numbers in nested list: [[1, -2, 3], [-4, 5, -6], [7, -8, 9]]\n"
     ]
    }
   ],
   "source": [
    "# Example 13: Lambda Function for Filtering Nested Lists\n",
    "\n",
    "# Lambda function with filter for extracting positive numbers from a nested list\n",
    "nested_numbers = [[1, -2, 3], [-4, 5, -6], [7, -8, 9]]\n",
    "positive_numbers = list(filter(lambda sublist: any(map(lambda x: x > 0, sublist)), nested_numbers))\n",
    "print(f\"Positive numbers in nested list: {positive_numbers}\")\n"
   ]
  },
  {
   "cell_type": "code",
   "execution_count": 20,
   "metadata": {},
   "outputs": [
    {
     "name": "stdout",
     "output_type": "stream",
     "text": [
      "Product of numbers: 120\n"
     ]
    }
   ],
   "source": [
    "# Example 14: Lambda Function with Reduce for Product Calculation\n",
    "\n",
    "from functools import reduce\n",
    "\n",
    "# Lambda function with reduce to calculate the product of a list of numbers\n",
    "numbers = [2, 3, 4, 5]\n",
    "product = reduce(lambda x, y: x * y, numbers)\n",
    "print(f\"Product of numbers: {product}\")\n"
   ]
  },
  {
   "cell_type": "code",
   "execution_count": 21,
   "metadata": {},
   "outputs": [
    {
     "name": "stdout",
     "output_type": "stream",
     "text": [
      "Capitalized words: ['Apple', 'Banana', 'Cherry']\n"
     ]
    }
   ],
   "source": [
    "# Example 15: Lambda Function for Capitalizing Words in a List\n",
    "\n",
    "# Lambda function to capitalize each word in a list\n",
    "words = ['apple', 'banana', 'cherry']\n",
    "capitalized_words = list(map(lambda word: word.capitalize(), words))\n",
    "print(f\"Capitalized words: {capitalized_words}\")\n"
   ]
  },
  {
   "cell_type": "code",
   "execution_count": 22,
   "metadata": {},
   "outputs": [
    {
     "name": "stdout",
     "output_type": "stream",
     "text": [
      "Result 1: True\n",
      "Result 2: False\n"
     ]
    }
   ],
   "source": [
    "# Example 16: Lambda Function for Checking Palindrome\n",
    "\n",
    "# Lambda function to check if a string is a palindrome\n",
    "is_palindrome = lambda s: s.lower() == s.lower()[::-1]\n",
    "\n",
    "# Call the lambda function\n",
    "result1 = is_palindrome(\"level\")\n",
    "result2 = is_palindrome(\"Python\")\n",
    "\n",
    "print(f\"Result 1: {result1}\")\n",
    "print(f\"Result 2: {result2}\")"
   ]
  },
  {
   "cell_type": "code",
   "execution_count": 27,
   "metadata": {},
   "outputs": [
    {
     "name": "stdout",
     "output_type": "stream",
     "text": [
      "Factorial of 5: 120\n"
     ]
    }
   ],
   "source": [
    "# Example 17: Lambda Function for Calculating Factorial\n",
    "\n",
    "# Lambda function to calculate factorial using recursion\n",
    "factorial = (lambda f: lambda x: f(f, x))(lambda self, n: 1 if n == 0 else n * self(self, n - 1))\n",
    "\n",
    "# Call the lambda function\n",
    "result = factorial(5)\n",
    "print(f\"Factorial of 5: {result}\")\n"
   ]
  },
  {
   "cell_type": "code",
   "execution_count": 26,
   "metadata": {},
   "outputs": [
    {
     "name": "stdout",
     "output_type": "stream",
     "text": [
      "Unique numbers: [1, 3, 5]\n"
     ]
    }
   ],
   "source": [
    "# Example 18: Lambda Function for Filtering Unique Elements\n",
    "\n",
    "# Lambda function with set to filter unique elements from a list\n",
    "numbers = [1, 2, 2, 3, 4, 4, 5]\n",
    "unique_numbers = list(set(filter(lambda x: numbers.count(x) == 1, numbers)))\n",
    "print(f\"Unique numbers: {unique_numbers}\")\n"
   ]
  },
  {
   "cell_type": "code",
   "execution_count": null,
   "metadata": {},
   "outputs": [],
   "source": [
    "\n"
   ]
  }
 ],
 "metadata": {
  "kernelspec": {
   "display_name": "python_ml",
   "language": "python",
   "name": "python3"
  },
  "language_info": {
   "codemirror_mode": {
    "name": "ipython",
    "version": 3
   },
   "file_extension": ".py",
   "mimetype": "text/x-python",
   "name": "python",
   "nbconvert_exporter": "python",
   "pygments_lexer": "ipython3",
   "version": "3.11.5"
  }
 },
 "nbformat": 4,
 "nbformat_minor": 2
}
