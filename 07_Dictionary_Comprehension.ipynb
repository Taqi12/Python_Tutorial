{
 "cells": [
  {
   "cell_type": "markdown",
   "metadata": {},
   "source": [
    "## Dictionary Comprehension"
   ]
  },
  {
   "cell_type": "markdown",
   "metadata": {},
   "source": [
    "- `Definition`\n",
    "  - Set comprehension is a concise way to create dictionary in Python. \n",
    "  - It allows you to create a new new by specifying key-value pairs based on a condition or transformation applied to existing iterable objects.\n",
    "- `Syntax`\n",
    "  - The syntax is similar to list comprehensions and set comprehension, but it uses curly braces {} and a key-value pair expression.\n",
    "    - `new_dict = {key_expression: value_expression for item in iterable if condition}`\n",
    "      - key_expression: The operation or value used for dictionary keys.\n",
    "      - value_expression: The operation or value used for dictionary values.\n",
    "      - item: The variable representing each element in the iterable.\n",
    "      - iterable: The existing iterable (e.g., a list, tuple, or string) that you are iterating over.\n",
    "      - condition (optional): A filtering condition to include only certain elements."
   ]
  },
  {
   "cell_type": "code",
   "execution_count": 1,
   "metadata": {},
   "outputs": [
    {
     "name": "stdout",
     "output_type": "stream",
     "text": [
      "{0: 0, 1: 1, 2: 4, 3: 9, 4: 16}\n"
     ]
    }
   ],
   "source": [
    "# Example 1 : Dictionary Comprehension\n",
    "# Create a dictionary of squares for numbers 0 to 4\n",
    "squares_dict = {x: x**2 for x in range(5)}\n",
    "print(squares_dict)"
   ]
  },
  {
   "cell_type": "code",
   "execution_count": 2,
   "metadata": {},
   "outputs": [
    {
     "name": "stdout",
     "output_type": "stream",
     "text": [
      "{0: 0, 2: 4, 4: 16, 6: 36, 8: 64}\n"
     ]
    }
   ],
   "source": [
    "# Example 2 : Dictionary Comprehension with condition\n",
    "# Create a dictionary of even numbers and their squares from 0 to 9\n",
    "even_squares_dict = {x: x**2 for x in range(10) if x % 2 == 0}\n",
    "print(even_squares_dict)"
   ]
  },
  {
   "cell_type": "code",
   "execution_count": 3,
   "metadata": {},
   "outputs": [
    {
     "name": "stdout",
     "output_type": "stream",
     "text": [
      "{'D': 68, 'i': 105, 'c': 99, 't': 116, 'o': 111, 'n': 110, 'a': 97, 'r': 114, 'y': 121, ' ': 32, 'm': 109, 'p': 112, 'e': 101, 'h': 104, 's': 115, 'u': 117, 'f': 102, 'l': 108}\n"
     ]
    }
   ],
   "source": [
    "# Example 3 : Dictionary Comprehension with String Manipulation\n",
    "# Create a dictionary mapping each character to its ASCII value in a string\n",
    "sentence = \"Dictionary comprehensions are useful\"\n",
    "char_ascii_dict = {char: ord(char) for char in sentence}\n",
    "print(char_ascii_dict)"
   ]
  },
  {
   "cell_type": "code",
   "execution_count": 4,
   "metadata": {},
   "outputs": [
    {
     "name": "stdout",
     "output_type": "stream",
     "text": [
      "{0: 0, 1: 1, 2: 4, 3: 27, 4: 16, 5: 125, 6: 36, 7: 343, 8: 64, 9: 729}\n"
     ]
    }
   ],
   "source": [
    "# Example 4 : Dictionary Comprehension with Conditional value transformation\n",
    "# Create a dictionary of even numbers with their squares and odd numbers with their cubes from 0 to 9\n",
    "number_dict = {x: x**2 if x % 2 == 0 else x**3 for x in range(10)}\n",
    "print(number_dict)"
   ]
  },
  {
   "cell_type": "code",
   "execution_count": 5,
   "metadata": {},
   "outputs": [
    {
     "name": "stdout",
     "output_type": "stream",
     "text": [
      "{'Dictionary': 10, 'comprehensions': 14, 'can': 3, 'be': 2, 'nested': 6}\n"
     ]
    }
   ],
   "source": [
    "# Example 5 : Dictionary Comprehension with Nested Iterations\n",
    "# Create a dictionary mapping each word to its length in a sentence\n",
    "sentence = \"Dictionary comprehensions can be nested\"\n",
    "word_length_dict = {word: len(word) for word in sentence.split()}\n",
    "print(word_length_dict)"
   ]
  },
  {
   "cell_type": "code",
   "execution_count": 6,
   "metadata": {},
   "outputs": [
    {
     "name": "stdout",
     "output_type": "stream",
     "text": [
      "{'P': {80}, 'y': {121}, 't': {116}, 'h': {104}, 'o': {111}, 'n': {110}, 'd': {100}, 'i': {105}, 'c': {99}, 'a': {97}, 'r': {114}, 'e': {101}, 's': {115}, 'v': {118}, 'l': {108}}\n"
     ]
    }
   ],
   "source": [
    "# Example 6 : Dictionary Comprehension with Set Comprehension\n",
    "# Create a dictionary with letters as keys and their ASCII values as a set\n",
    "sentence = \"Python dictionaries are versatile\"\n",
    "char_ascii_set_dict = {char: {ord(char)} for char in sentence if char.isalpha()}\n",
    "print(char_ascii_set_dict)"
   ]
  },
  {
   "cell_type": "code",
   "execution_count": 7,
   "metadata": {},
   "outputs": [
    {
     "name": "stdout",
     "output_type": "stream",
     "text": [
      "{'o': 2, 'i': 2, 'a': 4, 'u': 1, 'e': 1}\n"
     ]
    }
   ],
   "source": [
    "# Example 7 : Dictionary Comprehension with Filtering\n",
    "# Create a dictionary with only vowels and their counts in a sentence\n",
    "sentence = \"Python is a programming language\"\n",
    "vowel_count_dict = {char: sentence.count(char) for char in sentence if char.lower() in 'aeiou'}\n",
    "print(vowel_count_dict)"
   ]
  },
  {
   "cell_type": "code",
   "execution_count": null,
   "metadata": {},
   "outputs": [],
   "source": []
  }
 ],
 "metadata": {
  "kernelspec": {
   "display_name": "python_ml",
   "language": "python",
   "name": "python3"
  },
  "language_info": {
   "codemirror_mode": {
    "name": "ipython",
    "version": 3
   },
   "file_extension": ".py",
   "mimetype": "text/x-python",
   "name": "python",
   "nbconvert_exporter": "python",
   "pygments_lexer": "ipython3",
   "version": "3.11.5"
  }
 },
 "nbformat": 4,
 "nbformat_minor": 2
}
