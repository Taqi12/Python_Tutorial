{
 "cells": [
  {
   "cell_type": "markdown",
   "metadata": {},
   "source": [
    "## Higher Order Functions"
   ]
  },
  {
   "cell_type": "code",
   "execution_count": 3,
   "metadata": {},
   "outputs": [
    {
     "name": "stdout",
     "output_type": "stream",
     "text": [
      "Doubled numbers: [2, 4, 6, 8, 10]\n"
     ]
    }
   ],
   "source": [
    "# Example 1: Map Function\n",
    "\n",
    "# Using the map function to double each element in a list\n",
    "numbers = [1, 2, 3, 4, 5]\n",
    "doubled_numbers = list(map(lambda x: x * 2, numbers))\n",
    "print(f\"Doubled numbers: {doubled_numbers}\")\n"
   ]
  },
  {
   "cell_type": "code",
   "execution_count": 4,
   "metadata": {},
   "outputs": [
    {
     "name": "stdout",
     "output_type": "stream",
     "text": [
      "Even numbers: [2, 4, 6, 8]\n"
     ]
    }
   ],
   "source": [
    "# Example 2: Filter Function\n",
    "\n",
    "# Using the filter function to get even numbers from a list\n",
    "numbers = [1, 2, 3, 4, 5, 6, 7, 8, 9]\n",
    "even_numbers = list(filter(lambda x: x % 2 == 0, numbers))\n",
    "print(f\"Even numbers: {even_numbers}\")\n"
   ]
  },
  {
   "cell_type": "code",
   "execution_count": 5,
   "metadata": {},
   "outputs": [
    {
     "name": "stdout",
     "output_type": "stream",
     "text": [
      "Product of numbers: 120\n"
     ]
    }
   ],
   "source": [
    "# Example 3: Reduce Function\n",
    "\n",
    "from functools import reduce\n",
    "\n",
    "# Using the reduce function to calculate the product of a list of numbers\n",
    "numbers = [2, 3, 4, 5]\n",
    "product = reduce(lambda x, y: x * y, numbers)\n",
    "print(f\"Product of numbers: {product}\")\n"
   ]
  },
  {
   "cell_type": "code",
   "execution_count": 1,
   "metadata": {},
   "outputs": [
    {
     "name": "stdout",
     "output_type": "stream",
     "text": [
      "Function executed.\n",
      "Execution time: 2.005201816558838 seconds\n"
     ]
    }
   ],
   "source": [
    "# Example 4: Decorator\n",
    "\n",
    "# Creating a decorator to measure the execution time of a function\n",
    "import time\n",
    "\n",
    "def timing_decorator(func):\n",
    "    def wrapper(*args, **kwargs):\n",
    "        start_time = time.time()\n",
    "        result = func(*args, **kwargs)\n",
    "        end_time = time.time()\n",
    "        print(f\"Execution time: {end_time - start_time} seconds\")\n",
    "        return result\n",
    "    return wrapper\n",
    "\n",
    "@timing_decorator\n",
    "def slow_function():\n",
    "    time.sleep(2)\n",
    "    print(\"Function executed.\")\n",
    "\n",
    "# Call the decorated function\n",
    "slow_function()\n"
   ]
  },
  {
   "cell_type": "code",
   "execution_count": 7,
   "metadata": {},
   "outputs": [
    {
     "name": "stdout",
     "output_type": "stream",
     "text": [
      "Result 1: 7\n",
      "Result 2: 10\n"
     ]
    }
   ],
   "source": [
    "# Example 5: Function as Argument\n",
    "\n",
    "# Defining a higher-order function that takes a function as an argument\n",
    "def apply_operation(func, x, y):\n",
    "    return func(x, y)\n",
    "\n",
    "# Example functions\n",
    "add = lambda a, b: a + b\n",
    "multiply = lambda a, b: a * b\n",
    "\n",
    "# Using the higher-order function\n",
    "result1 = apply_operation(add, 3, 4)\n",
    "result2 = apply_operation(multiply, 2, 5)\n",
    "\n",
    "print(f\"Result 1: {result1}\")\n",
    "print(f\"Result 2: {result2}\")\n"
   ]
  },
  {
   "cell_type": "code",
   "execution_count": 8,
   "metadata": {},
   "outputs": [
    {
     "name": "stdout",
     "output_type": "stream",
     "text": [
      "Square of 4: 16\n",
      "Cube of 3: 27\n"
     ]
    }
   ],
   "source": [
    "# Example 6: Function Returning a Function\n",
    "\n",
    "# Defining a higher-order function that returns a function\n",
    "def power_function(power):\n",
    "    return lambda x: x ** power\n",
    "\n",
    "# Using the returned function\n",
    "square = power_function(2)\n",
    "cube = power_function(3)\n",
    "\n",
    "result1 = square(4)\n",
    "result2 = cube(3)\n",
    "\n",
    "print(f\"Square of 4: {result1}\")\n",
    "print(f\"Cube of 3: {result2}\")\n",
    "\n"
   ]
  },
  {
   "cell_type": "code",
   "execution_count": null,
   "metadata": {},
   "outputs": [],
   "source": []
  }
 ],
 "metadata": {
  "kernelspec": {
   "display_name": "python_ml",
   "language": "python",
   "name": "python3"
  },
  "language_info": {
   "codemirror_mode": {
    "name": "ipython",
    "version": 3
   },
   "file_extension": ".py",
   "mimetype": "text/x-python",
   "name": "python",
   "nbconvert_exporter": "python",
   "pygments_lexer": "ipython3",
   "version": "3.11.5"
  }
 },
 "nbformat": 4,
 "nbformat_minor": 2
}
