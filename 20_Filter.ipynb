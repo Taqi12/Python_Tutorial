{
 "cells": [
  {
   "cell_type": "markdown",
   "metadata": {},
   "source": [
    "## Filter"
   ]
  },
  {
   "cell_type": "markdown",
   "metadata": {},
   "source": [
    "- `Definition`\n",
    "  - The filter() function is a built-in function in Python that is used to filter elements of an iterable based on a specified function. \n",
    "  - It constructs an iterator from elements of the iterable for which a function returns True.\n",
    "  - The general syntax is:\n",
    "    - filter(function, iterable)\n",
    "      - `function:` \n",
    "        - The function that tests if each element of an iterable returns True or False.\n",
    "      - `iterable:` \n",
    "        - The iterable to be filtered.\n",
    "\n",
    "- `Uses and Applications:`\n",
    "\n",
    "  - `Data Filtering:` \n",
    "    - It's commonly used for filtering data based on specific criteria.\n",
    "\n",
    "  - `Data Cleaning:` \n",
    "    - Filtering out unwanted or irrelevant data from datasets.\n",
    "\n",
    "  - `Data Transformation:` \n",
    "    - It can be used to transform data by including or excluding certain elements.\n",
    "\n",
    "- `Advantages:`\n",
    "\n",
    "  - `Conciseness:` \n",
    "    - filter() allows for concise and readable code, especially when combined with lambda functions.\n",
    "\n",
    "  - `Efficiency:` \n",
    "    - It can be more efficient than using a for loop, especially for large datasets.\n",
    "\n",
    "- `Limitations:`\n",
    "\n",
    "  - `Readability:` \n",
    "    - For simple operations, using filter() with lambda functions might reduce readability compared to a simple for loop.\n",
    "\n",
    "  - `Not In-Place:` \n",
    "    - filter() returns an iterator, so if you need a list or other data structure, you need to convert it explicitly (e.g., list(filter(...))).\n",
    "\n",
    "- `Notes:`\n",
    "\n",
    "  - filter() works by applying the specified function to each item in the iterable. If the function returns True, the item is included in the result.\n",
    "\n",
    "  - The result of filter() can be converted to a list, tuple, or other iterable types.\n",
    "\n",
    "  - filter() is often used in combination with lambda functions for quick, one-line filtering operations.\n"
   ]
  },
  {
   "cell_type": "code",
   "execution_count": 1,
   "metadata": {},
   "outputs": [
    {
     "name": "stdout",
     "output_type": "stream",
     "text": [
      "[2, 4, 6, 8, 10]\n"
     ]
    }
   ],
   "source": [
    "# Example 1 : Filtering Even Numbers\n",
    "numbers = [1, 2, 3, 4, 5, 6, 7, 8, 9, 10]\n",
    "even_numbers = list(filter(lambda x: x % 2 == 0, numbers))\n",
    "print(even_numbers)"
   ]
  },
  {
   "cell_type": "code",
   "execution_count": 2,
   "metadata": {},
   "outputs": [
    {
     "name": "stdout",
     "output_type": "stream",
     "text": [
      "[1, 3, 5, 7, 9]\n"
     ]
    }
   ],
   "source": [
    "# Example 2 : Filtering Positive Numbers\n",
    "numbers = [1, -2, 3, -4, 5, -6, 7, -8, 9, -10]\n",
    "positive_numbers = list(filter(lambda x: x > 0, numbers))\n",
    "print(positive_numbers)"
   ]
  },
  {
   "cell_type": "code",
   "execution_count": 3,
   "metadata": {},
   "outputs": [
    {
     "name": "stdout",
     "output_type": "stream",
     "text": [
      "[-2, -4, -6, -8, -10]\n"
     ]
    }
   ],
   "source": [
    "# Example 3 : Filtering Negative Numbers\n",
    "numbers = [1, -2, 3, -4, 5, -6, 7, -8, 9, -10]\n",
    "negative_numbers = list(filter(lambda x: x < 0, numbers))\n",
    "print(negative_numbers)"
   ]
  },
  {
   "cell_type": "code",
   "execution_count": 4,
   "metadata": {},
   "outputs": [
    {
     "name": "stdout",
     "output_type": "stream",
     "text": [
      "['apple', 'banana', 'cherry', 'date']\n"
     ]
    }
   ],
   "source": [
    "# Example 4 : Filtering Strings with length greater than 3\n",
    "words = [\"apple\", \"banana\", \"cherry\", \"date\"]\n",
    "long_words = filter(lambda x: len(x) > 3, words)\n",
    "print(list(long_words))   "
   ]
  },
  {
   "cell_type": "code",
   "execution_count": 6,
   "metadata": {},
   "outputs": [
    {
     "name": "stdout",
     "output_type": "stream",
     "text": [
      "['level', 'madam', 'refer', 'rotor']\n"
     ]
    }
   ],
   "source": [
    "# Example 5 : Filtering Palindromes\n",
    "words = [\"level\", \"madam\", \"refer\", \"rotor\", \"sister\", \"right\"]\n",
    "palindromes = filter(lambda x: x == x[::-1], words)\n",
    "print(list(palindromes))"
   ]
  },
  {
   "cell_type": "code",
   "execution_count": 11,
   "metadata": {},
   "outputs": [
    {
     "name": "stdout",
     "output_type": "stream",
     "text": [
      "['banana', 'cherry', 'date', 'elephant']\n"
     ]
    }
   ],
   "source": [
    "# Example 6 : Filtering Even Length strings\n",
    "words = [\"apple\", \"banana\", \"cherry\", \"date\", \"elephant\"]\n",
    "even_length = filter(lambda x :len(x)% 2== 0, words)\n",
    "print(list(even_length))"
   ]
  },
  {
   "cell_type": "code",
   "execution_count": null,
   "metadata": {},
   "outputs": [],
   "source": []
  }
 ],
 "metadata": {
  "kernelspec": {
   "display_name": "python_ml",
   "language": "python",
   "name": "python3"
  },
  "language_info": {
   "codemirror_mode": {
    "name": "ipython",
    "version": 3
   },
   "file_extension": ".py",
   "mimetype": "text/x-python",
   "name": "python",
   "nbconvert_exporter": "python",
   "pygments_lexer": "ipython3",
   "version": "3.11.5"
  }
 },
 "nbformat": 4,
 "nbformat_minor": 2
}
