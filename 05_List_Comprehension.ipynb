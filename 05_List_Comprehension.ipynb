{
 "cells": [
  {
   "cell_type": "markdown",
   "metadata": {},
   "source": [
    "## List Comprehension"
   ]
  },
  {
   "cell_type": "markdown",
   "metadata": {},
   "source": [
    "- `Definition`\n",
    "  - List comprehension is a concise way to create lists in Python. \n",
    "  - It allows you to create a new list by specifying the elements you want to include based on a condition or transformation applied to existing iterable objects.\n",
    "- `Syntax`\n",
    "  - `new_list = [expression for item in iterable if condition]`\n",
    "    - expression: The operation or value you want to include in the new list.\n",
    "    - item: The variable representing each element in the iterable.\n",
    "    - iterable: The existing iterable (e.g., a list, tuple, or string) that you are iterating over.\n",
    "    - condition (optional): A filtering condition to include only certain elements."
   ]
  },
  {
   "cell_type": "markdown",
   "metadata": {},
   "source": [
    "### Examples"
   ]
  },
  {
   "cell_type": "code",
   "execution_count": 2,
   "metadata": {},
   "outputs": [
    {
     "name": "stdout",
     "output_type": "stream",
     "text": [
      "[0, 1, 4, 9, 16, 25, 36, 49, 64, 81]\n"
     ]
    }
   ],
   "source": [
    "# Example 1\n",
    "# Create a list of squares for numbers 0 to 9\n",
    "squares = [x**2 for x in range(10)]\n",
    "print(squares)"
   ]
  },
  {
   "cell_type": "code",
   "execution_count": 3,
   "metadata": {},
   "outputs": [
    {
     "name": "stdout",
     "output_type": "stream",
     "text": [
      "[0, 2, 4, 6, 8]\n"
     ]
    }
   ],
   "source": [
    "# Example 2\n",
    "# Create a list of even numbers from 0 to 9\n",
    "even_numbers = [x for x in range(10) if x % 2 == 0]\n",
    "print(even_numbers)"
   ]
  },
  {
   "cell_type": "code",
   "execution_count": 4,
   "metadata": {},
   "outputs": [
    {
     "name": "stdout",
     "output_type": "stream",
     "text": [
      "[0, 4, 16, 36, 64]\n"
     ]
    }
   ],
   "source": [
    "# Example 3\n",
    "# Create a list of square of even numbers from 0 to 9\n",
    "even_numbers = [x**2 for x in range(10) if x % 2 == 0]\n",
    "print(even_numbers)"
   ]
  },
  {
   "cell_type": "code",
   "execution_count": 5,
   "metadata": {},
   "outputs": [
    {
     "name": "stdout",
     "output_type": "stream",
     "text": [
      "[[1, 2, 3], [4, 5, 6], [7, 8, 9]]\n"
     ]
    }
   ],
   "source": [
    "# Example 4 : Nested List Comprehension\n",
    "# Create a 3x3 matrix\n",
    "matrix = [[1, 2, 3], [4, 5, 6], [7, 8, 9]]\n",
    "print(matrix)\n",
    "\n",
    "# Flatten the matrix\n",
    "flat_matrix = [num for row in matrix for num in row]\n",
    "print(flat_matrix)"
   ]
  },
  {
   "cell_type": "code",
   "execution_count": 6,
   "metadata": {},
   "outputs": [
    {
     "name": "stdout",
     "output_type": "stream",
     "text": [
      "['L', 'C']\n"
     ]
    }
   ],
   "source": [
    "# Example 5 : Filtering Strings\n",
    "# Create a list of uppercase letters from a string\n",
    "sentence = \"List Comprehensions are concise\"\n",
    "uppercase_letters = [char for char in sentence if char.isupper()]\n",
    "print(uppercase_letters)"
   ]
  },
  {
   "cell_type": "code",
   "execution_count": 7,
   "metadata": {},
   "outputs": [
    {
     "name": "stdout",
     "output_type": "stream",
     "text": [
      "[0, 1, 4, 27, 16, 125, 36, 343, 64, 729]\n"
     ]
    }
   ],
   "source": [
    "# Example 6 : Filtering and Transforming\n",
    "# Create a list of squares for even numbers and cubes for odd numbers from 0 to 9\n",
    "result = [x**2 if x % 2 == 0 else x**3 for x in range(10)]\n",
    "print(result)"
   ]
  },
  {
   "cell_type": "code",
   "execution_count": null,
   "metadata": {},
   "outputs": [],
   "source": []
  }
 ],
 "metadata": {
  "kernelspec": {
   "display_name": "python_ml",
   "language": "python",
   "name": "python3"
  },
  "language_info": {
   "codemirror_mode": {
    "name": "ipython",
    "version": 3
   },
   "file_extension": ".py",
   "mimetype": "text/x-python",
   "name": "python",
   "nbconvert_exporter": "python",
   "pygments_lexer": "ipython3",
   "version": "3.11.5"
  }
 },
 "nbformat": 4,
 "nbformat_minor": 2
}
