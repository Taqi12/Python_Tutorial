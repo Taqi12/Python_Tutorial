{
 "cells": [
  {
   "cell_type": "markdown",
   "metadata": {},
   "source": [
    "# Data Types Comparisions"
   ]
  },
  {
   "cell_type": "markdown",
   "metadata": {},
   "source": [
    "|List of Features|List|Tuple|Dictionary|Set|\n",
    "|:---|:---:|:---:|:----:|---:|\n",
    "|Duplication|Yes|Yes|Yes(Duplicate Keys, Unique Values)|No(Unique Elements)|\n",
    "|Mutablility(ability to change)|Mutable|Immutable|Mutable|Mutable|\n",
    "|Order|Ordered|Ordered|Unordered|Unordered|\n",
    "|Indexed|Yes|Yes|No|No|\n",
    "|Homogenity|Heterogeneous|Heterogeneous|Heterogeneous|Heterogeneous|\n",
    "|Representation|Square Brackets[ ]|Round Brackets( )|Curly Brackets{ }|Curly Brackets{ }|\n"
   ]
  },
  {
   "cell_type": "code",
   "execution_count": null,
   "metadata": {},
   "outputs": [],
   "source": []
  },
  {
   "cell_type": "markdown",
   "metadata": {},
   "source": [
    "## Duplication"
   ]
  },
  {
   "cell_type": "code",
   "execution_count": 14,
   "metadata": {},
   "outputs": [
    {
     "name": "stdout",
     "output_type": "stream",
     "text": [
      "my_list = [1, 2, 2, 3, 3, 3]\n",
      "my_set = {1, 2, 3}\n",
      "my_tuple = (1, 2, 2, 3, 3, 3)\n",
      "my_dict = {'a': 3, 'b': 4}\n"
     ]
    }
   ],
   "source": [
    "# List(Allowed Duplicate Elements)\n",
    "my_list = [1, 2, 2, 3, 3, 3]\n",
    "print(\"my_list =\",my_list)\n",
    "\n",
    "# Set(Not Allowed Duplicate Elements)\n",
    "my_set = {1, 2, 2, 3, 3, 3}\n",
    "print(\"my_set =\",my_set)\n",
    "\n",
    "# Tuple(Allowed Duplicate Elements)\n",
    "my_tuple = (1, 2, 2, 3, 3, 3)\n",
    "print(\"my_tuple =\",my_tuple)\n",
    "\n",
    "# Dictionary (Allows Duplicate Keys, Unique Values)\n",
    "my_dict = {'a': 1, 'b': 2, 'a': 3, 'b':4} # Duplicate keys take the lastest value\n",
    "print(\"my_dict =\",my_dict)\n"
   ]
  },
  {
   "cell_type": "markdown",
   "metadata": {},
   "source": [
    "## Mutability "
   ]
  },
  {
   "cell_type": "code",
   "execution_count": 13,
   "metadata": {},
   "outputs": [
    {
     "name": "stdout",
     "output_type": "stream",
     "text": [
      "[10, 2, 3]\n",
      "{1, 3, 4}\n",
      "{'a': 3, 'b': 2}\n"
     ]
    }
   ],
   "source": [
    "# List - Mutable\n",
    "my_list = [1, 2, 3]       \n",
    "my_list[0] = 10\n",
    "print(my_list)      \n",
    "\n",
    "# Set - Mutable\n",
    "my_set = {1, 2, 3}\n",
    "my_set.add(4)\n",
    "my_set.remove(2)\n",
    "print(my_set)\n",
    "\n",
    "# Dictionary - Mutable\n",
    "my_dict = {'a': 1, 'b': 2}\n",
    "my_dict['a'] = 3\n",
    "print(my_dict)\n",
    "\n",
    "# Tuple - Immutable\n",
    "my_tuple = (1, 2, 3)\n",
    "# Attempting to modify will raise an error\n",
    "#my_tuple[0] = 10  # Raises TypeError\n"
   ]
  },
  {
   "cell_type": "markdown",
   "metadata": {},
   "source": [
    "## Order"
   ]
  },
  {
   "cell_type": "code",
   "execution_count": 8,
   "metadata": {},
   "outputs": [
    {
     "name": "stdout",
     "output_type": "stream",
     "text": [
      "1\n",
      "2\n",
      "1\n",
      "2\n"
     ]
    }
   ],
   "source": [
    "# List - Ordered\n",
    "my_list = [1, 2, 3]\n",
    "print(my_list[0])       \n",
    "print(my_list[1])       \n",
    "\n",
    "# Set - Unordered\n",
    "my_set = {1, 2, 3}\n",
    "# No guarantee of order\n",
    "# e.g., print(my_set[0])  # Raises TypeError\n",
    "\n",
    "# Dictionary - Unordered\n",
    "my_dict = {'a': 1, 'b': 2}\n",
    "# No guarantee of order\n",
    "# e.g., print(my_dict[0])  # Raises TypeError\n",
    "\n",
    "# Tuple - Ordered\n",
    "my_tuple = (1, 2, 3)\n",
    "print(my_tuple[0])     \n",
    "print(my_tuple[1])      \n"
   ]
  },
  {
   "cell_type": "markdown",
   "metadata": {},
   "source": [
    "## Indexed"
   ]
  },
  {
   "cell_type": "code",
   "execution_count": 16,
   "metadata": {},
   "outputs": [
    {
     "name": "stdout",
     "output_type": "stream",
     "text": [
      "1\n",
      "2\n",
      "1\n",
      "2\n"
     ]
    }
   ],
   "source": [
    "# List - Indexed\n",
    "my_list = [1, 2, 3]\n",
    "print(my_list[0])       \n",
    "print(my_list[1])       \n",
    "\n",
    "# Set - Not Indexed\n",
    "my_set = {1, 2, 3}\n",
    "# No guarantee of order\n",
    "# e.g., print(my_set[0])  # Raises TypeError\n",
    "\n",
    "# Dictionary - Not Indexed (Keys are indexed)\n",
    "my_dict = {'a': 1, 'b': 2}\n",
    "# No guarantee of order\n",
    "# e.g., print(my_dict[0])  # Raises TypeError\n",
    "\n",
    "# Tuple - Indexed\n",
    "my_tuple = (1, 2, 3)\n",
    "print(my_tuple[0])      \n",
    "print(my_tuple[1])      "
   ]
  },
  {
   "cell_type": "markdown",
   "metadata": {},
   "source": [
    "## Homogenity"
   ]
  },
  {
   "cell_type": "code",
   "execution_count": 24,
   "metadata": {},
   "outputs": [
    {
     "name": "stdout",
     "output_type": "stream",
     "text": [
      "[1, 'apple', 3.14]\n",
      "{1, 3.14, 'apple'}\n",
      "{'a': 1, 'b': 'apple', 'c': 3.14}\n",
      "(1, 'apple', 3.14)\n"
     ]
    }
   ],
   "source": [
    "# List - Heterogenous\n",
    "my_list = [1, 'apple', 3.14]\n",
    "print(my_list)\n",
    "\n",
    "# Set - Heterogeneous\n",
    "my_set = {1, 'apple', 3.14}\n",
    "print(my_set)\n",
    "\n",
    "# Dictionary - Heterogeneous - The keys of a dictionary can be of integer, string, or tuple type\n",
    "my_dict = {'a': 1, 'b': 'apple', 'c': 3.14}\n",
    "print(my_dict)\n",
    "\n",
    "# Tuple - Heterogeneous\n",
    "my_tuple = (1, 'apple', 3.14)\n",
    "print(my_tuple)"
   ]
  },
  {
   "cell_type": "code",
   "execution_count": null,
   "metadata": {},
   "outputs": [],
   "source": [
    "\n"
   ]
  }
 ],
 "metadata": {
  "kernelspec": {
   "display_name": "python_ml",
   "language": "python",
   "name": "python3"
  },
  "language_info": {
   "codemirror_mode": {
    "name": "ipython",
    "version": 3
   },
   "file_extension": ".py",
   "mimetype": "text/x-python",
   "name": "python",
   "nbconvert_exporter": "python",
   "pygments_lexer": "ipython3",
   "version": "3.11.5"
  }
 },
 "nbformat": 4,
 "nbformat_minor": 2
}
