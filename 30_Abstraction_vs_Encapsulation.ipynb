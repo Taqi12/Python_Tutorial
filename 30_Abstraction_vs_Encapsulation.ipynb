{
 "cells": [
  {
   "cell_type": "markdown",
   "metadata": {},
   "source": [
    "## Abstraction vs Encapsulation"
   ]
  },
  {
   "cell_type": "markdown",
   "metadata": {},
   "source": [
    "| Aspect          | Abstraction                                                                                                          | Encapsulation                                                                                                         |\n",
    "|-----------------|----------------------------------------------------------------------------------------------------------------------|-----------------------------------------------------------------------------------------------------------------------|\n",
    "| Definition      | Process of hiding complex implementation details, focusing on essential features.                                    | Bundling data and methods into a single unit, restricting access to certain components.                               |\n",
    "| Focus           | Hides unnecessary details, emphasizes essential functionalities.                                                      | Bundles data and methods, controls access to components.                                                               |\n",
    "| What vs How     | Focuses on what an object does rather than how it does it.                                                            | Deals with how data and methods are bundled and accessed.                                                              |\n",
    "| Complexity      | Manages complexity by providing a simplified view of objects and systems.                                            | Enhances security, simplifies maintenance, promotes code reusability.                                                  |\n",
    "| User Perspective| Presents a user-friendly interface, shielding users from internal complexities.                                       | Protects data integrity, promotes modularity, localizes changes within encapsulated units.                             |\n",
    "| Levels          | Implemented at multiple levels, including class, module, and system levels.                                          | Often involves defining hierarchies of classes and interfaces.                                                        |\n",
    "| Generalization  | Facilitates generalization by identifying common patterns and behaviors across different objects.                    | Promotes code reusability by encapsulating functionalities for reuse across different parts of an application.        |\n",
    "| Security        | N/A                                                                                                                  | Enhances security by hiding sensitive information and controlling access to it.                                         |\n",
    "| Maintenance     | N/A                                                                                                                  | Simplifies maintenance by localizing changes within encapsulated units, reducing the risk of unintended side effects. |\n",
    "| Code Reusability| N/A                                                                                                                  | Promotes code reusability by encapsulating functionalities for reuse across different parts of an application.        |\n",
    "| Example         | TV remote control abstracting away internal circuitry, presenting simple buttons for user interaction.               | ATM encapsulating functionalities like withdrawing money, depositing money, and checking balance within a secure housing.|\n",
    "|                 | Software application defining interfaces to specify behavior expected from different components.                     | Game development scenario using encapsulation to maintain player data and game logic securely within a Player class.   |\n"
   ]
  },
  {
   "cell_type": "code",
   "execution_count": null,
   "metadata": {},
   "outputs": [],
   "source": []
  }
 ],
 "metadata": {
  "kernelspec": {
   "display_name": "python_ml",
   "language": "python",
   "name": "python3"
  },
  "language_info": {
   "codemirror_mode": {
    "name": "ipython",
    "version": 3
   },
   "file_extension": ".py",
   "mimetype": "text/x-python",
   "name": "python",
   "nbconvert_exporter": "python",
   "pygments_lexer": "ipython3",
   "version": "3.11.5"
  }
 },
 "nbformat": 4,
 "nbformat_minor": 2
}
