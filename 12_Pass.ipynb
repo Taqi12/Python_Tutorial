{
 "cells": [
  {
   "cell_type": "markdown",
   "metadata": {},
   "source": [
    "## Pass"
   ]
  },
  {
   "cell_type": "markdown",
   "metadata": {},
   "source": [
    "- `Definition`\n",
    "    - It is a null operation that serves as a placeholder where syntactically some code is required but where no action is desired or necessary. \n",
    "    - It is often used as a stub or a placeholder for future code."
   ]
  },
  {
   "cell_type": "code",
   "execution_count": 2,
   "metadata": {},
   "outputs": [],
   "source": [
    "# Example 1: Using `pass` in an Empty Block\n",
    "def my_function():\n",
    "    pass  # This function doesn't do anything yet, but 'pass' is required to avoid an indentation error"
   ]
  },
  {
   "cell_type": "code",
   "execution_count": 3,
   "metadata": {},
   "outputs": [],
   "source": [
    "# Example 2: Using `pass` in an Empty Class\n",
    "class MyClass:\n",
    "    pass  # This class doesn't have any methods or attributes yet, but 'pass' is required"
   ]
  },
  {
   "cell_type": "code",
   "execution_count": 4,
   "metadata": {},
   "outputs": [],
   "source": [
    "# Example 3: Using `pass` in Loop\n",
    "for i in range(5):\n",
    "    # Some code here, but not ready to implement yet\n",
    "    pass"
   ]
  },
  {
   "cell_type": "code",
   "execution_count": 5,
   "metadata": {},
   "outputs": [],
   "source": [
    "# Example 4: Using `pass` in Conditional Statement\n",
    "x = 10\n",
    "\n",
    "if x > 0:\n",
    "    # Do something positive\n",
    "    pass\n",
    "else:\n",
    "    # Do something else\n",
    "    pass\n"
   ]
  },
  {
   "cell_type": "code",
   "execution_count": 6,
   "metadata": {},
   "outputs": [],
   "source": [
    "# Example 5: Using `pass` in Exception Handling\n",
    "try:\n",
    "    # Some code that might raise an exception\n",
    "    pass\n",
    "except Exception as e:\n",
    "    # Handle the exception (or not, as 'pass' does nothing)\n",
    "    pass"
   ]
  },
  {
   "cell_type": "code",
   "execution_count": null,
   "metadata": {},
   "outputs": [],
   "source": []
  }
 ],
 "metadata": {
  "kernelspec": {
   "display_name": "python_ml",
   "language": "python",
   "name": "python3"
  },
  "language_info": {
   "codemirror_mode": {
    "name": "ipython",
    "version": 3
   },
   "file_extension": ".py",
   "mimetype": "text/x-python",
   "name": "python",
   "nbconvert_exporter": "python",
   "pygments_lexer": "ipython3",
   "version": "3.11.5"
  }
 },
 "nbformat": 4,
 "nbformat_minor": 2
}
