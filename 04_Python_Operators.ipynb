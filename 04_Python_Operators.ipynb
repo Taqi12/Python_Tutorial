{
 "cells": [
  {
   "cell_type": "markdown",
   "metadata": {},
   "source": [
    "## Python Operators"
   ]
  },
  {
   "cell_type": "markdown",
   "metadata": {},
   "source": [
    "- `Operators`\n",
    "  - Operators in programming are symbols or keywords that perform operations on operands. \n",
    "- `Operands`\n",
    "  - These are the values or variables on which the operation is performed. "
   ]
  },
  {
   "cell_type": "markdown",
   "metadata": {},
   "source": [
    "#### Operators in Python\n",
    "- `Arithmetic Operators`\n",
    "  - Addition: `+`\n",
    "  - Subtraction: `-`\n",
    "  - Multiplication: `*`\n",
    "  - Division: `/`\n",
    "  - Modulus: `%`\n",
    "  - Exponent: `**`\n",
    "  - Exponenttiation: `**`\n",
    "  - Floor Division: `//`\n",
    "- `Comparison Operators`\n",
    "  - Equal to: `==`\n",
    "  - Not Equal to: `!=`\n",
    "  - Greater than: `>`\n",
    "  - Less than: `<`\n",
    "  - Greater than or equal to: `>=`\n",
    "  - Less than or equal to: `<=`\n",
    "- `Logical Operators`\n",
    "  - And: `and`\n",
    "  - Or: `or`\n",
    "  - Not: `not`\n",
    "- `Bitwise Operators`\n",
    "  - Bitwise AND: `&`\n",
    "  - Bitwise OR: `|`\n",
    "  - Bitwise XOR: `^`\n",
    "  - Bitwise NOT: `~`\n",
    "  - Left Shift: `<<`\n",
    "  - Right Shift: `>>`\n",
    "- `Assignment Operators`\n",
    "  - Assignment: `=`\n",
    "  - Addition Assignment: `+=`\n",
    "  - Subtraction Assignment: `-=`\n",
    "  - Multiplication Assignment: `*=`\n",
    "  - Division Assignment: `/=`\n",
    "  - Modulus Assignment: `%=`\n",
    "  - Exponent Assignment: `**=`\n",
    "  - Exponenttiation Assignment: `**=`\n",
    "  - Floor Division Assignment: `//=`\n",
    "- `Identity Operators`\n",
    "  - Identity: `is`\n",
    "  - Identity Not: `is not`\n",
    "- `Membership Operators`\n",
    "  - Membership: `in`\n",
    "  - Membership Not: `not in`"
   ]
  },
  {
   "cell_type": "markdown",
   "metadata": {},
   "source": [
    "#### Arithemic Operators"
   ]
  },
  {
   "cell_type": "markdown",
   "metadata": {},
   "source": [
    "- `Arithmetic operators`\n",
    "    - Perform mathematical operations like addition, subtraction, multiplication, division, modulus, and exponentiation."
   ]
  },
  {
   "cell_type": "code",
   "execution_count": 1,
   "metadata": {},
   "outputs": [
    {
     "name": "stdout",
     "output_type": "stream",
     "text": [
      "Addition of two numbers is: 7\n",
      "Subtraction of two numbers is: 3\n",
      "Multiplication of two numbers is: 10\n",
      "Division of two numbers is: 2.5\n",
      "Modulus of two numbers is: 1\n",
      "Exponentiation of two numbers is: 25\n"
     ]
    }
   ],
   "source": [
    "a = 5\n",
    "b = 2\n",
    "\n",
    "# Addition of two numbers\n",
    "addition = a + b       # it gives 5 + 2 = 7\n",
    "\n",
    "# Subtraction of two numbers\n",
    "subtraction = a - b    # it gives 5 - 2 = 3\n",
    "\n",
    "# Multiplication of two numbers\n",
    "multiplication = a * b  # it gives 5 * 2 = 10\n",
    "\n",
    "# Division of two numbers\n",
    "division = a / b       # it gives 5 / 2 = 2.5\n",
    "\n",
    "# Modulus of two numbers\n",
    "modulus = a % b        # it gives 5 % 2 = 1 , it gives the remainder of the division\n",
    "\n",
    "# Exponentiation of two numbers\n",
    "exponentiation = a ** b  # it gives 5 ** 2 = 25, it gives 5 to the power of 2\n",
    "\n",
    "# Floor division of two numbers\n",
    "floor_division = a // b  # it gives 5 // 2 = 2 , floor division rounds the result down to the nearest integer, or it gives only the integer part.\n",
    "\n",
    "\n",
    "\n",
    "\n",
    "\n",
    "\n",
    "print(\"Addition of two numbers is:\", addition)\n",
    "print(\"Subtraction of two numbers is:\", subtraction)\n",
    "print(\"Multiplication of two numbers is:\", multiplication)\n",
    "print(\"Division of two numbers is:\", division)\n",
    "print(\"Modulus of two numbers is:\", modulus)\n",
    "print(\"Exponentiation of two numbers is:\", exponentiation)"
   ]
  },
  {
   "cell_type": "markdown",
   "metadata": {},
   "source": [
    "#### Applications of Arithmetic operators\n",
    "- Mathematical calculations such as addition, subtraction, multiplication, division.\n",
    "- Modulo operation for finding remainders.\n",
    "- Exponentiation for calculating powers."
   ]
  },
  {
   "cell_type": "markdown",
   "metadata": {},
   "source": [
    "#### Comparison Operators"
   ]
  },
  {
   "cell_type": "markdown",
   "metadata": {},
   "source": [
    "- `Definition`\n",
    "    - Compare values and return a Boolean result (True or False)."
   ]
  },
  {
   "cell_type": "code",
   "execution_count": 4,
   "metadata": {},
   "outputs": [
    {
     "name": "stdout",
     "output_type": "stream",
     "text": [
      "False True False True False True\n"
     ]
    }
   ],
   "source": [
    "x = 5\n",
    "y = 10\n",
    "\n",
    "# Equality operators \n",
    "equal = x == y      \n",
    "\n",
    "# Inequality operators\n",
    "not_equal = x != y    \n",
    "\n",
    "# Greater than and less than operators\n",
    "greater_than = x > y  \n",
    "less_than = x < y     \n",
    "\n",
    "# Greater than or equal to and less than or equal to operators\n",
    "greater_than_or_equal_to = x >= y  \n",
    "less_than_or_equal_to = x <= y\n",
    "\n",
    "print(equal, not_equal, greater_than, less_than, greater_than_or_equal_to, less_than_or_equal_to)\n",
    "\n"
   ]
  },
  {
   "cell_type": "markdown",
   "metadata": {},
   "source": [
    "#### Applications of Comparision operators\n",
    "- Conditional statements and decision-making.\n",
    "- Sorting and ordering data.\n",
    "- Checking equality or inequality between variables."
   ]
  },
  {
   "cell_type": "markdown",
   "metadata": {},
   "source": [
    "#### Logical operators"
   ]
  },
  {
   "cell_type": "markdown",
   "metadata": {},
   "source": [
    "- `Definition`\n",
    "    - Perform logical operations on Boolean values."
   ]
  },
  {
   "cell_type": "code",
   "execution_count": 11,
   "metadata": {},
   "outputs": [
    {
     "name": "stdout",
     "output_type": "stream",
     "text": [
      "Logical AND : False\n",
      "Logical OR : True\n",
      "Logical NOT : False\n"
     ]
    }
   ],
   "source": [
    "p = True\n",
    "q = False\n",
    "\n",
    "# Logical AND\n",
    "logical_and = p and q  # it gives True if both p and q are True, otherwise it gives False\n",
    "\n",
    "# Logical OR\n",
    "logical_or = p or q  # it gives True if either p or q is True, otherwise it gives False\n",
    "\n",
    "# Logical NOT\n",
    "logical_not = not p  # it gives False if p is True, otherwise it gives True\n",
    "\n",
    "print(\"Logical AND :\",logical_and)\n",
    "print(f\"Logical OR : {logical_or}\")\n",
    "print(\"Logical NOT : {}\".format(logical_not))"
   ]
  },
  {
   "cell_type": "markdown",
   "metadata": {},
   "source": [
    "#### Bitwise operators\n"
   ]
  },
  {
   "cell_type": "markdown",
   "metadata": {},
   "source": [
    "- `Definition`\n",
    "    - The bitwise operators are used to perform operations on bits."
   ]
  },
  {
   "cell_type": "markdown",
   "metadata": {},
   "source": [
    "##### Bitwise AND (&)\n",
    "- Sets each bit to 1 if both the bits are 1 otherwise it sets it to 0"
   ]
  },
  {
   "cell_type": "code",
   "execution_count": 34,
   "metadata": {},
   "outputs": [
    {
     "name": "stdout",
     "output_type": "stream",
     "text": [
      "8\n"
     ]
    }
   ],
   "source": [
    "# Bitwise AND\n",
    "a = 12  # binary: 1100\n",
    "b = 10  # binary: 1010\n",
    "result = a & b  # binary: 1000 (8 in decimal)\n",
    "\n",
    "print(result)"
   ]
  },
  {
   "cell_type": "markdown",
   "metadata": {},
   "source": [
    "##### Bitwise OR ( | )\n",
    "- Sets the bit to 1 if one of the bits is 1\n",
    "- Sets the bit to 0 if both bits are 0"
   ]
  },
  {
   "cell_type": "code",
   "execution_count": 36,
   "metadata": {},
   "outputs": [
    {
     "name": "stdout",
     "output_type": "stream",
     "text": [
      "14\n"
     ]
    }
   ],
   "source": [
    "# Bitwise OR\n",
    "a = 12  # binary: 1100\n",
    "b = 10  # binary: 1010\n",
    "result = a | b  # binary: 1110 (14 in decimal)\n",
    "\n",
    "print(result)"
   ]
  },
  {
   "cell_type": "markdown",
   "metadata": {},
   "source": [
    "##### Bitwise NOT ( ~ )\n",
    "- It is used to invert the bits of a number.\n",
    "- It is defined as a complement of a number.\n",
    "- Sets the bits to 1 if they are 0 and sets the bits to 0 if they are 1.\n",
    "- It is used to flip the bits of a number."
   ]
  },
  {
   "cell_type": "code",
   "execution_count": 1,
   "metadata": {},
   "outputs": [
    {
     "name": "stdout",
     "output_type": "stream",
     "text": [
      "-13\n"
     ]
    }
   ],
   "source": [
    "# Bitwise NOT\n",
    "a = 12  # binary: 1100\n",
    "result = ~a  # binary: -111\n",
    "print(result)"
   ]
  },
  {
   "cell_type": "code",
   "execution_count": 2,
   "metadata": {},
   "outputs": [
    {
     "name": "stdout",
     "output_type": "stream",
     "text": [
      "-11\n"
     ]
    }
   ],
   "source": [
    "a = 10\n",
    "b = ~a\n",
    "print(b)"
   ]
  },
  {
   "cell_type": "code",
   "execution_count": 3,
   "metadata": {},
   "outputs": [
    {
     "name": "stdout",
     "output_type": "stream",
     "text": [
      "-6\n"
     ]
    }
   ],
   "source": [
    "c = 5\n",
    "d = ~c\n",
    "print(d)"
   ]
  },
  {
   "cell_type": "markdown",
   "metadata": {},
   "source": [
    "##### Bitwise XOR\n",
    "- Sets each bit to 1 if only one of the bits is 1."
   ]
  },
  {
   "cell_type": "code",
   "execution_count": 44,
   "metadata": {},
   "outputs": [
    {
     "name": "stdout",
     "output_type": "stream",
     "text": [
      "6\n"
     ]
    }
   ],
   "source": [
    "# Bitwise XOR\n",
    "a = 12  # binary: 1100\n",
    "b = 10  # binary: 1010\n",
    "result = a ^ b  # binary: 0110 (6 in decimal)\n",
    "\n",
    "print(result)"
   ]
  },
  {
   "cell_type": "markdown",
   "metadata": {},
   "source": [
    "##### Left Shift ( << )\n",
    "- Shifts the bits of the number to the left by a specified number of positions\n",
    "- It filling with 0 from the right."
   ]
  },
  {
   "cell_type": "code",
   "execution_count": 46,
   "metadata": {},
   "outputs": [
    {
     "name": "stdout",
     "output_type": "stream",
     "text": [
      "20\n"
     ]
    }
   ],
   "source": [
    "# Left shift\n",
    "a = 5  # binary: 101\n",
    "result = a << 2  # binary: 10100 (20 in decimal)\n",
    "\n",
    "print(result)"
   ]
  },
  {
   "cell_type": "markdown",
   "metadata": {},
   "source": [
    "##### Right shift\n",
    "- Shifts the bits to the right by the specified number of positions, filling with the sign bit (0 for positive numbers, 1 for negative numbers) from the left."
   ]
  },
  {
   "cell_type": "code",
   "execution_count": 10,
   "metadata": {},
   "outputs": [
    {
     "name": "stdout",
     "output_type": "stream",
     "text": [
      "2\n"
     ]
    }
   ],
   "source": [
    "# Right shift\n",
    "a = 10  # binary: 1010\n",
    "result = a >> 2  # binary: 10 (2 in decimal)\n",
    "\n",
    "print(result)"
   ]
  },
  {
   "cell_type": "code",
   "execution_count": 8,
   "metadata": {},
   "outputs": [
    {
     "name": "stdout",
     "output_type": "stream",
     "text": [
      "60\n"
     ]
    }
   ],
   "source": [
    "# Right shift\n",
    "a = 15  \n",
    "result = a << 2  \n",
    "\n",
    "print(result)"
   ]
  },
  {
   "cell_type": "markdown",
   "metadata": {},
   "source": [
    "#### Applications of Bitwise Operators\n",
    "- Low-level programming for manipulating individual bits.\n",
    "- Implementing algorithms that involve bitwise operations.\n",
    "- Working with binary data and bitwise flags."
   ]
  },
  {
   "cell_type": "markdown",
   "metadata": {},
   "source": [
    "#### Assignment operators"
   ]
  },
  {
   "cell_type": "markdown",
   "metadata": {},
   "source": [
    "- `Assignment operators`\n",
    "    - Assign values to variables and perform operations on them."
   ]
  },
  {
   "cell_type": "code",
   "execution_count": 19,
   "metadata": {},
   "outputs": [
    {
     "name": "stdout",
     "output_type": "stream",
     "text": [
      "Initial value of num : 5\n",
      "Value of num after addition assignment : 7\n",
      "Value of num after subtraction assignment : 4\n",
      "Value of num after multiplication assignment : 16\n",
      "Value of num after division assignment : 8.0\n",
      "Value of num after modulus assignment : 3.0\n",
      "Value of num after exponentiation assignment : 27.0\n",
      "Value of num after floor division assignment : 13.0\n"
     ]
    }
   ],
   "source": [
    "# Assignment \n",
    "num = 5 # it assigns the value 5 to the variable num\n",
    "print(\"Initial value of num :\", num)\n",
    "\n",
    "# Addition assignment\n",
    "num += 2 # it adds 2 to the value of the variable num and assigns the result to the variable num\n",
    "print(\"Value of num after addition assignment :\", num)\n",
    "\n",
    "# Subtraction assignment\n",
    "num -= 3 # it subtracts 3 from the value of the variable num and assigns the result to the variable num\n",
    "print(\"Value of num after subtraction assignment :\", num)\n",
    "\n",
    "# Multiplication assignment\n",
    "num *= 4 # it multiplies the value of the variable num by 4 and assigns the result to the variable num\n",
    "print(\"Value of num after multiplication assignment :\", num)\n",
    "\n",
    "# Division assignment\n",
    "num /= 2 # it divides the value of the variable num by 2 and assigns the result to the variable num\n",
    "print(\"Value of num after division assignment :\", num)\n",
    "\n",
    "# Modulus assignment\n",
    "num %= 5  # it calculates the remainder when num is divided by 5 and assigns the result to the variable num\n",
    "print(\"Value of num after modulus assignment :\", num)\n",
    "\n",
    "# Exponentiation assignment\n",
    "num **= 3 # it raises the value of the variable num to the power of 3 and assigns the result to the variable num\n",
    "print(\"Value of num after exponentiation assignment :\", num)\n",
    "\n",
    "# Floor division assignment\n",
    "num //= 2 # it rounds the value of the variable num down to the nearest integer and assigns the result to the variable num\n",
    "print(\"Value of num after floor division assignment :\", num)\n"
   ]
  },
  {
   "cell_type": "markdown",
   "metadata": {},
   "source": [
    "#### Applications of Assignment operators\n",
    "- Assigning values to variables.\n",
    "- Updating variables with new values.\n",
    "- Efficiently performing arithmetic operations and assigning results."
   ]
  },
  {
   "cell_type": "markdown",
   "metadata": {},
   "source": [
    "#### Identity operators"
   ]
  },
  {
   "cell_type": "markdown",
   "metadata": {},
   "source": [
    "-  ` Definition`\n",
    "    -  The identity operators in Python are used to compare the objects, not if they are `equal`, but if they are actually the same object, with the `same memory location`."
   ]
  },
  {
   "cell_type": "code",
   "execution_count": 2,
   "metadata": {},
   "outputs": [
    {
     "name": "stdout",
     "output_type": "stream",
     "text": [
      "result: False\n",
      "result_not: False\n",
      "is_none: True\n",
      "identity_check: True\n"
     ]
    }
   ],
   "source": [
    "# Example 1: Using 'is' operator\n",
    "x = [1, 2, 3]\n",
    "y = [1, 2, 3]\n",
    "\n",
    "# x and y are different objects, even though their contents are the same\n",
    "result = x is y\n",
    "print('result:',result)  \n",
    "\n",
    "# Example 2: Using 'is not' operator\n",
    "a = 10\n",
    "b = 10\n",
    "\n",
    "# a and b point to the same object because of Python's object caching for small integers\n",
    "result_not = a is not b\n",
    "print('result_not:',result_not)  \n",
    "\n",
    "# Example 3: Demonstrating 'is' with None\n",
    "value = None\n",
    "\n",
    "# Checking if a variable is None\n",
    "is_none = value is None\n",
    "print('is_none:',is_none)  \n",
    "\n",
    "# Example 4: Checking identity of objects\n",
    "obj1 = \"Hello\"\n",
    "obj2 = \"Hello\"\n",
    "\n",
    "# obj1 and obj2 may reference the same string object due to string interning\n",
    "identity_check = obj1 is obj2\n",
    "print('identity_check:',identity_check)  \n"
   ]
  },
  {
   "cell_type": "code",
   "execution_count": 30,
   "metadata": {},
   "outputs": [
    {
     "name": "stdout",
     "output_type": "stream",
     "text": [
      "a and b refer to the same object\n"
     ]
    }
   ],
   "source": [
    "a = [1, 2, 3]\n",
    "b = a\n",
    "\n",
    "if a is b:\n",
    "    print(\"a and b refer to the same object\")\n",
    "else:\n",
    "    print(\"a and b are different objects\")\n"
   ]
  },
  {
   "cell_type": "markdown",
   "metadata": {},
   "source": [
    "#### Applications of Identity Operators\n",
    "- Checking if two variables reference the same object.\n",
    "- Verifying object identity in certain programming patterns."
   ]
  },
  {
   "cell_type": "markdown",
   "metadata": {},
   "source": [
    "#### Membership operators"
   ]
  },
  {
   "cell_type": "markdown",
   "metadata": {},
   "source": [
    "- `Definition`\n",
    "    - It is used to test if a value exists in a sequence or not"
   ]
  },
  {
   "cell_type": "code",
   "execution_count": 29,
   "metadata": {},
   "outputs": [
    {
     "name": "stdout",
     "output_type": "stream",
     "text": [
      "True True\n"
     ]
    }
   ],
   "source": [
    "fruits = [\"apple\", \"banana\", \"cherry\"]\n",
    "\n",
    "in_result = \"banana\" in fruits  # it checks if \"banana\" is in the list fruits        \n",
    "not_in_result = \"orange\" not in fruits  # it checks if \"orange\" is not in the list fruits\n",
    "\n",
    "print(in_result, not_in_result)\n"
   ]
  },
  {
   "cell_type": "code",
   "execution_count": 31,
   "metadata": {},
   "outputs": [
    {
     "name": "stdout",
     "output_type": "stream",
     "text": [
      "apple is in the list\n"
     ]
    }
   ],
   "source": [
    "fruits = ['apple', 'banana', 'orange']\n",
    "selected_fruit = 'apple'\n",
    "\n",
    "if selected_fruit in fruits:\n",
    "    print(f\"{selected_fruit} is in the list\")\n",
    "else:\n",
    "    print(f\"{selected_fruit} is not in the list\")\n"
   ]
  },
  {
   "cell_type": "markdown",
   "metadata": {},
   "source": [
    "#### Applications of Membership operators\n",
    "- Checking if an element is present in a sequence (e.g., lists, tuples, strings).\n",
    "- Filtering or extracting specific elements from a collection."
   ]
  },
  {
   "cell_type": "code",
   "execution_count": null,
   "metadata": {},
   "outputs": [],
   "source": []
  }
 ],
 "metadata": {
  "kernelspec": {
   "display_name": "python_ml",
   "language": "python",
   "name": "python3"
  },
  "language_info": {
   "codemirror_mode": {
    "name": "ipython",
    "version": 3
   },
   "file_extension": ".py",
   "mimetype": "text/x-python",
   "name": "python",
   "nbconvert_exporter": "python",
   "pygments_lexer": "ipython3",
   "version": "3.11.5"
  }
 },
 "nbformat": 4,
 "nbformat_minor": 2
}
