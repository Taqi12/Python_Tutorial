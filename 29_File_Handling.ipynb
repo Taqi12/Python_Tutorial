{
 "cells": [
  {
   "cell_type": "markdown",
   "metadata": {},
   "source": [
    "## File Handling"
   ]
  },
  {
   "cell_type": "markdown",
   "metadata": {},
   "source": [
    "- `Definition`\n",
    "  - It involves various operations related to reading from and writing to files.\n",
    "  - Python provides built-in functions and methods to perform these operations efficiently.\n",
    "    - `Opening a file`\n",
    "      - To open a file, you use the built-in open() function. It takes two parameters: the file path and the mode in which you want to open the file (e.g., read mode, write mode, append mode, etc.).\n",
    "    - `Reading from a file`\n",
    "      - After opening a file, you can read its contents using various methods such as read(), readline(), or readlines().\n",
    "    - `Writing to a file`\n",
    "      - You can write data to a file by opening it in write or append mode and using the write() method.\n",
    "    - `Closing a file`\n",
    "      - After performing file operations, it's essential to close the file using the close() method to release system resources.\n",
    "    - `Using context managers (with statement)`\n",
    "      - Python's with statement provides a cleaner way to open and automatically close files using a context manager.\n",
    "    - `Iterating over file content`\n",
    "      - You can iterate over the lines of a file using a for loop, which reads the file line by line.\n",
    "    - `File Modes`\n",
    "      - r: Read mode (default). Opens a file for reading.\n",
    "      - w: Write mode. Opens a file for writing. Creates a new file or truncates the existing file to zero length if it exists.\n",
    "      - a: Append mode. Opens a file for writing. Creates a new file or appends to the existing file if it exists.\n",
    "      - b: Binary mode. Opens a file in binary mode (e.g., 'rb' for reading binary, 'wb' for writing binary).\n",
    "      - +: Update mode. Opens a file for updating (reading and writing).\n",
    "    - `Error Handling`\n",
    "      - It's essential to handle exceptions when working with files using try-except blocks to prevent runtime errors."
   ]
  },
  {
   "cell_type": "markdown",
   "metadata": {},
   "source": [
    "### Opening a File and Reading with read() method"
   ]
  },
  {
   "cell_type": "code",
   "execution_count": 15,
   "metadata": {},
   "outputs": [
    {
     "name": "stdout",
     "output_type": "stream",
     "text": [
      "Hello, My name is Taqi Javed.\n",
      "We are learning Python.\n",
      "\n"
     ]
    }
   ],
   "source": [
    "try:\n",
    "    # Open an existing file in read mode\n",
    "    with open(\"data/example.txt\", \"r\") as file:\n",
    "        content = file.read()\n",
    "        print(content)\n",
    "except FileNotFoundError:\n",
    "    print(\"File not found.\")"
   ]
  },
  {
   "cell_type": "markdown",
   "metadata": {},
   "source": [
    "- The read() method is called on the file object file, which reads the entire content of the file and returns it as a single string."
   ]
  },
  {
   "cell_type": "markdown",
   "metadata": {},
   "source": [
    "### Reading a file with readline() method"
   ]
  },
  {
   "cell_type": "code",
   "execution_count": 16,
   "metadata": {},
   "outputs": [
    {
     "name": "stdout",
     "output_type": "stream",
     "text": [
      "Line 1: Hello, My name is Taqi Javed.\n",
      "\n",
      "Line 2: We are learning Python.\n",
      "\n"
     ]
    }
   ],
   "source": [
    "try:\n",
    "    with open(\"data/example.txt\", \"r\") as file:\n",
    "        line1 = file.readline()\n",
    "        line2 = file.readline()\n",
    "        print(\"Line 1:\", line1)\n",
    "        print(\"Line 2:\", line2)\n",
    "except FileNotFoundError:\n",
    "    print(\"File not found.\")\n"
   ]
  },
  {
   "cell_type": "markdown",
   "metadata": {},
   "source": [
    "- The readline() method read line by line"
   ]
  },
  {
   "cell_type": "markdown",
   "metadata": {},
   "source": [
    "### Reading a file with readlines() method"
   ]
  },
  {
   "cell_type": "code",
   "execution_count": 17,
   "metadata": {},
   "outputs": [
    {
     "name": "stdout",
     "output_type": "stream",
     "text": [
      "Hello, My name is Taqi Javed.\n",
      "We are learning Python.\n"
     ]
    }
   ],
   "source": [
    "try:\n",
    "    with open(\"data/example.txt\", \"r\") as file:\n",
    "        lines = file.readlines()\n",
    "        for line in lines:\n",
    "            print(line.strip())  # Strip newline character\n",
    "except FileNotFoundError:\n",
    "    print(\"File not found.\")\n",
    "\n"
   ]
  },
  {
   "cell_type": "code",
   "execution_count": 18,
   "metadata": {},
   "outputs": [
    {
     "name": "stdout",
     "output_type": "stream",
     "text": [
      "Hello, My name is Taqi Javed.\n",
      "We are learning Python.\n",
      "\n"
     ]
    }
   ],
   "source": [
    "# check the file \n",
    "with open(\"data/example.txt\", \"r\") as file:\n",
    "    print(file.read())"
   ]
  },
  {
   "cell_type": "markdown",
   "metadata": {},
   "source": [
    "- The readlines() method is called to read all lines from the file, and they are stored in a list called lines.\n",
    "- We iterate over each line in the lines list and print it to the console after stripping the newline character using the strip() method."
   ]
  },
  {
   "cell_type": "markdown",
   "metadata": {},
   "source": [
    "### Writing a single line to a file"
   ]
  },
  {
   "cell_type": "code",
   "execution_count": 19,
   "metadata": {},
   "outputs": [],
   "source": [
    "try:\n",
    "    with open(\"data/example1.txt\", \"w\") as file:\n",
    "        file.write(\"Hello, World!\")\n",
    "except IOError:\n",
    "    print(\"Error occurred while writing to the file.\")\n"
   ]
  },
  {
   "cell_type": "markdown",
   "metadata": {},
   "source": [
    "- A file with name example1.txt is automatically created\n",
    "- The write() method is called on the file object file to write the string \"Hello, World!\" to the file.\n",
    "- The file is automatically closed when exiting the with block, ensuring proper resource management."
   ]
  },
  {
   "cell_type": "code",
   "execution_count": 20,
   "metadata": {},
   "outputs": [
    {
     "name": "stdout",
     "output_type": "stream",
     "text": [
      "Hello, World!\n"
     ]
    }
   ],
   "source": [
    "try:\n",
    "    # Open an existing file in read mode\n",
    "    with open(\"data/example1.txt\", \"r\") as file:\n",
    "        content = file.read()\n",
    "        print(content)\n",
    "except FileNotFoundError:\n",
    "    print(\"File not found.\")"
   ]
  },
  {
   "cell_type": "markdown",
   "metadata": {},
   "source": [
    "### Writing Multiple Lines to a File"
   ]
  },
  {
   "cell_type": "code",
   "execution_count": 21,
   "metadata": {},
   "outputs": [],
   "source": [
    "try:\n",
    "    with open(\"data/example2.txt\", \"w\") as file:\n",
    "        file.write(\"Line 1\\n\")\n",
    "        file.write(\"Line 2\\n\")\n",
    "        file.write(\"Line 3\\n\")\n",
    "except IOError:\n",
    "    print(\"Error occurred while writing to the file.\")"
   ]
  },
  {
   "cell_type": "code",
   "execution_count": 23,
   "metadata": {},
   "outputs": [
    {
     "name": "stdout",
     "output_type": "stream",
     "text": [
      "Line 1\n",
      "Line 2\n",
      "Line 3\n",
      "\n"
     ]
    }
   ],
   "source": [
    "try:\n",
    "    # Open an existing file in read mode\n",
    "    with open(\"data/example2.txt\", \"r\") as file:\n",
    "        content = file.read()\n",
    "        print(content)\n",
    "except FileNotFoundError:\n",
    "    print(\"File not found.\")"
   ]
  },
  {
   "cell_type": "markdown",
   "metadata": {},
   "source": [
    "- A file with name example2.txt is automatically created\n",
    "- The write() method is called on the file object file to write multiple lines to the file.\n",
    "- The file is automatically closed when exiting the with block, ensuring proper resource management."
   ]
  },
  {
   "cell_type": "markdown",
   "metadata": {},
   "source": [
    "### Writing Multiple Lines from a List to a File"
   ]
  },
  {
   "cell_type": "code",
   "execution_count": 25,
   "metadata": {},
   "outputs": [],
   "source": [
    "lines = [\"Line 1\\n\", \"Line 2\\n\", \"Line 3\\n\"]\n",
    "\n",
    "try:\n",
    "    with open(\"data/example3.txt\", \"w\") as file:\n",
    "        file.writelines(lines)\n",
    "except IOError:\n",
    "    print(\"Error occurred while writing to the file.\")\n"
   ]
  },
  {
   "cell_type": "code",
   "execution_count": 26,
   "metadata": {},
   "outputs": [
    {
     "name": "stdout",
     "output_type": "stream",
     "text": [
      "Line 1\n",
      "Line 2\n",
      "Line 3\n",
      "\n"
     ]
    }
   ],
   "source": [
    "try:\n",
    "    # Open an existing file in read mode\n",
    "    with open(\"data/example3.txt\", \"r\") as file:\n",
    "        content = file.read()\n",
    "        print(content)\n",
    "except FileNotFoundError:\n",
    "    print(\"File not found.\")"
   ]
  },
  {
   "cell_type": "markdown",
   "metadata": {},
   "source": [
    "- A file with name example3.txt is automatically created\n",
    "- The write() method is called on the file object file to write multiple lines to the file.\n",
    "- The file is automatically closed when exiting the with block, ensuring proper resource management."
   ]
  },
  {
   "cell_type": "markdown",
   "metadata": {},
   "source": [
    "### Closing a File using close() Method"
   ]
  },
  {
   "cell_type": "code",
   "execution_count": 30,
   "metadata": {},
   "outputs": [
    {
     "name": "stdout",
     "output_type": "stream",
     "text": [
      "Hello, My name is Taqi Javed.\n",
      "We are learning Python.\n",
      "\n"
     ]
    }
   ],
   "source": [
    "file = open(\"data/example.txt\", \"r\")\n",
    "try:\n",
    "    content = file.read()\n",
    "    print(content)\n",
    "finally:\n",
    "    file.close()  "
   ]
  },
  {
   "cell_type": "markdown",
   "metadata": {},
   "source": [
    "- We open the file \"example.txt\" in read mode and assign it to the variable file.\n",
    "- We use a try block to perform file operations, such as reading the file content using the read() method.\n",
    "- Within the finally block, we close the file explicitly using the close() method to release system resources."
   ]
  },
  {
   "cell_type": "markdown",
   "metadata": {},
   "source": [
    "### Closing a File using with Statement"
   ]
  },
  {
   "cell_type": "code",
   "execution_count": 33,
   "metadata": {},
   "outputs": [
    {
     "name": "stdout",
     "output_type": "stream",
     "text": [
      "Hello, My name is Taqi Javed.\n",
      "We are learning Python.\n",
      "\n"
     ]
    }
   ],
   "source": [
    "with open(\"data/example.txt\", \"r\") as file:\n",
    "    content = file.read()\n",
    "    print(content)"
   ]
  },
  {
   "cell_type": "markdown",
   "metadata": {},
   "source": [
    "- We use the with statement to open the file \"example.txt\" in read mode.\n",
    "Inside the with block, we perform file operations, such as reading the file content using the read() method.\n",
    "- After exiting the with block, the file is automatically closed, even if an exception occurs, ensuring proper cleanup and resource management.\n"
   ]
  },
  {
   "cell_type": "markdown",
   "metadata": {},
   "source": [
    "### Iterating Over Lines Using a for Loop"
   ]
  },
  {
   "cell_type": "code",
   "execution_count": 38,
   "metadata": {},
   "outputs": [
    {
     "name": "stdout",
     "output_type": "stream",
     "text": [
      "Line 1: Hello, My name is Taqi Javed.\n",
      "Line 2: We are learning Python.\n",
      "Line 3: Happy Learning.\n"
     ]
    }
   ],
   "source": [
    "try:\n",
    "    with open(\"data/example.txt\", \"r\") as file:\n",
    "        for line_number, line in enumerate(file, start=1):\n",
    "            print(f\"Line {line_number}: {line.strip()}\")\n",
    "except FileNotFoundError:\n",
    "    print(\"File not found.\")\n"
   ]
  },
  {
   "cell_type": "markdown",
   "metadata": {},
   "source": [
    "### Iterating Over Lines Using readlines() Method"
   ]
  },
  {
   "cell_type": "code",
   "execution_count": 40,
   "metadata": {},
   "outputs": [
    {
     "name": "stdout",
     "output_type": "stream",
     "text": [
      "Line 1: Hello, My name is Taqi Javed.\n",
      "Line 2: We are learning Python.\n",
      "Line 3: Happy Learning.\n"
     ]
    }
   ],
   "source": [
    "try:\n",
    "    with open(\"data/example.txt\", \"r\") as file:\n",
    "        lines = file.readlines()\n",
    "        for line_number, line in enumerate(lines, start=1):\n",
    "            print(f\"Line {line_number}: {line.strip()}\")\n",
    "except FileNotFoundError:\n",
    "    print(\"File not found.\")"
   ]
  },
  {
   "cell_type": "markdown",
   "metadata": {},
   "source": [
    "### Iterating Over Fixed-size Chunks of Data:\n"
   ]
  },
  {
   "cell_type": "code",
   "execution_count": 43,
   "metadata": {},
   "outputs": [
    {
     "name": "stdout",
     "output_type": "stream",
     "text": [
      "Hello, My name is Ta\n",
      "qi Javed.\n",
      "We are lea\n",
      "rning Python.\n",
      "Happy \n",
      "Learning.\n"
     ]
    }
   ],
   "source": [
    "try:\n",
    "    with open(\"data/example.txt\", \"r\") as file:\n",
    "        chunk_size = 20\n",
    "        while True:\n",
    "            chunk = file.read(chunk_size)\n",
    "            if not chunk:\n",
    "                break\n",
    "            print(chunk)\n",
    "except FileNotFoundError:\n",
    "    print(\"File not found.\")\n"
   ]
  },
  {
   "cell_type": "markdown",
   "metadata": {},
   "source": [
    "### Iterating Over Lines in Reverse Order:\n"
   ]
  },
  {
   "cell_type": "code",
   "execution_count": 44,
   "metadata": {},
   "outputs": [
    {
     "name": "stdout",
     "output_type": "stream",
     "text": [
      "Line 1: Happy Learning.\n",
      "Line 2: We are learning Python.\n",
      "Line 3: Hello, My name is Taqi Javed.\n"
     ]
    }
   ],
   "source": [
    "try:\n",
    "    with open(\"data/example.txt\", \"r\") as file:\n",
    "        lines = file.readlines()\n",
    "        for line_number, line in enumerate(reversed(lines), start=1):\n",
    "            print(f\"Line {line_number}: {line.strip()}\")\n",
    "except FileNotFoundError:\n",
    "    print(\"File not found.\")\n"
   ]
  },
  {
   "cell_type": "markdown",
   "metadata": {},
   "source": [
    "### Appending a Single Line to a File"
   ]
  },
  {
   "cell_type": "code",
   "execution_count": 2,
   "metadata": {},
   "outputs": [],
   "source": [
    "try:\n",
    "    with open(\"data/example4.txt\", \"a\") as file:\n",
    "        file.write(\"This is a new line added using append mode.\\n\")\n",
    "except IOError:\n",
    "    print(\"Error occurred while writing to the file.\")\n"
   ]
  },
  {
   "cell_type": "markdown",
   "metadata": {},
   "source": [
    "- It create new file with name examples4.txt \n",
    "- add record in the file "
   ]
  },
  {
   "cell_type": "code",
   "execution_count": 3,
   "metadata": {},
   "outputs": [
    {
     "name": "stdout",
     "output_type": "stream",
     "text": [
      "This is a new line added using append mode.\n",
      "\n"
     ]
    }
   ],
   "source": [
    "try:\n",
    "    # Open an existing file in read mode\n",
    "    with open(\"data/example4.txt\", \"r\") as file:\n",
    "        content = file.read()\n",
    "        print(content)\n",
    "except FileNotFoundError:\n",
    "    print(\"File not found.\")"
   ]
  },
  {
   "cell_type": "code",
   "execution_count": 4,
   "metadata": {},
   "outputs": [],
   "source": [
    "try:\n",
    "    lines_to_append = [\"Line 1\\n\", \"Line 2\\n\", \"Line 3\\n\"]\n",
    "    with open(\"data/example4.txt\", \"a\") as file:\n",
    "        file.writelines(lines_to_append)\n",
    "except IOError:\n",
    "    print(\"Error occurred while writing to the file.\")\n"
   ]
  },
  {
   "cell_type": "markdown",
   "metadata": {},
   "source": [
    "- add multiple records in the file "
   ]
  },
  {
   "cell_type": "code",
   "execution_count": 5,
   "metadata": {},
   "outputs": [
    {
     "name": "stdout",
     "output_type": "stream",
     "text": [
      "This is a new line added using append mode.\n",
      "Line 1\n",
      "Line 2\n",
      "Line 3\n",
      "\n"
     ]
    }
   ],
   "source": [
    "try:\n",
    "    # Open an existing file in read mode\n",
    "    with open(\"data/example4.txt\", \"r\") as file:\n",
    "        content = file.read()\n",
    "        print(content)\n",
    "except FileNotFoundError:\n",
    "    print(\"File not found.\")"
   ]
  },
  {
   "cell_type": "code",
   "execution_count": 54,
   "metadata": {},
   "outputs": [
    {
     "name": "stdout",
     "output_type": "stream",
     "text": [
      "Line 1\n",
      "Line 2\n",
      "Line 3\n",
      "\n"
     ]
    }
   ],
   "source": [
    "try:\n",
    "    # Open an existing file in read mode\n",
    "    with open(\"data/example5.txt\", \"r\") as file:\n",
    "        content = file.read()\n",
    "        print(content)\n",
    "except FileNotFoundError:\n",
    "    print(\"File not found.\")"
   ]
  },
  {
   "cell_type": "markdown",
   "metadata": {},
   "source": [
    "### Appending Data to an Existing File with User Input:\n"
   ]
  },
  {
   "cell_type": "code",
   "execution_count": 7,
   "metadata": {},
   "outputs": [],
   "source": [
    "try:\n",
    "    with open(\"data/example1.txt\", \"a\") as file:\n",
    "        data_to_append = input(\"Enter text to append to the file: \")\n",
    "        file.write(data_to_append + \"\\n\")\n",
    "except IOError:\n",
    "    print(\"Error occurred while writing to the file.\")\n"
   ]
  },
  {
   "cell_type": "code",
   "execution_count": 8,
   "metadata": {},
   "outputs": [
    {
     "name": "stdout",
     "output_type": "stream",
     "text": [
      "Hello, My name is Taqi JAved\n",
      "\n"
     ]
    }
   ],
   "source": [
    "try:\n",
    "    # Open an existing file in read mode\n",
    "    with open(\"data/example1.txt\", \"r\") as file:\n",
    "        content = file.read()\n",
    "        print(content)\n",
    "except FileNotFoundError:\n",
    "    print(\"File not found.\")"
   ]
  },
  {
   "cell_type": "code",
   "execution_count": null,
   "metadata": {},
   "outputs": [],
   "source": []
  }
 ],
 "metadata": {
  "kernelspec": {
   "display_name": "python_ml",
   "language": "python",
   "name": "python3"
  },
  "language_info": {
   "codemirror_mode": {
    "name": "ipython",
    "version": 3
   },
   "file_extension": ".py",
   "mimetype": "text/x-python",
   "name": "python",
   "nbconvert_exporter": "python",
   "pygments_lexer": "ipython3",
   "version": "3.11.5"
  }
 },
 "nbformat": 4,
 "nbformat_minor": 2
}
