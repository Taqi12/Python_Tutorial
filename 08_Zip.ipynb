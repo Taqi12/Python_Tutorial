{
 "cells": [
  {
   "cell_type": "markdown",
   "metadata": {},
   "source": [
    "## Zip"
   ]
  },
  {
   "cell_type": "markdown",
   "metadata": {},
   "source": [
    "- `Definition`\n",
    "  - It is a built-in function in Python that takes two or more iterables (e.g., lists, tuples, or strings) as arguments and returns an iterator that generates tuples containing elements from the input iterables. \n",
    "  - The resulting iterator stops when the shortest input iterable is exhausted.\n",
    "- `Syntax`\n",
    "  - `zip(iterable1, iterable2, ...)`"
   ]
  },
  {
   "cell_type": "code",
   "execution_count": 6,
   "metadata": {},
   "outputs": [
    {
     "name": "stdout",
     "output_type": "stream",
     "text": [
      "[(1, 'a'), (2, 'b'), (3, 'c')]\n"
     ]
    }
   ],
   "source": [
    "# Examples 1 : Basic zip() function\n",
    "# Zip two lists\n",
    "list1 = [1, 2, 3]\n",
    "list2 = ['a', 'b', 'c']\n",
    "zipped = zip(list1, list2)\n",
    "\n",
    "# Convert the zip object to a list of tuples\n",
    "result = list(zipped)\n",
    "print(result)\n"
   ]
  },
  {
   "cell_type": "code",
   "execution_count": 7,
   "metadata": {},
   "outputs": [
    {
     "name": "stdout",
     "output_type": "stream",
     "text": [
      "(1, 2, 3)\n",
      "('a', 'b', 'c')\n"
     ]
    }
   ],
   "source": [
    "# Examples 2 : Unzipping with zip\n",
    "# Unzip a list of tuples into two separate lists\n",
    "pairs = [(1, 'a'), (2, 'b'), (3, 'c')]\n",
    "unzipped = list(zip(*pairs))\n",
    "\n",
    "# Separate the elements into two lists\n",
    "numbers, letters = unzipped\n",
    "print(numbers)\n",
    "print(letters)"
   ]
  },
  {
   "cell_type": "code",
   "execution_count": 8,
   "metadata": {},
   "outputs": [
    {
     "name": "stdout",
     "output_type": "stream",
     "text": [
      "[(1, 'a'), (2, 'b'), (3, 'c')]\n"
     ]
    }
   ],
   "source": [
    "# Examples 3 : Using zip with different-length iterables\n",
    "# Zip lists of different lengths\n",
    "list1 = [1, 2, 3, 4]\n",
    "list2 = ['a', 'b', 'c']\n",
    "\n",
    "zipped = zip(list1, list2)\n",
    "result = list(zipped)\n",
    "print(result)"
   ]
  },
  {
   "cell_type": "code",
   "execution_count": 9,
   "metadata": {},
   "outputs": [
    {
     "name": "stdout",
     "output_type": "stream",
     "text": [
      "[('h', 'w'), ('e', 'o'), ('l', 'r'), ('l', 'l'), ('o', 'd')]\n"
     ]
    }
   ],
   "source": [
    "# Examples 4 : Using zip with strings\n",
    "# Zip two strings\n",
    "string1 = 'hello'\n",
    "string2 = 'world'\n",
    "\n",
    "zipped = zip(string1, string2)\n",
    "result = list(zipped)\n",
    "print(result)"
   ]
  },
  {
   "cell_type": "code",
   "execution_count": 10,
   "metadata": {},
   "outputs": [
    {
     "name": "stdout",
     "output_type": "stream",
     "text": [
      "[(2, 'b'), (4, 'd')]\n"
     ]
    }
   ],
   "source": [
    "# Examples 5 : Using zip with condition\n",
    "# Zip two lists and filter based on a condition\n",
    "list1 = [1, 2, 3, 4]\n",
    "list2 = ['a', 'b', 'c', 'd']\n",
    "\n",
    "# Zip the lists and filter tuples where the first element is even\n",
    "zipped_and_filtered = [(num1, char) for num1, char in zip(list1, list2) if num1 % 2 == 0]\n",
    "\n",
    "print(zipped_and_filtered)"
   ]
  },
  {
   "cell_type": "code",
   "execution_count": 11,
   "metadata": {},
   "outputs": [
    {
     "name": "stdout",
     "output_type": "stream",
     "text": [
      "[(2, 'banana'), (4, 'orange')]\n"
     ]
    }
   ],
   "source": [
    "# Examples 6 : Using zip with condition\n",
    "# Zip two lists and filter tuples based on the length of the second element\n",
    "list1 = [1, 2, 3, 4]\n",
    "list2 = ['apple', 'banana', 'kiwi', 'orange']\n",
    "\n",
    "# Zip the lists and filter tuples where the length of the second element is greater than 5\n",
    "zipped_and_filtered = [(num, fruit) for num, fruit in zip(list1, list2) if len(fruit) > 5]\n",
    "\n",
    "print(zipped_and_filtered)"
   ]
  },
  {
   "cell_type": "code",
   "execution_count": 12,
   "metadata": {},
   "outputs": [
    {
     "name": "stdout",
     "output_type": "stream",
     "text": [
      "[('h', 'h'), ('l', 'l')]\n"
     ]
    }
   ],
   "source": [
    "# Examples 7 : Using zip with condition\n",
    "# Zip two strings and filter tuples based on character equality\n",
    "string1 = 'hello'\n",
    "string2 = 'hola'\n",
    "\n",
    "# Zip the strings and filter tuples where corresponding characters are equal\n",
    "zipped_and_filtered = [(char1, char2) for char1, char2 in zip(string1, string2) if char1 == char2]\n",
    "\n",
    "print(zipped_and_filtered)"
   ]
  },
  {
   "cell_type": "code",
   "execution_count": 13,
   "metadata": {},
   "outputs": [
    {
     "name": "stdout",
     "output_type": "stream",
     "text": [
      "[(2, 'banana'), (4, 'orange')]\n"
     ]
    }
   ],
   "source": [
    "# Examples 8 : Using zip with condition\n",
    "# Zip two lists and filter tuples based on two conditions\n",
    "list1 = [1, 2, 3, 4]\n",
    "list2 = ['apple', 'banana', 'kiwi', 'orange']\n",
    "\n",
    "# Zip the lists and filter tuples where the length of the second element is greater than 5 and the first element is even\n",
    "zipped_and_filtered = [(num, fruit) for num, fruit in zip(list1, list2) if len(fruit) > 5 and num % 2 == 0]\n",
    "\n",
    "print(zipped_and_filtered)"
   ]
  },
  {
   "cell_type": "code",
   "execution_count": null,
   "metadata": {},
   "outputs": [],
   "source": []
  }
 ],
 "metadata": {
  "kernelspec": {
   "display_name": "python_ml",
   "language": "python",
   "name": "python3"
  },
  "language_info": {
   "codemirror_mode": {
    "name": "ipython",
    "version": 3
   },
   "file_extension": ".py",
   "mimetype": "text/x-python",
   "name": "python",
   "nbconvert_exporter": "python",
   "pygments_lexer": "ipython3",
   "version": "3.11.5"
  }
 },
 "nbformat": 4,
 "nbformat_minor": 2
}
