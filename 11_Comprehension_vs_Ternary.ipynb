{
 "cells": [
  {
   "cell_type": "markdown",
   "metadata": {},
   "source": [
    "## Comprehension vs Ternary"
   ]
  },
  {
   "cell_type": "markdown",
   "metadata": {},
   "source": [
    "||Comprehension|Ternary|\n",
    "|:--|---|---:|\n",
    "|Purpose|Used for creating new lists/sets/dictionaries by applying an experssion to each item in an existing iterable|Used for expressing conditional operations in a concise way. Provides a one-liner if-else statement|\n",
    "|Syntax|`[expression for item in iterable if condition]`|`value_if_true if condition else value_if_false`|\n",
    "|Readability vs. Conciseness|List comprehensions may be more readable and suitable for complex transformations or filters|Ternary operators are more concise and appropriate for simple conditional assignments|\n",
    "|Scope|List comprehensions have a broader scope, applicable to creating entire lists.|Ternary operators are more focused on handling specific conditional expressions.|\n",
    "|Example|numbers = [1, 2, 3, 4, 5] squares = [x**2 for x in numbers]|x = 10 y = 20     max_value = x if x > y else|"
   ]
  },
  {
   "cell_type": "code",
   "execution_count": null,
   "metadata": {},
   "outputs": [],
   "source": []
  }
 ],
 "metadata": {
  "kernelspec": {
   "display_name": "python_ml",
   "language": "python",
   "name": "python3"
  },
  "language_info": {
   "name": "python",
   "version": "3.11.5"
  }
 },
 "nbformat": 4,
 "nbformat_minor": 2
}
