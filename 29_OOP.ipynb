{
 "cells": [
  {
   "cell_type": "markdown",
   "metadata": {},
   "source": [
    "## Object Oriented Programming (OOP)"
   ]
  },
  {
   "cell_type": "markdown",
   "metadata": {},
   "source": [
    "- `Definition`\n",
    "  - It s a programming paradigm that `organizes code into objects`, which are instances of classes. \n",
    "  - OOP is centered around the concept of \n",
    "    - objects : which can contain data (attributes) \n",
    "    - code : (methods). \n",
    "  - It provides a way to structure and design software in a modular and reusable manner.\n",
    "\n",
    "- Key principles and concepts of OOP include:\n",
    "\n",
    "  - `Class:`\n",
    "    - A class is a `blueprint or template` for creating objects.\n",
    "    - It defines a set of attributes (properties) and methods (functions) that the objects created from the class will have.\n",
    "\n",
    "  - `Object:`\n",
    "    - An object is an instance of a class.\n",
    "    - It represents a real-world entity with attributes (data) and behaviors (methods).\n",
    "\n",
    "  - `Encapsulation:`\n",
    "    - Encapsulation is the bundling of data (attributes) and methods that operate on the data within a single unit (class).\n",
    "    - It helps hide the internal details of an object and only expose what is necessary.\n",
    "\n",
    "  - `Inheritance:`\n",
    "    - Inheritance allows a class (subclass or derived class) to inherit attributes and methods from another class (superclass or base class).\n",
    "    - It promotes code reusability and the creation of a hierarchical structure.\n",
    "\n",
    "  - `Polymorphism:`\n",
    "    - Polymorphism allows objects to be treated as instances of their parent class, even if they are actually instances of a subclass.\n",
    "    - It enables a single interface to represent different types or forms.\n",
    "\n",
    "  - `Abstraction:`\n",
    "    - Abstraction involves simplifying complex systems by modeling classes based on essential properties and behaviors.\n",
    "    - It hides the implementation details and focuses on the essential features.\n",
    "\n",
    "- `Advantages of OOP:`\n",
    " \n",
    "  - `Modularity:`\n",
    "    - Code is organized into classes and objects, promoting modularity and ease of maintenance.\n",
    "\n",
    "  - `Reusability:`\n",
    "    - Classes and objects can be reused in different parts of the code, reducing redundancy.\n",
    "\n",
    "- `Encapsulation:`\n",
    "  - Encapsulation hides the internal details of an object, providing a clean interface.\n",
    "\n",
    "- `Inheritance:`\n",
    "  - Inheritance facilitates code reuse and the creation of a hierarchical structure.\n",
    "\n",
    "- `Polymorphism:`\n",
    "  - Polymorphism allows flexibility and extensibility by treating objects of different classes uniformly.\n",
    "  \n",
    "- `Disadvantages and Limits of OOP:`\n",
    "  \n",
    "  - `Complexity:`\n",
    "    - OOP can introduce complexity, especially in large projects, making it harder to understand for beginners.\n",
    "\n",
    "  - `Performance Overhead:`\n",
    "    - In some cases, OOP can introduce a performance overhead compared to procedural programming.\n",
    "\n",
    "  - `Learning Curve:`\n",
    "    - Learning OOP concepts might be challenging for programmers transitioning from procedural programming.\n",
    "\n",
    "- `Uses and Applications of OOP:`\n",
    "\n",
    "  - `Software Development:`\n",
    "    - OOP is widely used in software development for creating modular and reusable code.\n",
    "\n",
    "  - `Graphical User Interface (GUI) Development:`\n",
    "    - Frameworks like Tkinter in Python use OOP for creating GUI applications.\n",
    "\n",
    "  - `Game Development:`\n",
    "    - OOP is commonly used in game development for modeling game entities and behaviors.\n",
    "\n",
    "  - `Web Development:`\n",
    "    - Many web frameworks, such as Django and Flask, use OOP principles.\n",
    "\n",
    "  - `Embedded Systems:`\n",
    "    - OOP is applied in embedded systems for modeling components and interactions.\n",
    "\n",
    "In summary, OOP provides a powerful and flexible way to design and organize code, making it suitable for a wide range of applications. However, it comes with both advantages and disadvantages, and the choice to use OOP depends on the specific requirements of the project and the preferences of the development team.\n",
    "\n",
    "\n"
   ]
  },
  {
   "cell_type": "markdown",
   "metadata": {},
   "source": [
    "### Class and Object"
   ]
  },
  {
   "cell_type": "code",
   "execution_count": 9,
   "metadata": {},
   "outputs": [
    {
     "name": "stdout",
     "output_type": "stream",
     "text": [
      "Alice\n",
      "30\n",
      "My name is Alice and I am 30 years old.\n",
      "Bob\n",
      "25\n",
      "My name is Bob and I am 25 years old.\n"
     ]
    }
   ],
   "source": [
    "class Person:\n",
    "    '''__init__, which is the constructor method in Python. \n",
    "    It is called automatically when an object of the class is created. \n",
    "    The self parameter refers to the instance of the class itself'''\n",
    "    def __init__(self, name, age): \n",
    "        self.name = name\n",
    "        self.age = age\n",
    "\n",
    "    def introduce(self):\n",
    "        print(f\"My name is {self.name} and I am {self.age} years old.\")\n",
    "\n",
    "# Creating instances of the Person class\n",
    "person1 = Person(\"Alice\", 30)\n",
    "person2 = Person(\"Bob\", 25)\n",
    "\n",
    "# Accessing attributes and calling methods\n",
    "print(person1.name)\n",
    "print(person1.age)\n",
    "person1.introduce() \n",
    "print(person2.name)\n",
    "print(person2.age) \n",
    "person2.introduce()  \n"
   ]
  },
  {
   "cell_type": "code",
   "execution_count": null,
   "metadata": {},
   "outputs": [],
   "source": []
  },
  {
   "cell_type": "code",
   "execution_count": null,
   "metadata": {},
   "outputs": [],
   "source": []
  },
  {
   "cell_type": "code",
   "execution_count": 13,
   "metadata": {},
   "outputs": [
    {
     "name": "stdout",
     "output_type": "stream",
     "text": [
      "Account number of account1: 123456789\n",
      "Account number of account2: 987654321\n",
      "Current balance in account1: 1300\n",
      "Current balance in account2: 300\n"
     ]
    }
   ],
   "source": [
    "class BankAccount:\n",
    "    def __init__(self, account_number, balance):\n",
    "        self.account_number = account_number\n",
    "        self.balance = balance\n",
    "\n",
    "    def deposit(self, amount):\n",
    "        self.balance += amount\n",
    "\n",
    "    def withdraw(self, amount):\n",
    "        if amount <= self.balance:\n",
    "            self.balance -= amount\n",
    "        else:\n",
    "            print(\"Insufficient funds\")\n",
    "\n",
    "# Creating an instance of the BankAccount class\n",
    "account1 = BankAccount(\"123456789\", 1000)\n",
    "account2 = BankAccount(\"987654321\", 500)\n",
    "\n",
    "# Depositing and withdrawing from the account\n",
    "account1.deposit(500)\n",
    "account1.withdraw(200)\n",
    "\n",
    "account2.withdraw(200)\n",
    "\n",
    "# Printing the account number\n",
    "print(\"Account number of account1:\",account1.account_number) \n",
    "print(\"Account number of account2:\",account2.account_number)\n",
    "\n",
    "# Printing the updated balance\n",
    "print(\"Current balance in account1:\",account1.balance)  \n",
    "print(\"Current balance in account2:\",account2.balance)\n",
    "\n",
    "\n"
   ]
  },
  {
   "cell_type": "code",
   "execution_count": null,
   "metadata": {},
   "outputs": [],
   "source": []
  },
  {
   "cell_type": "code",
   "execution_count": null,
   "metadata": {},
   "outputs": [],
   "source": []
  },
  {
   "cell_type": "code",
   "execution_count": 16,
   "metadata": {},
   "outputs": [
    {
     "name": "stdout",
     "output_type": "stream",
     "text": [
      "Width of rectangle1: 5\n",
      "Height of rectangle1: 4\n",
      "Area of rectangle1: 20\n",
      "Perimeter of rectangle1: 18\n"
     ]
    }
   ],
   "source": [
    "class Rectangle:\n",
    "    def __init__(self, width, height):\n",
    "        self.width = width\n",
    "        self.height = height\n",
    "\n",
    "    def area(self):\n",
    "        return self.width * self.height\n",
    "\n",
    "    def perimeter(self):\n",
    "        return 2 * (self.width + self.height)\n",
    "\n",
    "# Creating an instance of the Rectangle class\n",
    "rectangle1 = Rectangle(5, 4)\n",
    "\n",
    "# Accessing attributes\n",
    "print(\"Width of rectangle1:\",rectangle1.width)\n",
    "print(\"Height of rectangle1:\",rectangle1.height)\n",
    "\n",
    "# Calculating area and perimeter of the rectangle\n",
    "print(\"Area of rectangle1:\",rectangle1.area())      \n",
    "print(\"Perimeter of rectangle1:\",rectangle1.perimeter()) \n"
   ]
  },
  {
   "cell_type": "code",
   "execution_count": null,
   "metadata": {},
   "outputs": [],
   "source": []
  },
  {
   "cell_type": "code",
   "execution_count": null,
   "metadata": {},
   "outputs": [],
   "source": []
  },
  {
   "cell_type": "code",
   "execution_count": 17,
   "metadata": {},
   "outputs": [
    {
     "name": "stdout",
     "output_type": "stream",
     "text": [
      "John Doe earned a bonus of $5000.0\n",
      "Jane Smith earned a bonus of $4800.0\n"
     ]
    }
   ],
   "source": [
    "class Employee:\n",
    "    def __init__(self, name, employee_id, salary):\n",
    "        self.name = name\n",
    "        self.employee_id = employee_id\n",
    "        self.salary = salary\n",
    "\n",
    "    def calculate_bonus(self, bonus_percentage):\n",
    "        bonus_amount = self.salary * (bonus_percentage / 100)\n",
    "        return bonus_amount\n",
    "\n",
    "# Creating instances of the Employee class\n",
    "employee1 = Employee(\"John Doe\", 1001, 50000)\n",
    "employee2 = Employee(\"Jane Smith\", 1002, 60000)\n",
    "\n",
    "# Calculating bonus for employees\n",
    "bonus1 = employee1.calculate_bonus(10)  # 10% bonus\n",
    "bonus2 = employee2.calculate_bonus(8)   # 8% bonus\n",
    "\n",
    "print(f\"{employee1.name} earned a bonus of ${bonus1}\")\n",
    "print(f\"{employee2.name} earned a bonus of ${bonus2}\")\n"
   ]
  },
  {
   "cell_type": "code",
   "execution_count": null,
   "metadata": {},
   "outputs": [],
   "source": []
  },
  {
   "cell_type": "code",
   "execution_count": null,
   "metadata": {},
   "outputs": [],
   "source": []
  },
  {
   "cell_type": "code",
   "execution_count": null,
   "metadata": {},
   "outputs": [],
   "source": []
  },
  {
   "cell_type": "code",
   "execution_count": 18,
   "metadata": {},
   "outputs": [
    {
     "name": "stdout",
     "output_type": "stream",
     "text": [
      "The average grade for Alice is 88.75\n",
      "The average grade for Bob is 78.75\n"
     ]
    }
   ],
   "source": [
    "class Student:\n",
    "    def __init__(self, name, student_id, grades):\n",
    "        self.name = name\n",
    "        self.student_id = student_id\n",
    "        self.grades = grades\n",
    "\n",
    "    def calculate_average_grade(self):\n",
    "        total_grades = sum(self.grades)\n",
    "        average_grade = total_grades / len(self.grades)\n",
    "        return average_grade\n",
    "\n",
    "# Creating instances of the Student class\n",
    "student1 = Student(\"Alice\", 101, [85, 90, 88, 92])\n",
    "student2 = Student(\"Bob\", 102, [75, 80, 78, 82])\n",
    "\n",
    "# Calculating average grades for students\n",
    "average_grade1 = student1.calculate_average_grade()\n",
    "average_grade2 = student2.calculate_average_grade()\n",
    "\n",
    "print(f\"The average grade for {student1.name} is {average_grade1}\")\n",
    "print(f\"The average grade for {student2.name} is {average_grade2}\")\n"
   ]
  },
  {
   "cell_type": "code",
   "execution_count": null,
   "metadata": {},
   "outputs": [],
   "source": []
  },
  {
   "cell_type": "code",
   "execution_count": null,
   "metadata": {},
   "outputs": [],
   "source": []
  },
  {
   "cell_type": "code",
   "execution_count": 19,
   "metadata": {},
   "outputs": [
    {
     "name": "stdout",
     "output_type": "stream",
     "text": [
      "Book 'Harry Potter and the Philosopher's Stone' has been added to the library.\n",
      "Book 'To Kill a Mockingbird' has been added to the library.\n",
      "Book 'The Catcher in the Rye' has been added to the library.\n",
      "Book 'To Kill a Mockingbird' by Harper Lee has been checked out.\n",
      "Book 'To Kill a Mockingbird' by Harper Lee has been checked in.\n"
     ]
    }
   ],
   "source": [
    "class Book:\n",
    "    def __init__(self, title, author, genre):\n",
    "        self.title = title\n",
    "        self.author = author\n",
    "        self.genre = genre\n",
    "        self.available = True\n",
    "\n",
    "    def checkout(self):\n",
    "        if self.available:\n",
    "            self.available = False\n",
    "            print(f\"Book '{self.title}' by {self.author} has been checked out.\")\n",
    "        else:\n",
    "            print(\"Sorry, this book is already checked out.\")\n",
    "\n",
    "    def checkin(self):\n",
    "        if not self.available:\n",
    "            self.available = True\n",
    "            print(f\"Book '{self.title}' by {self.author} has been checked in.\")\n",
    "        else:\n",
    "            print(\"This book is already available.\")\n",
    "\n",
    "class Library:\n",
    "    def __init__(self, name):\n",
    "        self.name = name\n",
    "        self.books = []\n",
    "\n",
    "    def add_book(self, book):\n",
    "        self.books.append(book)\n",
    "        print(f\"Book '{book.title}' has been added to the library.\")\n",
    "\n",
    "    def search_book(self, title):\n",
    "        for book in self.books:\n",
    "            if book.title.lower() == title.lower():\n",
    "                return book\n",
    "        return None\n",
    "\n",
    "# Creating instances of the Book class\n",
    "book1 = Book(\"Harry Potter and the Philosopher's Stone\", \"J.K. Rowling\", \"Fantasy\")\n",
    "book2 = Book(\"To Kill a Mockingbird\", \"Harper Lee\", \"Fiction\")\n",
    "book3 = Book(\"The Catcher in the Rye\", \"J.D. Salinger\", \"Coming-of-age\")\n",
    "\n",
    "# Creating an instance of the Library class\n",
    "library = Library(\"Main Library\")\n",
    "\n",
    "# Adding books to the library\n",
    "library.add_book(book1)\n",
    "library.add_book(book2)\n",
    "library.add_book(book3)\n",
    "\n",
    "# Searching for a book and checking it out\n",
    "searched_book = library.search_book(\"To Kill a Mockingbird\")\n",
    "if searched_book:\n",
    "    searched_book.checkout()\n",
    "else:\n",
    "    print(\"Book not found.\")\n",
    "\n",
    "# Checking in a book\n",
    "book2.checkin()\n"
   ]
  },
  {
   "cell_type": "code",
   "execution_count": null,
   "metadata": {},
   "outputs": [],
   "source": []
  },
  {
   "cell_type": "code",
   "execution_count": null,
   "metadata": {},
   "outputs": [],
   "source": []
  },
  {
   "cell_type": "code",
   "execution_count": null,
   "metadata": {},
   "outputs": [],
   "source": []
  },
  {
   "cell_type": "markdown",
   "metadata": {},
   "source": [
    "### Encapsulation"
   ]
  },
  {
   "cell_type": "markdown",
   "metadata": {},
   "source": [
    "Encapsulation is a fundamental concept in object-oriented programming that involves bundling \n",
    "the data (attributes) and methods (functions) that operate on the data into a single unit called a class."
   ]
  },
  {
   "cell_type": "code",
   "execution_count": null,
   "metadata": {},
   "outputs": [],
   "source": []
  },
  {
   "cell_type": "code",
   "execution_count": null,
   "metadata": {},
   "outputs": [],
   "source": []
  },
  {
   "cell_type": "code",
   "execution_count": null,
   "metadata": {},
   "outputs": [],
   "source": []
  },
  {
   "cell_type": "code",
   "execution_count": null,
   "metadata": {},
   "outputs": [],
   "source": []
  },
  {
   "cell_type": "code",
   "execution_count": null,
   "metadata": {},
   "outputs": [],
   "source": []
  },
  {
   "cell_type": "code",
   "execution_count": 21,
   "metadata": {},
   "outputs": [
    {
     "name": "stdout",
     "output_type": "stream",
     "text": [
      "Car Company :  Toyota\n",
      "Car Model :  Camry\n",
      "This car is a Toyota Camry.\n"
     ]
    }
   ],
   "source": [
    "class Car:\n",
    "    def __init__(self, make, model):\n",
    "        self.make = make\n",
    "        self.model = model\n",
    "\n",
    "    def display_info(self):\n",
    "        return f\"This car is a {self.make} {self.model}.\"\n",
    "\n",
    "# Creating an instance of the Car class\n",
    "my_car = Car(\"Toyota\", \"Camry\")\n",
    "\n",
    "# Accessing attributes and calling methods\n",
    "\n",
    "print(\"Car Company : \",my_car.make)\n",
    "print(\"Car Model : \",my_car.model)\n",
    "print(my_car.display_info())  \n"
   ]
  },
  {
   "cell_type": "markdown",
   "metadata": {},
   "source": [
    "- In this example, the Car class encapsulates the attributes make and model, \n",
    "along with the method display_info() to provide information about the car. \n",
    "- Data (make and model) and behavior (displaying information) are encapsulated within the class."
   ]
  },
  {
   "cell_type": "code",
   "execution_count": null,
   "metadata": {},
   "outputs": [],
   "source": []
  },
  {
   "cell_type": "code",
   "execution_count": null,
   "metadata": {},
   "outputs": [],
   "source": []
  },
  {
   "cell_type": "code",
   "execution_count": null,
   "metadata": {},
   "outputs": [],
   "source": []
  },
  {
   "cell_type": "code",
   "execution_count": 22,
   "metadata": {},
   "outputs": [
    {
     "name": "stdout",
     "output_type": "stream",
     "text": [
      "1000\n",
      "1500\n",
      "1300\n"
     ]
    }
   ],
   "source": [
    "class BankAccount:\n",
    "    def __init__(self, account_number, balance):\n",
    "        self._account_number = account_number  # Private attribute\n",
    "        self._balance = balance                # Private attribute\n",
    "\n",
    "    def get_balance(self):\n",
    "        return self._balance\n",
    "\n",
    "    def deposit(self, amount):\n",
    "        if amount > 0:\n",
    "            self._balance += amount\n",
    "\n",
    "    def withdraw(self, amount):\n",
    "        if 0 < amount <= self._balance:\n",
    "            self._balance -= amount\n",
    "\n",
    "# Creating an instance of the BankAccount class\n",
    "my_account = BankAccount(\"123456789\", 1000)\n",
    "\n",
    "# Accessing attributes and calling methods\n",
    "print(my_account.get_balance())  \n",
    "my_account.deposit(500)\n",
    "print(my_account.get_balance())  \n",
    "my_account.withdraw(200)\n",
    "print(my_account.get_balance())  \n"
   ]
  },
  {
   "cell_type": "markdown",
   "metadata": {},
   "source": [
    "- In this example, the BankAccount class encapsulates the attributes account_number and balance as private attributes with a leading underscore _. This convention indicates that they are intended for internal use and should not be accessed directly from outside the class. Access to these attributes is provided through getter and setter methods (get_balance(), deposit(), withdraw()), enforcing encapsulation."
   ]
  },
  {
   "cell_type": "code",
   "execution_count": null,
   "metadata": {},
   "outputs": [],
   "source": []
  },
  {
   "cell_type": "code",
   "execution_count": null,
   "metadata": {},
   "outputs": [],
   "source": []
  },
  {
   "cell_type": "code",
   "execution_count": null,
   "metadata": {},
   "outputs": [],
   "source": []
  },
  {
   "cell_type": "code",
   "execution_count": 1,
   "metadata": {},
   "outputs": [
    {
     "name": "stdout",
     "output_type": "stream",
     "text": [
      "Alice\n",
      "Bob\n"
     ]
    }
   ],
   "source": [
    "class Person:\n",
    "    def __init__(self, name):\n",
    "        self._name = name\n",
    "\n",
    "    @property # getter method is a method used to retrieve the value of a private attribute of a class.\n",
    "    def name(self):\n",
    "        return self._name\n",
    "\n",
    "    @name.setter # setter method is a method used to modify the value of a private attribute of a class\n",
    "    def name(self, value):\n",
    "        if isinstance(value, str):\n",
    "            self._name = value\n",
    "        else:\n",
    "            raise TypeError(\"Name must be a string.\")\n",
    "\n",
    "# Creating an instance of the Person class\n",
    "person = Person(\"Alice\")\n",
    "\n",
    "# Accessing attributes using property decorators\n",
    "print(person.name)  \n",
    "person.name = \"Bob\"\n",
    "print(person.name)  \n"
   ]
  },
  {
   "cell_type": "markdown",
   "metadata": {},
   "source": [
    "- In this example, the Person class encapsulates the attribute name using property decorators @property and @name.setter. This allows us to define getter and setter methods for the name attribute, providing controlled access and validation while preserving encapsulation."
   ]
  },
  {
   "cell_type": "code",
   "execution_count": null,
   "metadata": {},
   "outputs": [],
   "source": []
  },
  {
   "cell_type": "code",
   "execution_count": null,
   "metadata": {},
   "outputs": [],
   "source": []
  },
  {
   "cell_type": "code",
   "execution_count": null,
   "metadata": {},
   "outputs": [],
   "source": []
  },
  {
   "cell_type": "code",
   "execution_count": null,
   "metadata": {},
   "outputs": [],
   "source": []
  },
  {
   "cell_type": "markdown",
   "metadata": {},
   "source": [
    "### Inheritance"
   ]
  },
  {
   "cell_type": "code",
   "execution_count": 25,
   "metadata": {},
   "outputs": [
    {
     "name": "stdout",
     "output_type": "stream",
     "text": [
      "This car is a red Toyota Camry.\n"
     ]
    }
   ],
   "source": [
    "class Vehicle:\n",
    "    def __init__(self, make, model):\n",
    "        self.make = make\n",
    "        self.model = model\n",
    "\n",
    "    def display_info(self):\n",
    "        return f\"This vehicle is a {self.make} {self.model}.\"\n",
    "\n",
    "# Car class inherits from Vehicle\n",
    "class Car(Vehicle):\n",
    "    def __init__(self, make, model, color):\n",
    "        super().__init__(make, model)\n",
    "        self.color = color\n",
    "\n",
    "    def display_info(self):  # Method overriding\n",
    "        return f\"This car is a {self.color} {self.make} {self.model}.\"\n",
    "\n",
    "# Creating an instance of the Car class\n",
    "my_car = Car(\"Toyota\", \"Camry\", \"red\")\n",
    "\n",
    "# Accessing attributes and calling methods\n",
    "print(my_car.display_info())  # Output: This car is a red Toyota Camry.\n"
   ]
  },
  {
   "cell_type": "markdown",
   "metadata": {},
   "source": [
    "- In this example, the Car class inherits from the Vehicle class. It inherits the make and model attributes and the display_info() method from the Vehicle class. The Car class adds an additional attribute color and overrides the display_info() method to provide specific information about cars."
   ]
  },
  {
   "cell_type": "code",
   "execution_count": null,
   "metadata": {},
   "outputs": [],
   "source": []
  },
  {
   "cell_type": "code",
   "execution_count": null,
   "metadata": {},
   "outputs": [],
   "source": []
  },
  {
   "cell_type": "code",
   "execution_count": null,
   "metadata": {},
   "outputs": [],
   "source": []
  },
  {
   "cell_type": "code",
   "execution_count": 27,
   "metadata": {},
   "outputs": [
    {
     "name": "stdout",
     "output_type": "stream",
     "text": [
      "1575.0\n"
     ]
    }
   ],
   "source": [
    "class BankAccount:\n",
    "    def __init__(self, account_number, balance):\n",
    "        self.account_number = account_number\n",
    "        self.balance = balance\n",
    "\n",
    "    def deposit(self, amount):\n",
    "        if amount > 0:\n",
    "            self.balance += amount\n",
    "\n",
    "    def withdraw(self, amount):\n",
    "        if 0 < amount <= self.balance:\n",
    "            self.balance -= amount\n",
    "\n",
    "# SavingsAccount class inherits from BankAccount\n",
    "class SavingsAccount(BankAccount):\n",
    "    def __init__(self, account_number, balance, interest_rate):\n",
    "        super().__init__(account_number, balance)\n",
    "        self.interest_rate = interest_rate\n",
    "\n",
    "    def add_interest(self):\n",
    "        interest = self.balance * (self.interest_rate / 100)\n",
    "        self.balance += interest\n",
    "\n",
    "# Creating an instance of the SavingsAccount class\n",
    "savings_account = SavingsAccount(\"123456789\", 1000, 5)\n",
    "\n",
    "# Performing operations\n",
    "savings_account.deposit(500)\n",
    "savings_account.add_interest()\n",
    "print(savings_account.balance)  \n"
   ]
  },
  {
   "cell_type": "markdown",
   "metadata": {},
   "source": [
    "- In this example, the SavingsAccount class inherits from the BankAccount class. It inherits the account_number, balance, deposit(), and withdraw() methods from the BankAccount class and adds an additional attribute interest_rate and a method add_interest() to calculate and add interest to the account balance."
   ]
  },
  {
   "cell_type": "code",
   "execution_count": null,
   "metadata": {},
   "outputs": [],
   "source": []
  },
  {
   "cell_type": "code",
   "execution_count": null,
   "metadata": {},
   "outputs": [],
   "source": []
  },
  {
   "cell_type": "code",
   "execution_count": null,
   "metadata": {},
   "outputs": [],
   "source": []
  },
  {
   "cell_type": "code",
   "execution_count": null,
   "metadata": {},
   "outputs": [],
   "source": []
  },
  {
   "cell_type": "markdown",
   "metadata": {},
   "source": [
    "### Polymorphism"
   ]
  },
  {
   "cell_type": "code",
   "execution_count": 28,
   "metadata": {},
   "outputs": [
    {
     "name": "stdout",
     "output_type": "stream",
     "text": [
      "Woof!\n",
      "Meow!\n"
     ]
    }
   ],
   "source": [
    "class Animal:\n",
    "    def speak(self):\n",
    "        raise NotImplementedError(\"Subclass must implement abstract method\")\n",
    "\n",
    "# Dog class overrides the speak method\n",
    "class Dog(Animal):\n",
    "    def speak(self):\n",
    "        return \"Woof!\"\n",
    "\n",
    "# Cat class overrides the speak method\n",
    "class Cat(Animal):\n",
    "    def speak(self):\n",
    "        return \"Meow!\"\n",
    "\n",
    "# Function demonstrating polymorphism\n",
    "def animal_sound(animal):\n",
    "    return animal.speak()\n",
    "\n",
    "# Creating instances of different classes\n",
    "dog = Dog()\n",
    "cat = Cat()\n",
    "\n",
    "# Calling the function with different objects\n",
    "print(animal_sound(dog))  # Output: Woof!\n",
    "print(animal_sound(cat))  # Output: Meow!\n"
   ]
  },
  {
   "cell_type": "markdown",
   "metadata": {},
   "source": [
    "- In this example, the Animal class has an abstract method speak() which raises a NotImplementedError. The Dog and Cat classes override this method with their own implementations. The animal_sound() function demonstrates polymorphism by accepting any object that inherits from the Animal class and calling its speak() method, resulting in different sounds based on the object type."
   ]
  },
  {
   "cell_type": "code",
   "execution_count": null,
   "metadata": {},
   "outputs": [],
   "source": []
  },
  {
   "cell_type": "code",
   "execution_count": null,
   "metadata": {},
   "outputs": [],
   "source": []
  },
  {
   "cell_type": "code",
   "execution_count": null,
   "metadata": {},
   "outputs": [],
   "source": []
  },
  {
   "cell_type": "code",
   "execution_count": 29,
   "metadata": {},
   "outputs": [
    {
     "name": "stdout",
     "output_type": "stream",
     "text": [
      "20\n",
      "28.26\n"
     ]
    }
   ],
   "source": [
    "class Shape:\n",
    "    def area(self):\n",
    "        raise NotImplementedError(\"Subclass must implement abstract method\")\n",
    "\n",
    "# Rectangle class inherits from Shape\n",
    "class Rectangle(Shape):\n",
    "    def __init__(self, width, height):\n",
    "        self.width = width\n",
    "        self.height = height\n",
    "\n",
    "    def area(self):\n",
    "        return self.width * self.height\n",
    "\n",
    "# Circle class inherits from Shape\n",
    "class Circle(Shape):\n",
    "    def __init__(self, radius):\n",
    "        self.radius = radius\n",
    "\n",
    "    def area(self):\n",
    "        return 3.14 * self.radius ** 2\n",
    "\n",
    "# Function demonstrating polymorphism\n",
    "def calculate_area(shape):\n",
    "    return shape.area()\n",
    "\n",
    "# Creating instances of different classes\n",
    "rectangle = Rectangle(5, 4)\n",
    "circle = Circle(3)\n",
    "\n",
    "# Calling the function with different objects\n",
    "print(calculate_area(rectangle))  # Output: 20\n",
    "print(calculate_area(circle))     # Output: 28.26 (approximately)\n"
   ]
  },
  {
   "cell_type": "markdown",
   "metadata": {},
   "source": [
    "- In this example, the Shape class has an abstract method area() which raises a NotImplementedError. The Rectangle and Circle classes inherit from Shape and override the area() method with their own implementations. The calculate_area() function demonstrates polymorphism by accepting any object that inherits from the Shape class and calling its area() method, resulting in different area calculations based on the object type."
   ]
  },
  {
   "cell_type": "code",
   "execution_count": null,
   "metadata": {},
   "outputs": [],
   "source": []
  },
  {
   "cell_type": "code",
   "execution_count": null,
   "metadata": {},
   "outputs": [],
   "source": []
  },
  {
   "cell_type": "code",
   "execution_count": null,
   "metadata": {},
   "outputs": [],
   "source": []
  },
  {
   "cell_type": "code",
   "execution_count": null,
   "metadata": {},
   "outputs": [],
   "source": []
  }
 ],
 "metadata": {
  "kernelspec": {
   "display_name": "python_ml",
   "language": "python",
   "name": "python3"
  },
  "language_info": {
   "codemirror_mode": {
    "name": "ipython",
    "version": 3
   },
   "file_extension": ".py",
   "mimetype": "text/x-python",
   "name": "python",
   "nbconvert_exporter": "python",
   "pygments_lexer": "ipython3",
   "version": "3.11.5"
  }
 },
 "nbformat": 4,
 "nbformat_minor": 2
}
