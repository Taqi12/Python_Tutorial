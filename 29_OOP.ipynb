{
 "cells": [
  {
   "cell_type": "markdown",
   "metadata": {},
   "source": [
    "## Object - Oriented Programming (OOP)\n"
   ]
  },
  {
   "cell_type": "markdown",
   "metadata": {},
   "source": [
    "- `Definition`\n",
    "  - It s a programming paradigm that `organizes code into objects`, which are instances of classes. \n",
    "  - OOP is centered around the concept of \n",
    "    - objects : which can contain data (attributes) \n",
    "    - code : (methods). \n",
    "  - It provides a way to structure and design software in a modular and reusable manner.\n",
    "\n",
    "- Key principles and concepts of OOP include:\n",
    "\n",
    "  - `Class:`\n",
    "    - A class is a `blueprint or template` for creating objects.\n",
    "    - It defines a set of attributes (properties) and methods (functions) that the objects created from the class will have.\n",
    "\n",
    "  - `Object:`\n",
    "    - An object is an instance of a class.\n",
    "    - It represents a real-world entity with attributes (data) and behaviors (methods).\n",
    "\n",
    "  - `Encapsulation:`\n",
    "    - Encapsulation is the bundling of data (attributes) and methods that operate on the data within a single unit (class).\n",
    "    - It helps hide the internal details of an object and only expose what is necessary.\n",
    "\n",
    "  - `Inheritance:`\n",
    "    - Inheritance allows a class (subclass or derived class) to inherit attributes and methods from another class (superclass or base class).\n",
    "    - It promotes code reusability and the creation of a hierarchical structure.\n",
    "\n",
    "  - `Polymorphism:`\n",
    "    - Polymorphism allows objects to be treated as instances of their parent class, even if they are actually instances of a subclass.\n",
    "    - It enables a single interface to represent different types or forms.\n",
    "\n",
    "  - `Abstraction:`\n",
    "    - Abstraction involves simplifying complex systems by modeling classes based on essential properties and behaviors.\n",
    "    - It hides the implementation details and focuses on the essential features.\n",
    "\n",
    "- `Advantages of OOP:`\n",
    " \n",
    "  - `Modularity:`\n",
    "    - Code is organized into classes and objects, promoting modularity and ease of maintenance.\n",
    "\n",
    "  - `Reusability:`\n",
    "    - Classes and objects can be reused in different parts of the code, reducing redundancy.\n",
    "\n",
    "- `Encapsulation:`\n",
    "  - Encapsulation hides the internal details of an object, providing a clean interface.\n",
    "\n",
    "- `Inheritance:`\n",
    "  - Inheritance facilitates code reuse and the creation of a hierarchical structure.\n",
    "\n",
    "- `Polymorphism:`\n",
    "  - Polymorphism allows flexibility and extensibility by treating objects of different classes uniformly.\n",
    "  \n",
    "- `Disadvantages and Limits of OOP:`\n",
    "  \n",
    "  - `Complexity:`\n",
    "    - OOP can introduce complexity, especially in large projects, making it harder to understand for beginners.\n",
    "\n",
    "  - `Performance Overhead:`\n",
    "    - In some cases, OOP can introduce a performance overhead compared to procedural programming.\n",
    "\n",
    "  - `Learning Curve:`\n",
    "    - Learning OOP concepts might be challenging for programmers transitioning from procedural programming.\n",
    "\n",
    "- `Uses and Applications of OOP:`\n",
    "\n",
    "  - `Software Development:`\n",
    "    - OOP is widely used in software development for creating modular and reusable code.\n",
    "\n",
    "  - `Graphical User Interface (GUI) Development:`\n",
    "    - Frameworks like Tkinter in Python use OOP for creating GUI applications.\n",
    "\n",
    "  - `Game Development:`\n",
    "    - OOP is commonly used in game development for modeling game entities and behaviors.\n",
    "\n",
    "  - `Web Development:`\n",
    "    - Many web frameworks, such as Django and Flask, use OOP principles.\n",
    "\n",
    "  - `Embedded Systems:`\n",
    "    - OOP is applied in embedded systems for modeling components and interactions.\n",
    "\n",
    "In summary, OOP provides a powerful and flexible way to design and organize code, making it suitable for a wide range of applications. However, it comes with both advantages and disadvantages, and the choice to use OOP depends on the specific requirements of the project and the preferences of the development team.\n",
    "\n",
    "\n"
   ]
  },
  {
   "cell_type": "code",
   "execution_count": 13,
   "metadata": {},
   "outputs": [
    {
     "name": "stdout",
     "output_type": "stream",
     "text": [
      "Buddy says: Woof!\n",
      "Whiskers says: Meow!\n"
     ]
    }
   ],
   "source": [
    "# Example\n",
    "\n",
    "class Animal:\n",
    "    def __init__(self, name):   # __init__(constructor) method is a special method in Python classes that is called when an object is created. \n",
    "                                # self is a reference to the instance of the object being created.\n",
    "\n",
    "        self.name = name\n",
    "\n",
    "    def make_sound(self):\n",
    "        pass\n",
    "\n",
    "class Dog(Animal):\n",
    "    def make_sound(self):\n",
    "        return \"Woof!\"\n",
    "\n",
    "class Cat(Animal):\n",
    "    def make_sound(self):\n",
    "        return \"Meow!\"\n",
    "\n",
    "# Creating instances of classes\n",
    "dog_instance = Dog(\"Buddy\")\n",
    "cat_instance = Cat(\"Whiskers\")\n",
    "\n",
    "# Using polymorphism\n",
    "for animal in [dog_instance, cat_instance]:\n",
    "    print(f\"{animal.name} says: {animal.make_sound()}\")\n"
   ]
  },
  {
   "cell_type": "markdown",
   "metadata": {},
   "source": [
    "- Animal is a base class with a common method make_sound.\n",
    "- Dog and Cat are subclasses that inherit from Animal and provide their own implementation of make_sound.\n",
    "- Polymorphism is demonstrated by using a list of Animal instances, where each subclass is treated as an Animal."
   ]
  },
  {
   "cell_type": "markdown",
   "metadata": {},
   "source": [
    "### Class and Object"
   ]
  },
  {
   "cell_type": "code",
   "execution_count": 2,
   "metadata": {},
   "outputs": [
    {
     "name": "stdout",
     "output_type": "stream",
     "text": [
      "Toyota\n",
      "Camry\n"
     ]
    }
   ],
   "source": [
    "# Define a class named Car\n",
    "class Car:\n",
    "    # Constructor method to initialize the attributes 'brand' and 'model'\n",
    "    def __init__(self, brand, model):\n",
    "        self.brand = brand  # Assign the 'brand' attribute with the provided value\n",
    "        self.model = model  # Assign the 'model' attribute with the provided value\n",
    "\n",
    "# Create an instance of the Car class with the brand \"Toyota\" and model \"Camry\"\n",
    "my_car = Car(\"Toyota\", \"Camry\")\n",
    "\n",
    "# Access and print the 'brand' attribute of the my_car instance\n",
    "print(my_car.brand)  # Output: Toyota\n",
    "\n",
    "# Access and print the 'model' attribute of the my_car instance\n",
    "print(my_car.model)  # Output: Camry\n"
   ]
  },
  {
   "cell_type": "markdown",
   "metadata": {},
   "source": [
    "### Encapsulation"
   ]
  },
  {
   "cell_type": "code",
   "execution_count": 1,
   "metadata": {},
   "outputs": [],
   "source": [
    "# Define a class named BankAccount\n",
    "class BankAccount:\n",
    "    # Constructor method to initialize the attributes 'account_number' and 'balance'\n",
    "    def __init__(self, account_number, balance):\n",
    "        self.account_number = account_number  # Assign the 'account_number' attribute with the provided value\n",
    "        self.balance = balance  # Assign the 'balance' attribute with the provided value\n",
    "\n",
    "    # Method to deposit money into the account\n",
    "    def deposit(self, amount):\n",
    "        self.balance += amount  # Increase the 'balance' attribute by the provided 'amount'\n",
    "\n",
    "    # Method to withdraw money from the account\n",
    "    def withdraw(self, amount):\n",
    "        if amount <= self.balance:  # Check if there are sufficient funds in the account\n",
    "            self.balance -= amount  # Decrease the 'balance' attribute by the provided 'amount'\n",
    "            return amount  # Return the withdrawn amount\n",
    "        else:\n",
    "            return \"Insufficient funds\"  # Return a message if there are insufficient funds for withdrawal\n"
   ]
  },
  {
   "cell_type": "markdown",
   "metadata": {},
   "source": [
    "### Inheritance"
   ]
  },
  {
   "cell_type": "code",
   "execution_count": 17,
   "metadata": {},
   "outputs": [
    {
     "name": "stdout",
     "output_type": "stream",
     "text": [
      "Animal speaks\n",
      "Woof!\n"
     ]
    }
   ],
   "source": [
    "class Animal:\n",
    "    def speak(self):\n",
    "        return \"Animal speaks\"\n",
    "\n",
    "class Dog(Animal):\n",
    "    def bark(self):\n",
    "        return \"Woof!\"\n",
    "\n",
    "my_dog = Dog()\n",
    "print(my_dog.speak())  # Inherited method\n",
    "print(my_dog.bark())   # Own method"
   ]
  },
  {
   "cell_type": "markdown",
   "metadata": {},
   "source": [
    "## Polymorphism"
   ]
  },
  {
   "cell_type": "code",
   "execution_count": 19,
   "metadata": {},
   "outputs": [
    {
     "name": "stdout",
     "output_type": "stream",
     "text": [
      "Animal speaks\n",
      "Animal speaks\n"
     ]
    }
   ],
   "source": [
    "def make_sound(animal):\n",
    "    return animal.speak()\n",
    "\n",
    "my_animal = Animal()\n",
    "my_dog = Dog()\n",
    "\n",
    "print(make_sound(my_animal))  # Using Animal instance\n",
    "print(make_sound(my_dog))     # Using Dog instance (polymorphism)\n"
   ]
  },
  {
   "cell_type": "code",
   "execution_count": null,
   "metadata": {},
   "outputs": [],
   "source": []
  }
 ],
 "metadata": {
  "kernelspec": {
   "display_name": "python_ml",
   "language": "python",
   "name": "python3"
  },
  "language_info": {
   "codemirror_mode": {
    "name": "ipython",
    "version": 3
   },
   "file_extension": ".py",
   "mimetype": "text/x-python",
   "name": "python",
   "nbconvert_exporter": "python",
   "pygments_lexer": "ipython3",
   "version": "3.11.5"
  }
 },
 "nbformat": 4,
 "nbformat_minor": 2
}
