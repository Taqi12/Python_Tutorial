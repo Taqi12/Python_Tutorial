{
 "cells": [
  {
   "cell_type": "markdown",
   "metadata": {},
   "source": [
    "## Ternary Operator"
   ]
  },
  {
   "cell_type": "markdown",
   "metadata": {},
   "source": [
    "- `Definition`\n",
    "  - It is a concise way to express a conditional expression. \n",
    "  - It is also known as the conditional expression or the ternary conditional operator.\n",
    "- `Syntax`\n",
    "  - `value_if_true if condition else value_if_false`"
   ]
  },
  {
   "cell_type": "code",
   "execution_count": 3,
   "metadata": {},
   "outputs": [
    {
     "name": "stdout",
     "output_type": "stream",
     "text": [
      "10\n"
     ]
    }
   ],
   "source": [
    "# Example 1: Simple Ternary Operator\n",
    "a = 10\n",
    "b = 20\n",
    "min = a if a < b else b # it will return 10 if a < b else 20\n",
    "print(min)"
   ]
  },
  {
   "cell_type": "code",
   "execution_count": 5,
   "metadata": {},
   "outputs": [
    {
     "name": "stdout",
     "output_type": "stream",
     "text": [
      "Even\n"
     ]
    }
   ],
   "source": [
    "# Example 2: Ternary Operator with inline assignment\n",
    "x = 10\n",
    "result = \"Even\" if x % 2 == 0 else \"Odd\"\n",
    "print(result)"
   ]
  },
  {
   "cell_type": "code",
   "execution_count": 6,
   "metadata": {},
   "outputs": [
    {
     "name": "stdout",
     "output_type": "stream",
     "text": [
      "Divisible by 5\n"
     ]
    }
   ],
   "source": [
    "# Example 3: Nested Ternary Operator\n",
    "x = 15\n",
    "\n",
    "result = \"Even\" if x % 2 == 0 else (\"Divisible by 5\" if x % 5 == 0 else \"Odd\")\n",
    "print(result)\n"
   ]
  },
  {
   "cell_type": "code",
   "execution_count": 10,
   "metadata": {},
   "outputs": [
    {
     "name": "stdout",
     "output_type": "stream",
     "text": [
      "Odd\n"
     ]
    }
   ],
   "source": [
    "# Example 4: Ternary Operator with function call\n",
    "def is_positive(num):\n",
    "    return \"Positive\" if num > 0 else \"Non-positive\"\n",
    "\n",
    "def is_even(num):\n",
    "    return \"Even\" if num % 2 == 0 else \"Odd\"\n",
    "\n",
    "x = 5\n",
    "result = is_positive(x) if x > 5 else is_even(x)\n",
    "print(result)"
   ]
  },
  {
   "cell_type": "code",
   "execution_count": 11,
   "metadata": {},
   "outputs": [
    {
     "name": "stdout",
     "output_type": "stream",
     "text": [
      "['Odd', 'Even', 'Odd', 'Even', 'Odd']\n"
     ]
    }
   ],
   "source": [
    "# Example 5: Ternary Operator with List Comprehension\n",
    "numbers = [1, 2, 3, 4, 5]\n",
    "\n",
    "result = [\"Even\" if num % 2 == 0 else \"Odd\" for num in numbers]\n",
    "print(result)\n"
   ]
  },
  {
   "cell_type": "code",
   "execution_count": 12,
   "metadata": {},
   "outputs": [
    {
     "name": "stdout",
     "output_type": "stream",
     "text": [
      "{1: 'Odd', 2: 'Even', 3: 'Odd', 4: 'Even', 5: 'Odd'}\n"
     ]
    }
   ],
   "source": [
    "# Example 6: Ternary Operator with Dictionary Comprehension\n",
    "numbers = [1, 2, 3, 4, 5]\n",
    "\n",
    "result = {num: \"Even\" if num % 2 == 0 else \"Odd\" for num in numbers}\n",
    "print(result)"
   ]
  },
  {
   "cell_type": "code",
   "execution_count": 13,
   "metadata": {},
   "outputs": [
    {
     "name": "stdout",
     "output_type": "stream",
     "text": [
      "{2, 4}\n"
     ]
    }
   ],
   "source": [
    "# Example 7: Ternary Operator with Set Comprehension\n",
    "numbers = [1, 2, 3, 4, 5]\n",
    "\n",
    "result = {num for num in numbers if num % 2 == 0}\n",
    "print(result)"
   ]
  },
  {
   "cell_type": "code",
   "execution_count": 14,
   "metadata": {},
   "outputs": [
    {
     "name": "stdout",
     "output_type": "stream",
     "text": [
      "Less\n"
     ]
    }
   ],
   "source": [
    "# Example 8: Ternary Operator with Multiple Conditions\n",
    "x = 10\n",
    "y = 20\n",
    "\n",
    "relation = \"Equal\" if x == y else (\"Greater\" if x > y else \"Less\")\n",
    "print(relation)\n"
   ]
  },
  {
   "cell_type": "code",
   "execution_count": 15,
   "metadata": {},
   "outputs": [
    {
     "name": "stdout",
     "output_type": "stream",
     "text": [
      "Equal\n"
     ]
    }
   ],
   "source": [
    "# Example 9: Ternary Operator with Nested Conditions\n",
    "x = 10\n",
    "y = 20\n",
    "z = 30\n",
    "\n",
    "result = \"Greater\" if x > y else (\"Greater\" if x > z else \"Equal\")\n",
    "print(result)"
   ]
  },
  {
   "cell_type": "code",
   "execution_count": 16,
   "metadata": {},
   "outputs": [
    {
     "name": "stdout",
     "output_type": "stream",
     "text": [
      "Positive\n"
     ]
    }
   ],
   "source": [
    "# Example 10: Ternary Operator for Default Value\n",
    "x = 10\n",
    "\n",
    "result = \"Positive\" if x > 0 else \"Negative\" if x < 0 else \"Zero\"\n",
    "print(result)"
   ]
  },
  {
   "cell_type": "code",
   "execution_count": null,
   "metadata": {},
   "outputs": [],
   "source": []
  }
 ],
 "metadata": {
  "kernelspec": {
   "display_name": "python_ml",
   "language": "python",
   "name": "python3"
  },
  "language_info": {
   "codemirror_mode": {
    "name": "ipython",
    "version": 3
   },
   "file_extension": ".py",
   "mimetype": "text/x-python",
   "name": "python",
   "nbconvert_exporter": "python",
   "pygments_lexer": "ipython3",
   "version": "3.11.5"
  }
 },
 "nbformat": 4,
 "nbformat_minor": 2
}
