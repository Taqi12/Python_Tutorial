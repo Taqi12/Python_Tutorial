{
 "cells": [
  {
   "cell_type": "markdown",
   "metadata": {},
   "source": [
    "## Overriding vs Overloading"
   ]
  },
  {
   "cell_type": "markdown",
   "metadata": {},
   "source": [
    "| Aspect          | Overriding                                                                             | Overloading                                                                            |\n",
    "|-----------------|----------------------------------------------------------------------------------------|----------------------------------------------------------------------------------------|\n",
    "| Definition      | Modifying or replacing a method inherited from a parent class in a subclass.            | Defining multiple methods with the same name but different parameters in the same class.|\n",
    "| Signature       | Method signature remains the same in both parent and subclass.                         | Method signature differs based on parameters (number or types).                          |\n",
    "| Purpose         | Allows a subclass to provide a specific implementation of a method defined in a superclass. | Provides multiple ways to invoke a method with different arguments.                      |\n",
    "| Inheritance     | Specific to inheritance hierarchy; occurs between a parent and subclass.               | Not dependent on inheritance; can occur within the same class.                          |\n",
    "| Context         | Relates to runtime polymorphism; the method invoked is determined dynamically based on the object's type. | Relates to compile-time polymorphism; the method to be executed is determined at compile time based on the method signature. |\n",
    "| Execution       | Overrides the method implementation in the subclass, replacing the superclass method when called. | Selects the appropriate method to execute based on the method signature and arguments passed. |\n",
    "| Access Control  | Can be used to widen access (e.g., from protected to public).                           | Not related to access control; focuses on method signature.                              |\n",
    "| Inheritance     | Specific to inheritance hierarchy; occurs between a parent and subclass.               | Not dependent on inheritance; can occur within the same class.                          |\n",
    "| Static Binding  | Determined at runtime based on the object's type.                                      | Determined at compile time based on method signature.                                    |\n",
    "| Dynamic Binding | Method to be executed is determined dynamically based on the object's type.            | Not applicable; method to be executed is determined at compile time.                    |\n"
   ]
  },
  {
   "cell_type": "code",
   "execution_count": null,
   "metadata": {},
   "outputs": [],
   "source": []
  },
  {
   "cell_type": "markdown",
   "metadata": {},
   "source": [
    "### Overriding"
   ]
  },
  {
   "cell_type": "code",
   "execution_count": 2,
   "metadata": {},
   "outputs": [
    {
     "name": "stdout",
     "output_type": "stream",
     "text": [
      "Woof!\n",
      "Meow!\n"
     ]
    }
   ],
   "source": [
    "class Animal:\n",
    "    def make_sound(self):\n",
    "        return \"Generic animal sound\"\n",
    "\n",
    "class Dog(Animal):\n",
    "    def make_sound(self):\n",
    "        return \"Woof!\"\n",
    "\n",
    "class Cat(Animal):\n",
    "    def make_sound(self):\n",
    "        return \"Meow!\"\n",
    "\n",
    "# Usage\n",
    "dog = Dog()\n",
    "print(dog.make_sound())  # Output: Woof!\n",
    "\n",
    "cat = Cat()\n",
    "print(cat.make_sound())  # Output: Meow!\n"
   ]
  },
  {
   "cell_type": "markdown",
   "metadata": {},
   "source": [
    "- In this example, the Animal class defines a method make_sound() with a generic implementation.\n",
    "- Both Dog and Cat classes inherit from Animal and provide their implementations of make_sound().\n",
    "- When make_sound() is called on instances of Dog and Cat, the overridden method in the subclass is executed, producing different sounds for each animal."
   ]
  },
  {
   "cell_type": "code",
   "execution_count": null,
   "metadata": {},
   "outputs": [],
   "source": []
  },
  {
   "cell_type": "code",
   "execution_count": 3,
   "metadata": {},
   "outputs": [
    {
     "name": "stdout",
     "output_type": "stream",
     "text": [
      "Circle Area: 78.5\n",
      "Rectangle Area: 24\n"
     ]
    }
   ],
   "source": [
    "class Shape:\n",
    "    def area(self):\n",
    "        return 0\n",
    "\n",
    "class Circle(Shape):\n",
    "    def __init__(self, radius):\n",
    "        self.radius = radius\n",
    "\n",
    "    def area(self):\n",
    "        return 3.14 * self.radius ** 2\n",
    "\n",
    "class Rectangle(Shape):\n",
    "    def __init__(self, width, height):\n",
    "        self.width = width\n",
    "        self.height = height\n",
    "\n",
    "    def area(self):\n",
    "        return self.width * self.height\n",
    "\n",
    "# Usage\n",
    "circle = Circle(5)\n",
    "print(\"Circle Area:\", circle.area())  # Output: Circle Area: 78.5\n",
    "\n",
    "rectangle = Rectangle(4, 6)\n",
    "print(\"Rectangle Area:\", rectangle.area())  # Output: Rectangle Area: 24\n"
   ]
  },
  {
   "cell_type": "markdown",
   "metadata": {},
   "source": [
    "- The Shape class defines a method area() with a default implementation that returns 0.\n",
    "- Both Circle and Rectangle classes inherit from Shape and provide their implementations of area(), overriding the default implementation.\n",
    "- When area() is called on instances of Circle and Rectangle, the overridden method in the subclass is executed, calculating the area specific to each shape.\n"
   ]
  },
  {
   "cell_type": "markdown",
   "metadata": {},
   "source": [
    "### Overloading"
   ]
  },
  {
   "cell_type": "markdown",
   "metadata": {},
   "source": [
    "Method overloading is not directly supported in Python like in some other languages (e.g., Java), where you can define multiple methods with the same name but different parameter lists. However, you can achieve similar functionality by using default parameter values or variable-length argument lists."
   ]
  },
  {
   "cell_type": "code",
   "execution_count": 4,
   "metadata": {},
   "outputs": [
    {
     "name": "stdout",
     "output_type": "stream",
     "text": [
      "5\n",
      "8\n"
     ]
    }
   ],
   "source": [
    "class MathOperations:\n",
    "    def calculate(self, a, b=None):\n",
    "        if b is None:\n",
    "            return a\n",
    "        else:\n",
    "            return a + b\n",
    "\n",
    "# Usage\n",
    "math_ops = MathOperations()\n",
    "print(math_ops.calculate(5))    # Output: 5\n",
    "print(math_ops.calculate(5, 3))  # Output: 8\n"
   ]
  },
  {
   "cell_type": "markdown",
   "metadata": {},
   "source": [
    "- In this example, the MathOperations class defines a method calculate() with a default parameter b=None.\n",
    "- The method implementation checks whether b is provided. If b is not provided, it returns a (acts as a unary operation). If b is provided, it returns the sum of a and b.\n",
    "- This approach allows for different behaviors of the calculate() method based on the number of arguments passed, mimicking method overloading behavior seen in other languages"
   ]
  },
  {
   "cell_type": "code",
   "execution_count": 5,
   "metadata": {},
   "outputs": [
    {
     "name": "stdout",
     "output_type": "stream",
     "text": [
      "5\n",
      "8\n",
      "10\n",
      "Unsupported operation\n"
     ]
    }
   ],
   "source": [
    "class MathOperations:\n",
    "    def calculate(self, *args):\n",
    "        if len(args) == 1:\n",
    "            return args[0]\n",
    "        elif len(args) == 2:\n",
    "            return args[0] + args[1]\n",
    "        elif len(args) == 3:\n",
    "            return args[0] * args[1] + args[2]\n",
    "        else:\n",
    "            return \"Unsupported operation\"\n",
    "\n",
    "# Usage\n",
    "math_ops = MathOperations()\n",
    "print(math_ops.calculate(5))         # Output: 5\n",
    "print(math_ops.calculate(5, 3))      # Output: 8\n",
    "print(math_ops.calculate(2, 3, 4))   # Output: 10\n",
    "print(math_ops.calculate(2, 3, 4, 5))  # Output: Unsupported operation\n"
   ]
  },
  {
   "cell_type": "markdown",
   "metadata": {},
   "source": [
    "- The MathOperations class defines a method calculate() that accepts a variable number of arguments (*args).\n",
    "- The implementation checks the length of args to determine the operation to perform. \n",
    "  - If there is one argument, it returns the argument itself. \n",
    "  - If there are two arguments, it returns their sum. \n",
    "  - If there are three arguments, it returns the result of a custom operation (a * b + c). \n",
    "  - Otherwise, it returns a message indicating an unsupported operation.\n",
    "- This approach allows for different behaviors of the calculate() method based on the number of arguments passed, simulating method overloading seen in other languages."
   ]
  },
  {
   "cell_type": "code",
   "execution_count": null,
   "metadata": {},
   "outputs": [],
   "source": [
    "\n"
   ]
  }
 ],
 "metadata": {
  "kernelspec": {
   "display_name": "python_ml",
   "language": "python",
   "name": "python3"
  },
  "language_info": {
   "codemirror_mode": {
    "name": "ipython",
    "version": 3
   },
   "file_extension": ".py",
   "mimetype": "text/x-python",
   "name": "python",
   "nbconvert_exporter": "python",
   "pygments_lexer": "ipython3",
   "version": "3.11.5"
  }
 },
 "nbformat": 4,
 "nbformat_minor": 2
}
