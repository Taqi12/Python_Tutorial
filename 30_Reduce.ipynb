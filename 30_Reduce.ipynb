{
 "cells": [
  {
   "cell_type": "markdown",
   "metadata": {},
   "source": [
    "## reduce()"
   ]
  },
  {
   "cell_type": "markdown",
   "metadata": {},
   "source": [
    "- `Definition`\n",
    "  - It is used to apply a specified function to the items of an iterable, from left to right, to reduce the iterable to a single value. \n",
    "  - It continually applies the function to pairs of elements until the iterable is reduced to a single value."
   ]
  },
  {
   "cell_type": "code",
   "execution_count": 6,
   "metadata": {},
   "outputs": [
    {
     "name": "stdout",
     "output_type": "stream",
     "text": [
      "15\n"
     ]
    }
   ],
   "source": [
    "from functools import reduce\n",
    "\n",
    "# Sum of all elements in a list\n",
    "numbers = [1, 2, 3, 4, 5]\n",
    "sum = reduce(lambda x, y: x + y, numbers)\n",
    "print(sum)  \n"
   ]
  },
  {
   "cell_type": "code",
   "execution_count": 8,
   "metadata": {},
   "outputs": [
    {
     "name": "stdout",
     "output_type": "stream",
     "text": [
      "120\n"
     ]
    }
   ],
   "source": [
    "from functools import reduce\n",
    "\n",
    "# Factorial of a number\n",
    "n = 5\n",
    "factorial = reduce(lambda x, y: x * y, range(1, n + 1))\n",
    "print(factorial)  \n"
   ]
  },
  {
   "cell_type": "code",
   "execution_count": 9,
   "metadata": {},
   "outputs": [
    {
     "name": "stdout",
     "output_type": "stream",
     "text": [
      "50\n"
     ]
    }
   ],
   "source": [
    "from functools import reduce\n",
    "\n",
    "# Finding the maximum element in a list\n",
    "numbers = [10, 30, 50, 20, 40]\n",
    "max_num = reduce(lambda x, y: x if x > y else y, numbers)\n",
    "print(max_num)  "
   ]
  },
  {
   "cell_type": "code",
   "execution_count": 10,
   "metadata": {},
   "outputs": [
    {
     "name": "stdout",
     "output_type": "stream",
     "text": [
      "Hello World!\n"
     ]
    }
   ],
   "source": [
    "from functools import reduce\n",
    "\n",
    "# Concatenating strings in a list\n",
    "strings = [\"Hello\", \" \", \"World\", \"!\"]\n",
    "concatenated_string = reduce(lambda x, y: x + y, strings)\n",
    "print(concatenated_string) "
   ]
  },
  {
   "cell_type": "code",
   "execution_count": 11,
   "metadata": {},
   "outputs": [
    {
     "name": "stdout",
     "output_type": "stream",
     "text": [
      "[1, 2, 3, 4, 5, 6, 7, 8]\n"
     ]
    }
   ],
   "source": [
    "from functools import reduce\n",
    "\n",
    "# Flattening a list of lists\n",
    "list_of_lists = [[1, 2, 3], [4, 5], [6, 7, 8]]\n",
    "flattened_list = reduce(lambda x, y: x + y, list_of_lists)\n",
    "print(flattened_list) "
   ]
  },
  {
   "cell_type": "code",
   "execution_count": 12,
   "metadata": {},
   "outputs": [
    {
     "name": "stdout",
     "output_type": "stream",
     "text": [
      "strawberry\n"
     ]
    }
   ],
   "source": [
    "from functools import reduce\n",
    "\n",
    "# Finding the longest word in a list\n",
    "words = [\"apple\", \"banana\", \"orange\", \"kiwi\", \"strawberry\"]\n",
    "longest_word = reduce(lambda x, y: x if len(x) > len(y) else y, words)\n",
    "print(longest_word) "
   ]
  },
  {
   "cell_type": "code",
   "execution_count": 14,
   "metadata": {},
   "outputs": [
    {
     "name": "stdout",
     "output_type": "stream",
     "text": [
      "{1, 2, 3, 4, 5, 6, 7}\n"
     ]
    }
   ],
   "source": [
    "from functools import reduce\n",
    "\n",
    "# Finding the union of sets\n",
    "sets = [{1, 2, 3}, {3, 4, 5}, {5, 6, 7}]\n",
    "union_set = reduce(lambda x, y: x.union(y), sets)\n",
    "print(union_set) "
   ]
  },
  {
   "cell_type": "code",
   "execution_count": null,
   "metadata": {},
   "outputs": [],
   "source": []
  }
 ],
 "metadata": {
  "kernelspec": {
   "display_name": "python_ml",
   "language": "python",
   "name": "python3"
  },
  "language_info": {
   "codemirror_mode": {
    "name": "ipython",
    "version": 3
   },
   "file_extension": ".py",
   "mimetype": "text/x-python",
   "name": "python",
   "nbconvert_exporter": "python",
   "pygments_lexer": "ipython3",
   "version": "3.11.5"
  }
 },
 "nbformat": 4,
 "nbformat_minor": 2
}
