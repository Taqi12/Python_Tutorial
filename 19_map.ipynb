{
 "cells": [
  {
   "cell_type": "markdown",
   "metadata": {},
   "source": [
    "## Map"
   ]
  },
  {
   "cell_type": "markdown",
   "metadata": {},
   "source": [
    "- `Definition`\n",
    "  - map() function is a built-in function\n",
    "  - It applies a specified function to all items in a iterable(e.g., a list, tuple) and returns an iterator that produces the results\n",
    "  - Syntax\n",
    "    - map(function, iterable, ...)\n",
    "      - `function:` \n",
    "        - The function to apply to each item in the iterable.\n",
    "      - `iterable:` \n",
    "        - The iterable (list, tuple, etc.) whose items will be processed.\n",
    "\n",
    "- `Uses and Applications:`\n",
    "\n",
    "  - `Transformation of Data:` \n",
    "    - map() is often used to transform data by applying a function to each element in an iterable.\n",
    "\n",
    "  - `Creating Iterables:` \n",
    "    - It's useful for creating new iterables by applying a function to every element in an existing iterable.\n",
    "\n",
    "  - `Parallel Execution:` \n",
    "    - In some scenarios, map() can be used for parallel execution by applying a function to different elements concurrently.\n",
    "\n",
    "- `Advantages:`\n",
    "\n",
    "  - `Conciseness:` \n",
    "    - map() allows for concise and readable code, especially when combined with lambda functions.\n",
    "\n",
    "  - `Efficiency:` \n",
    "    - It can be more efficient than using a for loop, especially for large datasets.\n",
    "\n",
    "- `Limitations:`\n",
    "\n",
    "  - `Readability:` \n",
    "    - For simple operations, using map() with lambda functions might reduce readability compared to a simple for loop.\n",
    "\n",
    "  - `Limited Functionality:` \n",
    "    - map() is limited to applying a function to each element, and it doesn't support more complex logic.\n",
    "\n",
    "  - `Not In-Place:` \n",
    "    - map() returns an iterator, so if you need a list or other data structure, you need to convert it explicitly (e.g., list(map(...))).\n",
    "\n",
    "- `Notes:`\n",
    "\n",
    "  - map() can take multiple iterables as arguments. In this case, the function should take as many arguments as there are iterables.\n",
    "\n",
    "  - map() works well with functions that have a simple, one-to-one relationship with the elements in the iterable.\n",
    "\n",
    "Overall, map() is a handy tool for simple element-wise operations on iterables and contributes to writing concise and expressive code.\n",
    "   \n",
    " "
   ]
  },
  {
   "cell_type": "code",
   "execution_count": null,
   "metadata": {},
   "outputs": [],
   "source": []
  },
  {
   "cell_type": "code",
   "execution_count": 2,
   "metadata": {},
   "outputs": [
    {
     "name": "stdout",
     "output_type": "stream",
     "text": [
      "[2, 4, 6, 8, 10]\n"
     ]
    }
   ],
   "source": [
    "# Example 1 : Doubling the numbers in a list\n",
    "numbers = [1, 2, 3, 4, 5]\n",
    "doubled_numbers = map(lambda x: x * 2, numbers)\n",
    "print(list(doubled_numbers))  "
   ]
  },
  {
   "cell_type": "code",
   "execution_count": 4,
   "metadata": {},
   "outputs": [
    {
     "name": "stdout",
     "output_type": "stream",
     "text": [
      "['ALICE', 'BOB', 'CHARLIE', 'DAVID']\n"
     ]
    }
   ],
   "source": [
    "# Example 2 : Uppercase names\n",
    "names = ['Alice', 'Bob', 'Charlie', 'David']\n",
    "uppercase_names = map(lambda x: x.upper(), names)\n",
    "print(list(uppercase_names))"
   ]
  },
  {
   "cell_type": "code",
   "execution_count": 5,
   "metadata": {},
   "outputs": [
    {
     "name": "stdout",
     "output_type": "stream",
     "text": [
      "[5, 7, 9]\n"
     ]
    }
   ],
   "source": [
    "# Example 3 : Adding two lists\n",
    "list1 = [1, 2, 3]\n",
    "list2 = [4, 5, 6]\n",
    "sum_list = map(lambda x, y : x + y , list1, list2)\n",
    "print(list(sum_list))"
   ]
  },
  {
   "cell_type": "code",
   "execution_count": 6,
   "metadata": {},
   "outputs": [
    {
     "name": "stdout",
     "output_type": "stream",
     "text": [
      "[5, 7]\n"
     ]
    }
   ],
   "source": [
    "# Example 4 : Adding two lists with different sizes\n",
    "list1 = [1, 2, 3]\n",
    "list2 = [4, 5]\n",
    "sum_list = map(lambda x, y : x + y , list1, list2)\n",
    "print(list(sum_list))"
   ]
  },
  {
   "cell_type": "code",
   "execution_count": 8,
   "metadata": {},
   "outputs": [
    {
     "name": "stdout",
     "output_type": "stream",
     "text": [
      "['Alice Smith', 'Bob Jones', 'Charlie Brown']\n"
     ]
    }
   ],
   "source": [
    "# Example 5 : Combining two lists\n",
    "names = ['Alice', 'Bob', 'Charlie']\n",
    "surnames = ['Smith', 'Jones', 'Brown']\n",
    "combined = map(lambda x, y : x + ' ' + y, names, surnames)\n",
    "print(list(combined))"
   ]
  },
  {
   "cell_type": "code",
   "execution_count": 10,
   "metadata": {},
   "outputs": [
    {
     "name": "stdout",
     "output_type": "stream",
     "text": [
      "[32.0, 50.0, 68.0, 86.0, 104.0, 122.0]\n"
     ]
    }
   ],
   "source": [
    "# Example 6 : Converting Celsius to Fahrenheit\n",
    "celsius_temps = [0, 10, 20, 30, 40, 50]\n",
    "fahrenheit_temps = map(lambda c: (c * 9/5) + 32, celsius_temps)\n",
    "print(list(fahrenheit_temps))"
   ]
  },
  {
   "cell_type": "code",
   "execution_count": 12,
   "metadata": {},
   "outputs": [
    {
     "name": "stdout",
     "output_type": "stream",
     "text": [
      "['Alice', 'Bob', 'Charlie']\n"
     ]
    }
   ],
   "source": [
    "# Example 7 : Capitalizing First Letter of string\n",
    "names = ['alice', 'bob', 'charlie']\n",
    "capitalized = map(lambda x: x.capitalize(), names)\n",
    "print(list(capitalized))"
   ]
  },
  {
   "cell_type": "code",
   "execution_count": 13,
   "metadata": {},
   "outputs": [
    {
     "name": "stdout",
     "output_type": "stream",
     "text": [
      "[True, False, False, True]\n"
     ]
    }
   ],
   "source": [
    "# Example 8 : Checking Palindrome\n",
    "words = ['radar', 'hello', 'world', 'level']\n",
    "is_palindrome = map(lambda x: x == x[::-1], words)\n",
    "print(list(is_palindrome))"
   ]
  },
  {
   "cell_type": "code",
   "execution_count": null,
   "metadata": {},
   "outputs": [],
   "source": []
  }
 ],
 "metadata": {
  "kernelspec": {
   "display_name": "python_ml",
   "language": "python",
   "name": "python3"
  },
  "language_info": {
   "codemirror_mode": {
    "name": "ipython",
    "version": 3
   },
   "file_extension": ".py",
   "mimetype": "text/x-python",
   "name": "python",
   "nbconvert_exporter": "python",
   "pygments_lexer": "ipython3",
   "version": "3.11.5"
  }
 },
 "nbformat": 4,
 "nbformat_minor": 2
}
