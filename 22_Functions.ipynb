{
 "cells": [
  {
   "cell_type": "markdown",
   "metadata": {},
   "source": [
    "## Functions"
   ]
  },
  {
   "cell_type": "markdown",
   "metadata": {},
   "source": [
    "- `Definition`\n",
    "  - a function is a block of \n",
    "    - organized \n",
    "    - reusable code \n",
    "  - that performs a specific task. \n",
    "  - Functions help in \n",
    "    - modularizing code \n",
    "    - making it more readable \n",
    "    - maintainable\n",
    "    - reusable \n",
    "  - Here's the basic structure of a function in Python:\n",
    "    ```\n",
    "    def function_name(parameters):\n",
    "    \"\"\"docstring\"\"\"\n",
    "    # code block\n",
    "    return result \n",
    "    ```\n",
    "    - `def:` \n",
    "      - Keyword used to define a function.\n",
    "\n",
    "    - `function_name:` \n",
    "      - Name of the function (follows variable naming conventions).\n",
    "\n",
    "    - `parameters:` \n",
    "      - Input values or arguments passed to the function (optional).\n",
    "\n",
    "    - `\"\"\"docstring\"\"\":` \n",
    "      - Optional documentation string describing the purpose and usage of the function.\n",
    "\n",
    "    - `Code block:` \n",
    "      - The actual code that performs the task.\n",
    "\n",
    "    - `return result:` \n",
    "      - Optional statement to return a value from the function\n",
    "\n",
    "- `Types of Functions:`\n",
    "\n",
    "  - `Built-in Functions:`\n",
    "    - Python provides a variety of built-in functions like print(), len(), sum(), etc.\n",
    "\n",
    "  - `User-Defined Functions:`\n",
    "    - These are functions created by the user to perform specific tasks.\n",
    "\n",
    "  - `Lambda Functions:`\n",
    "    - Also known as `anonymous functions`, created using the lambda keyword.\n",
    "\n",
    "  - `Recursive Functions:`\n",
    "    - Functions that call themselves.\n",
    "  \n",
    "  - `Higher-Order Functions:`\n",
    "    - Functions that take other functions as arguments or return functions."
   ]
  },
  {
   "cell_type": "code",
   "execution_count": null,
   "metadata": {},
   "outputs": [],
   "source": []
  }
 ],
 "metadata": {
  "kernelspec": {
   "display_name": "python_ml",
   "language": "python",
   "name": "python3"
  },
  "language_info": {
   "codemirror_mode": {
    "name": "ipython",
    "version": 3
   },
   "file_extension": ".py",
   "mimetype": "text/x-python",
   "name": "python",
   "nbconvert_exporter": "python",
   "pygments_lexer": "ipython3",
   "version": "3.11.5"
  }
 },
 "nbformat": 4,
 "nbformat_minor": 2
}
