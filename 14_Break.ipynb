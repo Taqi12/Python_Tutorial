{
 "cells": [
  {
   "cell_type": "markdown",
   "metadata": {},
   "source": [
    "## Break"
   ]
  },
  {
   "cell_type": "markdown",
   "metadata": {},
   "source": [
    "- `Definition`\n",
    "  - It is used to exit a loop prematurely. \n",
    "  - It is commonly used in both for and while loops. "
   ]
  },
  {
   "cell_type": "code",
   "execution_count": 1,
   "metadata": {},
   "outputs": [
    {
     "name": "stdout",
     "output_type": "stream",
     "text": [
      "apple\n",
      "Found banana. Breaking out of the loop.\n"
     ]
    }
   ],
   "source": [
    "# Exampl 1: Break in for loop\n",
    "fruits = [\"apple\", \"banana\", \"cherry\"]\n",
    "\n",
    "for fruit in fruits:\n",
    "    if fruit == \"banana\":\n",
    "        print(\"Found banana. Breaking out of the loop.\")\n",
    "        break\n",
    "    print(fruit)"
   ]
  },
  {
   "cell_type": "code",
   "execution_count": 2,
   "metadata": {},
   "outputs": [
    {
     "name": "stdout",
     "output_type": "stream",
     "text": [
      "0\n",
      "1\n",
      "2\n",
      "Breaking out of the loop.\n"
     ]
    }
   ],
   "source": [
    "# Example 2: Break in while loop\n",
    "count = 0\n",
    "\n",
    "while count < 5:\n",
    "    if count == 3:\n",
    "        print(\"Breaking out of the loop.\")\n",
    "        break\n",
    "    print(count)\n",
    "    count += 1\n"
   ]
  },
  {
   "cell_type": "code",
   "execution_count": 3,
   "metadata": {},
   "outputs": [
    {
     "name": "stdout",
     "output_type": "stream",
     "text": [
      "0 0\n",
      "0 1\n",
      "Breaking inner loop.\n",
      "1 0\n",
      "1 1\n",
      "Breaking inner loop.\n",
      "2 0\n",
      "2 1\n",
      "Breaking inner loop.\n"
     ]
    }
   ],
   "source": [
    "# Example 3: Break in nested loops\n",
    "for i in range(3):\n",
    "    for j in range(3):\n",
    "        print(i, j)\n",
    "        if j == 1:\n",
    "            print(\"Breaking inner loop.\")\n",
    "            break"
   ]
  },
  {
   "cell_type": "code",
   "execution_count": 4,
   "metadata": {},
   "outputs": [
    {
     "name": "stdout",
     "output_type": "stream",
     "text": [
      "You entered: hello\n",
      "You entered: hy\n",
      "You entered: taqi\n",
      "Breaking out of the infinite loop.\n"
     ]
    }
   ],
   "source": [
    "# Example 4: Break infinite loop\n",
    "while True:\n",
    "    user_input = input(\"Enter 'exit' to stop: \")\n",
    "    \n",
    "    if user_input.lower() == 'exit':\n",
    "        print(\"Breaking out of the infinite loop.\")\n",
    "        break\n",
    "    else:\n",
    "        print(f\"You entered: {user_input}\")"
   ]
  },
  {
   "cell_type": "code",
   "execution_count": null,
   "metadata": {},
   "outputs": [],
   "source": []
  }
 ],
 "metadata": {
  "kernelspec": {
   "display_name": "python_ml",
   "language": "python",
   "name": "python3"
  },
  "language_info": {
   "codemirror_mode": {
    "name": "ipython",
    "version": 3
   },
   "file_extension": ".py",
   "mimetype": "text/x-python",
   "name": "python",
   "nbconvert_exporter": "python",
   "pygments_lexer": "ipython3",
   "version": "3.11.5"
  }
 },
 "nbformat": 4,
 "nbformat_minor": 2
}
