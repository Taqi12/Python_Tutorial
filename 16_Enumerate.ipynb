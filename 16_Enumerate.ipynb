{
 "cells": [
  {
   "cell_type": "markdown",
   "metadata": {},
   "source": [
    "## Enumerate"
   ]
  },
  {
   "cell_type": "markdown",
   "metadata": {},
   "source": [
    "- `Definition`\n",
    "  - The enumerate() function is used to iterate over a sequence while keeping track of the index (position) and the corresponding element. \n",
    "  - It returns pairs of index and element, making it convenient for situations where you need both the index and the value during iteration. "
   ]
  },
  {
   "cell_type": "code",
   "execution_count": 1,
   "metadata": {},
   "outputs": [
    {
     "name": "stdout",
     "output_type": "stream",
     "text": [
      "Index 0: apple\n",
      "Index 1: banana\n",
      "Index 2: cherry\n"
     ]
    }
   ],
   "source": [
    "# Example 1: Enumerating over a list\n",
    "fruits = [\"apple\", \"banana\", \"cherry\"]\n",
    "\n",
    "for index, fruit in enumerate(fruits):\n",
    "    print(f\"Index {index}: {fruit}\")"
   ]
  },
  {
   "cell_type": "code",
   "execution_count": 2,
   "metadata": {},
   "outputs": [
    {
     "name": "stdout",
     "output_type": "stream",
     "text": [
      "Character at index 0: P\n",
      "Character at index 1: y\n",
      "Character at index 2: t\n",
      "Character at index 3: h\n",
      "Character at index 4: o\n",
      "Character at index 5: n\n"
     ]
    }
   ],
   "source": [
    "# Example 2: Enumerating over a string\n",
    "word = \"Python\"\n",
    "\n",
    "for index, char in enumerate(word):\n",
    "    print(f\"Character at index {index}: {char}\")"
   ]
  },
  {
   "cell_type": "code",
   "execution_count": 3,
   "metadata": {},
   "outputs": [
    {
     "name": "stdout",
     "output_type": "stream",
     "text": [
      "Index 0: a = 1\n",
      "Index 1: b = 2\n",
      "Index 2: c = 3\n"
     ]
    }
   ],
   "source": [
    "# Exampe 3: Enumerating over a dictionary\n",
    "my_dict = {\"a\": 1, \"b\": 2, \"c\": 3}\n",
    "\n",
    "for index, (key, value) in enumerate(my_dict.items()):\n",
    "    print(f\"Index {index}: {key} = {value}\")"
   ]
  },
  {
   "cell_type": "code",
   "execution_count": 4,
   "metadata": {},
   "outputs": [
    {
     "name": "stdout",
     "output_type": "stream",
     "text": [
      "Index 0: a = 1\n",
      "Index 1: b = 2\n",
      "Index 2: c = 3\n"
     ]
    }
   ],
   "source": [
    "# Example 4: Enumerating over a list of tuples\n",
    "my_list = [(\"a\", 1), (\"b\", 2), (\"c\", 3)]\n",
    "\n",
    "for index, (key, value) in enumerate(my_list):\n",
    "    print(f\"Index {index}: {key} = {value}\")"
   ]
  },
  {
   "cell_type": "code",
   "execution_count": 5,
   "metadata": {},
   "outputs": [
    {
     "name": "stdout",
     "output_type": "stream",
     "text": [
      "Color 1: red\n",
      "Color 2: green\n",
      "Color 3: blue\n"
     ]
    }
   ],
   "source": [
    "# Example 5: Enumerate with start index\n",
    "colors = [\"red\", \"green\", \"blue\"]\n",
    "\n",
    "for index, color in enumerate(colors, start=1):\n",
    "    print(f\"Color {index}: {color}\")"
   ]
  },
  {
   "cell_type": "code",
   "execution_count": 6,
   "metadata": {},
   "outputs": [
    {
     "name": "stdout",
     "output_type": "stream",
     "text": [
      "Number -2: 1\n",
      "Number -1: 2\n",
      "Number 0: 3\n",
      "Number 1: 4\n",
      "Number 2: 5\n"
     ]
    }
   ],
   "source": [
    "# Example 6: Enumerate with negative start index\n",
    "numbers = [1, 2, 3, 4, 5]\n",
    "\n",
    "for index, number in enumerate(numbers, start=-2):\n",
    "    print(f\"Number {index}: {number}\")"
   ]
  },
  {
   "cell_type": "code",
   "execution_count": 8,
   "metadata": {},
   "outputs": [
    {
     "name": "stdout",
     "output_type": "stream",
     "text": [
      "Number at index 3 is greater than 30: 40\n",
      "Number at index 4 is greater than 30: 50\n",
      "Number at index 5 is greater than 30: 60\n"
     ]
    }
   ],
   "source": [
    "# Example 7: Enumerate over a list with conditional filtering\n",
    "numbers = [10, 20, 30, 40, 50, 60]\n",
    "\n",
    "for index, value in enumerate(numbers):\n",
    "    if value > 30:\n",
    "        print(f\"Number at index {index} is greater than 30: {value}\")"
   ]
  },
  {
   "cell_type": "code",
   "execution_count": 9,
   "metadata": {},
   "outputs": [
    {
     "name": "stdout",
     "output_type": "stream",
     "text": [
      "Person 1: Alice is 25 years old.\n",
      "Person 2: Bob is 30 years old.\n",
      "Person 3: Charlie is 22 years old.\n"
     ]
    }
   ],
   "source": [
    "# Example 8: Enumerate over two lists simultaneously\n",
    "names = [\"Alice\", \"Bob\", \"Charlie\"]\n",
    "ages = [25, 30, 22]\n",
    "\n",
    "for index, (name, age) in enumerate(zip(names, ages)):\n",
    "    print(f\"Person {index + 1}: {name} is {age} years old.\")"
   ]
  },
  {
   "cell_type": "code",
   "execution_count": 10,
   "metadata": {},
   "outputs": [
    {
     "name": "stdout",
     "output_type": "stream",
     "text": [
      "Color 1: blue\n",
      "Color 2: green\n",
      "Color 3: red\n"
     ]
    }
   ],
   "source": [
    "# Example 9: Enumerate over a list in reverse order\n",
    "colors = [\"red\", \"green\", \"blue\"]\n",
    "\n",
    "for index, color in enumerate(reversed(colors)):\n",
    "    print(f\"Color {index + 1}: {color}\")"
   ]
  },
  {
   "cell_type": "code",
   "execution_count": null,
   "metadata": {},
   "outputs": [],
   "source": []
  }
 ],
 "metadata": {
  "kernelspec": {
   "display_name": "python_ml",
   "language": "python",
   "name": "python3"
  },
  "language_info": {
   "codemirror_mode": {
    "name": "ipython",
    "version": 3
   },
   "file_extension": ".py",
   "mimetype": "text/x-python",
   "name": "python",
   "nbconvert_exporter": "python",
   "pygments_lexer": "ipython3",
   "version": "3.11.5"
  }
 },
 "nbformat": 4,
 "nbformat_minor": 2
}
