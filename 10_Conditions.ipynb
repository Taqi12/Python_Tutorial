{
 "cells": [
  {
   "cell_type": "markdown",
   "metadata": {},
   "source": [
    "## Python Conditions"
   ]
  },
  {
   "cell_type": "markdown",
   "metadata": {},
   "source": [
    "- `Definition`\n",
    "    - conditions are used to make decisions and control the flow of the program. \n",
    "    - There are several types of conditions\n",
    "        - if \n",
    "            - It is used to execute a block of code if a condition is true. \n",
    "        - else\n",
    "            - It is used to execute a block of code if the condition is false.\n",
    "        - elif\n",
    "            - It is used to execute a block of code if the first condition is false and the second condition is true.\n",
    "        - nested if\n",
    "            - Conditions can be nested inside other conditions.      \n",
    "        - ternary condition \n",
    "            - It is often referred to as the ternary operator or conditional expression, provides a concise way to write conditional statements in a single line."
   ]
  },
  {
   "cell_type": "markdown",
   "metadata": {},
   "source": [
    "### If Statement"
   ]
  },
  {
   "cell_type": "code",
   "execution_count": 3,
   "metadata": {},
   "outputs": [
    {
     "name": "stdout",
     "output_type": "stream",
     "text": [
      "x is positive\n"
     ]
    }
   ],
   "source": [
    "# Example 1 : Simple if statement\n",
    "x = 5\n",
    "if x > 0: # if x is greater than 0 then execute the following statement\n",
    "    print(\"x is positive\")"
   ]
  },
  {
   "cell_type": "code",
   "execution_count": 6,
   "metadata": {},
   "outputs": [],
   "source": [
    "# Example 2 : Equality operators\n",
    "x = 5\n",
    "y = 10\n",
    "if x == y:\n",
    "    print(\"x is equal to y\")\n",
    "\n"
   ]
  },
  {
   "cell_type": "code",
   "execution_count": 7,
   "metadata": {},
   "outputs": [
    {
     "name": "stdout",
     "output_type": "stream",
     "text": [
      "a is not equal to b\n"
     ]
    }
   ],
   "source": [
    "# Example 2 : Inequality operators\n",
    "a = 15\n",
    "b = 20\n",
    "if a != b:\n",
    "    print(\"a is not equal to b\")"
   ]
  },
  {
   "cell_type": "code",
   "execution_count": 9,
   "metadata": {},
   "outputs": [
    {
     "name": "stdout",
     "output_type": "stream",
     "text": [
      "x is the greatest number\n"
     ]
    }
   ],
   "source": [
    "# Example 3 : Comparision operators(Greater than)\n",
    "x = 15\n",
    "y = 10\n",
    "if x > y:\n",
    "    print(\"x is the greatest number\")"
   ]
  },
  {
   "cell_type": "code",
   "execution_count": 10,
   "metadata": {},
   "outputs": [
    {
     "name": "stdout",
     "output_type": "stream",
     "text": [
      "x is less than y\n"
     ]
    }
   ],
   "source": [
    "# Example 4 : Comparision operators(Less than)\n",
    "x = 5\n",
    "y = 10\n",
    "if x < y:\n",
    "    print(\"x is less than y\")"
   ]
  },
  {
   "cell_type": "code",
   "execution_count": 11,
   "metadata": {},
   "outputs": [
    {
     "name": "stdout",
     "output_type": "stream",
     "text": [
      "x is greater than or equal to y\n"
     ]
    }
   ],
   "source": [
    "# Example 5 : Comparision operators(Greater than or equal to)\n",
    "x = 15\n",
    "y = 10\n",
    "if x >= y:\n",
    "    print(\"x is greater than or equal to y\")"
   ]
  },
  {
   "cell_type": "code",
   "execution_count": 12,
   "metadata": {},
   "outputs": [
    {
     "name": "stdout",
     "output_type": "stream",
     "text": [
      "x is less than or equal to y\n"
     ]
    }
   ],
   "source": [
    "# Example 6 : Comparision operators(Less than or equal to)\n",
    "x = 5\n",
    "y = 10\n",
    "if x <= y:\n",
    "    print(\"x is less than or equal to y\")"
   ]
  },
  {
   "cell_type": "code",
   "execution_count": 14,
   "metadata": {},
   "outputs": [
    {
     "name": "stdout",
     "output_type": "stream",
     "text": [
      "x and y are greater than 0\n"
     ]
    }
   ],
   "source": [
    "# Example 7 : Logical operators(AND) \n",
    "x = 5\n",
    "y = 10\n",
    "if x > 0 and y > 0: # Checks if both conditions are true.\n",
    "    print(\"x and y are greater than 0\")"
   ]
  },
  {
   "cell_type": "code",
   "execution_count": 15,
   "metadata": {},
   "outputs": [
    {
     "name": "stdout",
     "output_type": "stream",
     "text": [
      "x or y is greater than 0\n"
     ]
    }
   ],
   "source": [
    "# Example 8 : Logical operators(OR)\n",
    "x = 5\n",
    "y = 10\n",
    "if x > 0 or y > 0: # Checks if either of the conditions is true\n",
    "    print(\"x or y is greater than 0\")"
   ]
  },
  {
   "cell_type": "code",
   "execution_count": 16,
   "metadata": {},
   "outputs": [],
   "source": [
    "# Example 9 : Logical operators(NOT)\n",
    "x = 5\n",
    "y = 10\n",
    "if not x > 0: # Checks if the condition is false\n",
    "    print(\"x is not greater than 0\")"
   ]
  },
  {
   "cell_type": "code",
   "execution_count": 17,
   "metadata": {},
   "outputs": [
    {
     "name": "stdout",
     "output_type": "stream",
     "text": [
      "Banana is in the list\n"
     ]
    }
   ],
   "source": [
    "# Example 10 : Membership operator(in)\n",
    "fruits = ['apple', 'banana', 'orange']\n",
    "if 'banana' in fruits:\n",
    "    print(\"Banana is in the list\")"
   ]
  },
  {
   "cell_type": "code",
   "execution_count": 18,
   "metadata": {},
   "outputs": [
    {
     "name": "stdout",
     "output_type": "stream",
     "text": [
      "Mango is not in the list\n"
     ]
    }
   ],
   "source": [
    "# Example 11 : Membership operator(not in)\n",
    "fruits = ['apple', 'banana', 'orange']\n",
    "if 'mango' not in fruits:\n",
    "    print(\"Mango is not in the list\")"
   ]
  },
  {
   "cell_type": "code",
   "execution_count": 19,
   "metadata": {},
   "outputs": [],
   "source": [
    "# Example 12 : Identity operator(is)\n",
    "x = [1, 2, 3]\n",
    "y = [1, 2, 3]\n",
    "if x is y: # Checks if x and y are the same object\n",
    "    print(\"x and y are the same object\")"
   ]
  },
  {
   "cell_type": "code",
   "execution_count": 20,
   "metadata": {},
   "outputs": [
    {
     "name": "stdout",
     "output_type": "stream",
     "text": [
      "x and y are not the same object\n"
     ]
    }
   ],
   "source": [
    "# Example 13 : Identity operator(is not)\n",
    "x = [1, 2, 3]\n",
    "y = [1, 2, 3]\n",
    "if x is not y:\n",
    "    print(\"x and y are not the same object\")"
   ]
  },
  {
   "cell_type": "markdown",
   "metadata": {},
   "source": [
    "### else Statement"
   ]
  },
  {
   "cell_type": "code",
   "execution_count": 21,
   "metadata": {},
   "outputs": [
    {
     "name": "stdout",
     "output_type": "stream",
     "text": [
      "x is non-positive\n"
     ]
    }
   ],
   "source": [
    "x = -2\n",
    "if x > 0:\n",
    "    print(\"x is positive\")\n",
    "else:\n",
    "    print(\"x is non-positive\")"
   ]
  },
  {
   "cell_type": "markdown",
   "metadata": {},
   "source": [
    "### elif Statement"
   ]
  },
  {
   "cell_type": "code",
   "execution_count": 22,
   "metadata": {},
   "outputs": [
    {
     "name": "stdout",
     "output_type": "stream",
     "text": [
      "x is zero\n"
     ]
    }
   ],
   "source": [
    "x = 0\n",
    "if x > 0:\n",
    "    print(\"x is positive\")\n",
    "elif x < 0:\n",
    "    print(\"x is negative\")\n",
    "else:\n",
    "    print(\"x is zero\")\n"
   ]
  },
  {
   "cell_type": "markdown",
   "metadata": {},
   "source": [
    "### Nested Conditions"
   ]
  },
  {
   "cell_type": "code",
   "execution_count": 23,
   "metadata": {},
   "outputs": [
    {
     "name": "stdout",
     "output_type": "stream",
     "text": [
      "x is a positive even number\n"
     ]
    }
   ],
   "source": [
    "x = 10\n",
    "if x > 0:\n",
    "    if x % 2 == 0:\n",
    "        print(\"x is a positive even number\")\n",
    "    else:\n",
    "        print(\"x is a positive odd number\")\n",
    "else:\n",
    "    print(\"x is non-positive\")"
   ]
  },
  {
   "cell_type": "markdown",
   "metadata": {},
   "source": [
    "### Ternary Conditions\n",
    "- `expression_if_true if condition else expression_if_false`"
   ]
  },
  {
   "cell_type": "code",
   "execution_count": 24,
   "metadata": {},
   "outputs": [
    {
     "name": "stdout",
     "output_type": "stream",
     "text": [
      "Odd\n"
     ]
    }
   ],
   "source": [
    "x = 5\n",
    "result = \"Even\" if x % 2 == 0 else \"Odd\"\n",
    "print(result)"
   ]
  },
  {
   "cell_type": "code",
   "execution_count": null,
   "metadata": {},
   "outputs": [],
   "source": []
  }
 ],
 "metadata": {
  "kernelspec": {
   "display_name": "python_ml",
   "language": "python",
   "name": "python3"
  },
  "language_info": {
   "codemirror_mode": {
    "name": "ipython",
    "version": 3
   },
   "file_extension": ".py",
   "mimetype": "text/x-python",
   "name": "python",
   "nbconvert_exporter": "python",
   "pygments_lexer": "ipython3",
   "version": "3.11.5"
  }
 },
 "nbformat": 4,
 "nbformat_minor": 2
}
