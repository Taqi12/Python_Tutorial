{
 "cells": [
  {
   "cell_type": "markdown",
   "metadata": {},
   "source": [
    "## Formkeys()"
   ]
  },
  {
   "cell_type": "markdown",
   "metadata": {},
   "source": [
    "- `Definition`\n",
    "  - It is a built-in method in Python that is used to create a new dictionary with specified keys and a default value. \n",
    "- `Syntax`\n",
    "  - fromkeys()\n",
    "- `Method`\n",
    "  - `dict.fromkeys(keys, value)`\n",
    "    - keys is an iterable (like a list or tuple) containing the keys for the new dictionary\n",
    "    - value is the default value assigned to each key\n"
   ]
  },
  {
   "cell_type": "code",
   "execution_count": 1,
   "metadata": {},
   "outputs": [
    {
     "name": "stdout",
     "output_type": "stream",
     "text": [
      "{'key1': 0, 'key2': 0, 'key3': 0}\n"
     ]
    }
   ],
   "source": [
    "# Example 1: Using formkeys() method\n",
    "keys = ['key1', 'key2', 'key3']\n",
    "default_value = 0\n",
    "\n",
    "my_dict = dict.fromkeys(keys, default_value)\n",
    "print(my_dict)"
   ]
  },
  {
   "cell_type": "code",
   "execution_count": 4,
   "metadata": {},
   "outputs": [
    {
     "name": "stdout",
     "output_type": "stream",
     "text": [
      "{'key1': None, 'key2': None, 'key3': None}\n"
     ]
    }
   ],
   "source": [
    "# Example 2: Formkeys() with an none value\n",
    "keys = ['key1', 'key2', 'key3']\n",
    "my_dict = dict.fromkeys(keys) # If you don't provide the value parameter, the default value will be None\n",
    "print(my_dict)"
   ]
  },
  {
   "cell_type": "code",
   "execution_count": 5,
   "metadata": {},
   "outputs": [
    {
     "name": "stdout",
     "output_type": "stream",
     "text": [
      "{}\n"
     ]
    }
   ],
   "source": [
    "# Example 3: Formkeys() with an empty list\n",
    "keys = []\n",
    "my_dict = dict.fromkeys(keys)\n",
    "print(my_dict)"
   ]
  },
  {
   "cell_type": "code",
   "execution_count": 7,
   "metadata": {},
   "outputs": [
    {
     "name": "stdout",
     "output_type": "stream",
     "text": [
      "{'name': 'N/A', 'age': 'N/A', 'city': 'N/A'}\n"
     ]
    }
   ],
   "source": [
    "# Example 4: Formkeys() with different default values\n",
    "keys = ['name', 'age', 'city']\n",
    "default_value = 'N/A'\n",
    "\n",
    "person_info = dict.fromkeys(keys, default_value)\n",
    "print(person_info)"
   ]
  },
  {
   "cell_type": "code",
   "execution_count": 9,
   "metadata": {},
   "outputs": [
    {
     "name": "stdout",
     "output_type": "stream",
     "text": [
      "{'one': [1, 2, 3], 'two': [1, 2, 3], 'three': [1, 2, 3]}\n"
     ]
    }
   ],
   "source": [
    "# Example 5: Formkeys() with different default values\n",
    "keys = ['one', 'two', 'three']\n",
    "default_values = [1, 2, 3]\n",
    "\n",
    "custom_dict = dict.fromkeys(keys, default_values) # default_values is a list of values for each key\n",
    "print(custom_dict)"
   ]
  },
  {
   "cell_type": "code",
   "execution_count": 14,
   "metadata": {},
   "outputs": [
    {
     "name": "stdout",
     "output_type": "stream",
     "text": [
      "{'banana': 2, 'grape': 1, 'orange': 1, 'apple': 3}\n"
     ]
    }
   ],
   "source": [
    "# Example 6: Formkeys() for creating a dictionary of counters\n",
    "words = ['apple', 'banana', 'apple', 'orange', 'banana', 'apple', 'grape']\n",
    "word_counts = dict.fromkeys(set(words), 0) # set(words) creates a set of unique words in the list words and the 0 is the default value for each key in the set of unique words\n",
    "\n",
    "for word in words:\n",
    "    word_counts[word] += 1\n",
    "\n",
    "print(word_counts)"
   ]
  },
  {
   "cell_type": "code",
   "execution_count": 15,
   "metadata": {},
   "outputs": [
    {
     "name": "stdout",
     "output_type": "stream",
     "text": [
      "{'fruit': {'color': 'brown', 'taste': 'sweet'}, 'vegetable': {'color': 'brown', 'taste': 'sweet'}, 'grain': {'color': 'brown', 'taste': 'sweet'}}\n"
     ]
    }
   ],
   "source": [
    "# Example 7: Formkeys() to initialize a nested dictionary\n",
    "categories = ['fruit', 'vegetable', 'grain']\n",
    "default_properties = {'color': 'unknown', 'taste': 'unknown'}\n",
    "\n",
    "food_info = dict.fromkeys(categories, default_properties.copy())\n",
    "\n",
    "# Update information for each category\n",
    "food_info['fruit']['color'] = 'red'\n",
    "food_info['vegetable']['color'] = 'green'\n",
    "food_info['grain']['color'] = 'brown'\n",
    "food_info['fruit']['taste'] = 'sweet'\n",
    "\n",
    "print(food_info)"
   ]
  },
  {
   "cell_type": "code",
   "execution_count": 21,
   "metadata": {},
   "outputs": [
    {
     "name": "stdout",
     "output_type": "stream",
     "text": [
      "{'row1': {'col1': 0, 'col2': 5, 'col3': 0}, 'row2': {'col1': 3, 'col2': 0, 'col3': 0}, 'row3': {'col1': 0, 'col2': 0, 'col3': 0}}\n"
     ]
    },
    {
     "data": {
      "text/plain": [
       "{'row1': {'col1': 0, 'col2': 5, 'col3': 0},\n",
       " 'row2': {'col1': 3, 'col2': 0, 'col3': 0},\n",
       " 'row3': {'col1': 0, 'col2': 0, 'col3': 0}}"
      ]
     },
     "execution_count": 21,
     "metadata": {},
     "output_type": "execute_result"
    }
   ],
   "source": [
    "# Example 8: Formkeys() to initialize a matrix(List of lists)\n",
    "rows = ['row1', 'row2', 'row3']\n",
    "columns = ['col1', 'col2', 'col3']\n",
    "default_value = 0\n",
    "\n",
    "matrix = {row: dict.fromkeys(columns, default_value) for row in rows}\n",
    "\n",
    "matrix['row1']['col2'] = 5\n",
    "matrix['row2']['col1'] = 3\n",
    "\n",
    "print(matrix)\n",
    "matrix"
   ]
  },
  {
   "cell_type": "code",
   "execution_count": null,
   "metadata": {},
   "outputs": [],
   "source": []
  },
  {
   "cell_type": "code",
   "execution_count": null,
   "metadata": {},
   "outputs": [],
   "source": []
  }
 ],
 "metadata": {
  "kernelspec": {
   "display_name": "python_ml",
   "language": "python",
   "name": "python3"
  },
  "language_info": {
   "codemirror_mode": {
    "name": "ipython",
    "version": 3
   },
   "file_extension": ".py",
   "mimetype": "text/x-python",
   "name": "python",
   "nbconvert_exporter": "python",
   "pygments_lexer": "ipython3",
   "version": "3.11.5"
  }
 },
 "nbformat": 4,
 "nbformat_minor": 2
}
