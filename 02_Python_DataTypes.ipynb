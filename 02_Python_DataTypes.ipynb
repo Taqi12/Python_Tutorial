{
 "cells": [
  {
   "cell_type": "markdown",
   "metadata": {},
   "source": [
    "# Python Data Types\n",
    "1. `Numeric`\n",
    "    - Integers(int)\n",
    "        - Represents positive or negative whole numbers like 3 or -512.\n",
    "    - Floats(float)\n",
    "        - Represents positive or negative numbers with decimals like 2.3, -4.6, etc.\n",
    "    - Complex(complex)\n",
    "        - Represents numbers with a real and imaginary part like 3.14j, 4.0 + 6.3j, etc.\n",
    "2. `Sequence`\n",
    "    - Strings(str)\n",
    "        - Represents textual data like \"Hello World\".\n",
    "        - A sequence of characters enclosed within a pair of either single or double quotes.\n",
    "    - Lists(list)\n",
    "        - Ordered collection of items.\n",
    "        - Represented by square brackets e.g. [1, 2, 3, 4]\n",
    "    - Tuples(tuple)\n",
    "        - Similar to lists but immutable(cannot be changed).\n",
    "        - Represented by parentheses e.g. (1, 2, 3, 4) \n",
    "3. `Mapping`\n",
    "    - Dictionaries(dict)\n",
    "        - Collection of key-value pairs.\n",
    "        - Unordered collection of items.\n",
    "        - Represented by curly braces e.g. {1: 'a', 2: 'b', 3: 'c'}\n",
    "4. `Set`\n",
    "    - Sets(set)\n",
    "        - A mutable, unordered collection of unique elements.\n",
    "        - You can add, remove, or modify elements in a set after its creation.\n",
    "        - Elements in a set are not indexed, and the order is not guaranteed.\n",
    "        - Defined using curly braces {}, e.g. {1, 2, 3, 4}\n",
    "    - Frozen Sets(frozenset)\n",
    "        - An immutable, unordered collection of unique elements.\n",
    "        - Once a frozenset is created, you cannot add, remove, or modify its elements.\n",
    "        - Elements in a frozenset are not indexed, and the order is not guaranteed.\n",
    "        - Defined using curly braces {}, e.g. {1, 2, 3, 4}\n",
    "5. `Boolean`\n",
    "    - True\n",
    "    - False\n",
    "\n",
    "6. `None`\n",
    "    - Represents the absence of a value."
   ]
  },
  {
   "cell_type": "markdown",
   "metadata": {},
   "source": [
    "## Let's define each data type one by one"
   ]
  },
  {
   "cell_type": "markdown",
   "metadata": {},
   "source": [
    "### **1. Numeric Data Types**"
   ]
  },
  {
   "cell_type": "markdown",
   "metadata": {},
   "source": [
    "### Integers"
   ]
  },
  {
   "cell_type": "code",
   "execution_count": 2,
   "metadata": {},
   "outputs": [],
   "source": [
    "# initilize the variables\n",
    "a = 5\n",
    "b = 10\n",
    "c = 3"
   ]
  },
  {
   "cell_type": "code",
   "execution_count": 10,
   "metadata": {},
   "outputs": [
    {
     "name": "stdout",
     "output_type": "stream",
     "text": [
      "a =  5\n",
      "b =  10\n",
      "c =  3\n"
     ]
    }
   ],
   "source": [
    "# print the values of the variables\n",
    "print(\"a = \", a)\n",
    "print(\"b = \", b)\n",
    "print(\"c = \", c)"
   ]
  },
  {
   "cell_type": "code",
   "execution_count": 5,
   "metadata": {},
   "outputs": [
    {
     "name": "stdout",
     "output_type": "stream",
     "text": [
      "a = 5, b = 10, c = 3\n"
     ]
    }
   ],
   "source": [
    "# other method to print the values of the variables\n",
    "print(\"a = %d, b = %d, c = %d\" % (a, b, c))"
   ]
  },
  {
   "cell_type": "code",
   "execution_count": 7,
   "metadata": {},
   "outputs": [
    {
     "data": {
      "text/plain": [
       "(5, 10, 3)"
      ]
     },
     "execution_count": 7,
     "metadata": {},
     "output_type": "execute_result"
    }
   ],
   "source": [
    "# print a tuple of the variables\n",
    "a,b,c"
   ]
  },
  {
   "cell_type": "code",
   "execution_count": 12,
   "metadata": {},
   "outputs": [
    {
     "name": "stdout",
     "output_type": "stream",
     "text": [
      "5 10 3\n"
     ]
    }
   ],
   "source": [
    "# initialize multiple variables in a single line\n",
    "a, b, c = 5, 10, 3\n",
    "\n",
    "# priint the variables in a single print statement\n",
    "print(a,b,c)"
   ]
  },
  {
   "cell_type": "code",
   "execution_count": 21,
   "metadata": {},
   "outputs": [
    {
     "name": "stdout",
     "output_type": "stream",
     "text": [
      "<class 'int'>\n"
     ]
    },
    {
     "data": {
      "text/plain": [
       "int"
      ]
     },
     "execution_count": 21,
     "metadata": {},
     "output_type": "execute_result"
    }
   ],
   "source": [
    "# check the type of the variables\n",
    "print(type(b))\n",
    "\n",
    "type(a) # another method to check the type of the variable"
   ]
  },
  {
   "cell_type": "markdown",
   "metadata": {},
   "source": [
    "### Floats"
   ]
  },
  {
   "cell_type": "code",
   "execution_count": 13,
   "metadata": {},
   "outputs": [
    {
     "name": "stdout",
     "output_type": "stream",
     "text": [
      "x =  5.6\n",
      "y =  9.5\n"
     ]
    }
   ],
   "source": [
    "x = 5.6\n",
    "y = 9.5\n",
    "\n",
    "print(\"x = \", x)\n",
    "print(\"y = \", y)"
   ]
  },
  {
   "cell_type": "markdown",
   "metadata": {},
   "source": [
    "### Complex"
   ]
  },
  {
   "cell_type": "code",
   "execution_count": 14,
   "metadata": {},
   "outputs": [
    {
     "name": "stdout",
     "output_type": "stream",
     "text": [
      "d =  (-1-2j)\n",
      "e =  (1+2j)\n"
     ]
    }
   ],
   "source": [
    "d = -1 - 2j\n",
    "e = 1 + 2j\n",
    "\n",
    "print(\"d = \", d)\n",
    "print(\"e = \", e)"
   ]
  },
  {
   "cell_type": "markdown",
   "metadata": {},
   "source": [
    "### **2. Sequence Data Types**"
   ]
  },
  {
   "cell_type": "markdown",
   "metadata": {},
   "source": [
    "### String "
   ]
  },
  {
   "cell_type": "code",
   "execution_count": 15,
   "metadata": {},
   "outputs": [
    {
     "name": "stdout",
     "output_type": "stream",
     "text": [
      "first_name =  Taqi\n",
      "last_name =  Javed\n"
     ]
    }
   ],
   "source": [
    "first_name = \"Taqi\"\n",
    "last_name = 'Javed' # we can either use single or double quotes\n",
    "\n",
    "print(\"first_name = \", first_name)\n",
    "print(\"last_name = \", last_name)"
   ]
  },
  {
   "cell_type": "code",
   "execution_count": 16,
   "metadata": {},
   "outputs": [
    {
     "name": "stdout",
     "output_type": "stream",
     "text": [
      "<class 'str'>\n"
     ]
    }
   ],
   "source": [
    "# print the type of the variables\n",
    "print(type(first_name))"
   ]
  },
  {
   "cell_type": "code",
   "execution_count": 28,
   "metadata": {},
   "outputs": [
    {
     "name": "stdout",
     "output_type": "stream",
     "text": [
      "single_quote1 =  I'm a single quote string\n",
      "single_quote2 =  I'm a single quote string\n"
     ]
    }
   ],
   "source": [
    "# special example\n",
    "# if we want to use single quote in a string then we have to use backslash before the single quote\n",
    "# otherwise it will give an error\n",
    "# single_quote = 'I'm a single quote string'  # this will give an error\n",
    "\n",
    "# right method to use single quote in a string\n",
    "single_quote1 = 'I\\'m a single quote string'\n",
    "\n",
    "# other method to use single quote in a string\n",
    "single_quote2 = \"I'm a single quote string\" # we can use double quotes to use single quote in a string\n",
    "\n",
    "#print(\"single_quote = \", single_quote)\n",
    "print(\"single_quote1 = \", single_quote1)\n",
    "print(\"single_quote2 = \", single_quote2)"
   ]
  },
  {
   "cell_type": "markdown",
   "metadata": {},
   "source": [
    "### String manipulation operations in python\n",
    "- `Concatenation`\n",
    "  - (`+`)\n",
    "- `Repetition`\n",
    "  - (`*`)\n",
    "- `String Access and Slicing`\n",
    "  - Indexing (`[]`)\n",
    "  - Slicing (`[:]`)\n",
    "  - Negative Indexing\n",
    "- `Length`  \n",
    "  - len()\n",
    "- `Lowercase`\n",
    "  - lower()\n",
    "- `Uppercase`\n",
    "  - upper()\n",
    "- `Strip Whitespaces`\n",
    "  - strip()\n",
    "- `Replace`\n",
    "  - replace()\n",
    "- `Find Substring`\n",
    "  - find()\n",
    "- `Split`\n",
    "  - split()\n",
    "- `String Interpolation `\n",
    "  - f-strings\n",
    "- `Format Method`\n",
    "  - format\n",
    "- `String Checking and Validation`\n",
    "  - isalpha()\n",
    "  - isdigit()\n",
    "  - isalnum()\n",
    "- `Start/Ends with`\n",
    "  - startswith()\n",
    "  - endswith()\n",
    "- `Join Method`\n",
    "  - join()\n",
    "- `String to List`\n",
    "  - list()"
   ]
  },
  {
   "cell_type": "code",
   "execution_count": 38,
   "metadata": {},
   "outputs": [
    {
     "name": "stdout",
     "output_type": "stream",
     "text": [
      "full_name =  Taqi Javed\n"
     ]
    }
   ],
   "source": [
    "# Concate two strings\n",
    "first_name = \"Taqi\"\n",
    "last_name = \"Javed\"\n",
    "full_name = first_name + \" \" + last_name\n",
    "print(\"full_name = \", full_name)"
   ]
  },
  {
   "cell_type": "code",
   "execution_count": 39,
   "metadata": {},
   "outputs": [
    {
     "name": "stdout",
     "output_type": "stream",
     "text": [
      "first_name =  Taqi\n",
      "first_name * 3 =  TaqiTaqiTaqi\n"
     ]
    }
   ],
   "source": [
    "# Replicate a string\n",
    "first_name = \"Taqi\"\n",
    "print(\"first_name = \", first_name)\n",
    "print(\"first_name * 3 = \", first_name * 3)"
   ]
  },
  {
   "cell_type": "code",
   "execution_count": 40,
   "metadata": {},
   "outputs": [
    {
     "name": "stdout",
     "output_type": "stream",
     "text": [
      "first_name =  Taqi\n",
      "first_name[0] =  T\n",
      "first_name[1] =  a\n",
      "first_name[2] =  q\n",
      "first_name[3] =  i\n"
     ]
    }
   ],
   "source": [
    "# Accessing the characters of a string\n",
    "first_name = \"Taqi\"\n",
    "print(\"first_name = \", first_name)\n",
    "print(\"first_name[0] = \", first_name[0]) # index starts from 0\n",
    "print(\"first_name[1] = \", first_name[1])\n",
    "print(\"first_name[2] = \", first_name[2])\n",
    "print(\"first_name[3] = \", first_name[3])"
   ]
  },
  {
   "cell_type": "code",
   "execution_count": 41,
   "metadata": {},
   "outputs": [
    {
     "name": "stdout",
     "output_type": "stream",
     "text": [
      "first_name =  Taqi\n",
      "first_name[-1] =  i\n",
      "first_name[-2] =  q\n",
      "first_name[-3] =  a\n",
      "first_name[-4] =  T\n"
     ]
    }
   ],
   "source": [
    "# Accessing the characters of a string from the end\n",
    "# Negative indexing\n",
    "first_name = \"Taqi\"\n",
    "print(\"first_name = \", first_name)\n",
    "print(\"first_name[-1] = \", first_name[-1]) # index starts from -1\n",
    "print(\"first_name[-2] = \", first_name[-2])\n",
    "print(\"first_name[-3] = \", first_name[-3])\n",
    "print(\"first_name[-4] = \", first_name[-4])\n"
   ]
  },
  {
   "cell_type": "code",
   "execution_count": 51,
   "metadata": {},
   "outputs": [
    {
     "name": "stdout",
     "output_type": "stream",
     "text": [
      "first_name =  Taqi\n",
      "first_name[0:2] =  Ta\n",
      "first_name[1:3] =  aq\n",
      "first_name[2:4] =  qi\n",
      "first_name[0:4] =  Taqi\n",
      "first_name[0:] =  Taqi\n",
      "first_name[:4] =  Taqi\n",
      "first_name[:] =  Taqi\n",
      "first_name[-4:-2] =  Ta\n",
      "first_name[-4:] =  Taqi\n",
      "first_name[:-2] =  Ta\n",
      "first_name[-2:] =  qi\n",
      "first_name =  Taqi\n",
      "first_name[0:4:1] =  Taqi\n",
      "first_name[0:4:2] =  Tq\n",
      "first_name[0:4:3] =  Ti\n",
      "first_name[0:4:4] =  T\n",
      "first_name[0:4:5] =  T\n"
     ]
    }
   ],
   "source": [
    "# Slicing of a string\n",
    "first_name = \"Taqi\"\n",
    "print(\"first_name = \", first_name)\n",
    "print(\"first_name[0:2] = \", first_name[0:2]) # in slicing the last index is not included, here 2 is not included\n",
    "print(\"first_name[1:3] = \", first_name[1:3])\n",
    "print(\"first_name[2:4] = \", first_name[2:4])\n",
    "print(\"first_name[0:4] = \", first_name[0:4])\n",
    "print(\"first_name[0:] = \", first_name[0:]) # if we don't specify the last index then it will print till the end\n",
    "print(\"first_name[:4] = \", first_name[:4]) # if we don't specify the first index then it will print from the start\n",
    "print(\"first_name[:] = \", first_name[:]) # if we don't specify the first and last index then it will print the whole string\n",
    "\n",
    "# Slicing of a string from the end\n",
    "print(\"first_name[-4:-2] = \", first_name[-4:-2]) # in negative indexing the last index is not included, here -2 is not included\n",
    "print(\"first_name[-4:] = \", first_name[-4:]) \n",
    "print(\"first_name[:-2] = \", first_name[:-2]) \n",
    "print(\"first_name[-2:] = \", first_name[-2:]) \n",
    "\n",
    "# Slicing of a string with a step\n",
    "print(\"first_name = \", first_name)\n",
    "print(\"first_name[0:4:1] = \", first_name[0:4:1])\n",
    "print(\"first_name[0:4:2] = \", first_name[0:4:2])\n",
    "print(\"first_name[0:4:3] = \", first_name[0:4:3]) \n",
    "print(\"first_name[0:4:4] = \", first_name[0:4:4]) \n",
    "print(\"first_name[0:4:5] = \", first_name[0:4:5]) \n",
    "\n",
    "# Slicing error\n",
    "# in slicing the step cannot be zero\n",
    "#print(\"first_name[0:4:0] = \", first_name[0:4:0]) \n",
    "# in slicing the step cannot be negative\n",
    "#print(\"first_name[0:4:-1] = \", first_name[0:4:-1]) \n"
   ]
  },
  {
   "cell_type": "code",
   "execution_count": 52,
   "metadata": {},
   "outputs": [
    {
     "name": "stdout",
     "output_type": "stream",
     "text": [
      "first_name =  Taqi\n",
      "len(first_name) =  4\n"
     ]
    }
   ],
   "source": [
    "# Length of a string\n",
    "print(\"first_name = \", first_name)\n",
    "print(\"len(first_name) = \", len(first_name))"
   ]
  },
  {
   "cell_type": "code",
   "execution_count": 53,
   "metadata": {},
   "outputs": [
    {
     "name": "stdout",
     "output_type": "stream",
     "text": [
      "first_name =  Taqi\n",
      "first_name.lower() =  taqi\n",
      "first_name.upper() =  TAQI\n"
     ]
    }
   ],
   "source": [
    "# Lower case and upper case\n",
    "print(\"first_name = \", first_name)\n",
    "print(\"first_name.lower() = \", first_name.lower())\n",
    "print(\"first_name.upper() = \", first_name.upper())"
   ]
  },
  {
   "cell_type": "code",
   "execution_count": 56,
   "metadata": {},
   "outputs": [
    {
     "name": "stdout",
     "output_type": "stream",
     "text": [
      "first_name =  Taqi \n",
      "first_name.rstrip() =  Taqi\n",
      "first_name =   Taqi\n",
      "first_name.lstrip() =  Taqi\n",
      "first_name =   Taqi \n",
      "first_name.strip() =  Taqi\n"
     ]
    }
   ],
   "source": [
    "# String Whitespace\n",
    "# Whitespace is any space before or after the string\n",
    "# Whitespace is any space between the string\n",
    "first_name = \"Taqi \"\n",
    "print(\"first_name = \", first_name)\n",
    "print(\"first_name.rstrip() = \", first_name.rstrip()) # remove the whitespace from the right side\n",
    "\n",
    "first_name = \" Taqi\"\n",
    "print(\"first_name = \", first_name)\n",
    "print(\"first_name.lstrip() = \", first_name.lstrip()) # remove the whitespace from the left side\n",
    "\n",
    "first_name = \" Taqi \"\n",
    "print(\"first_name = \", first_name)\n",
    "print(\"first_name.strip() = \", first_name.strip()) # remove the whitespace from both sides\n"
   ]
  },
  {
   "cell_type": "code",
   "execution_count": 54,
   "metadata": {},
   "outputs": [
    {
     "name": "stdout",
     "output_type": "stream",
     "text": [
      "first_name =  Taqi\n",
      "first_name.replace('T', 't') =  taqi\n"
     ]
    }
   ],
   "source": [
    "# Replace a string\n",
    "print(\"first_name = \", first_name)\n",
    "print(\"first_name.replace('T', 't') = \", first_name.replace('T', 't'))"
   ]
  },
  {
   "cell_type": "code",
   "execution_count": 57,
   "metadata": {},
   "outputs": [
    {
     "name": "stdout",
     "output_type": "stream",
     "text": [
      "first_name =  Taqi\n",
      "first_name.find('q') =  2\n"
     ]
    }
   ],
   "source": [
    "# Find Substring\n",
    "first_name = \"Taqi\"\n",
    "print(\"first_name = \", first_name)\n",
    "print(\"first_name.find('q') = \", first_name.find('q')) # find the index of the character"
   ]
  },
  {
   "cell_type": "code",
   "execution_count": 55,
   "metadata": {},
   "outputs": [
    {
     "name": "stdout",
     "output_type": "stream",
     "text": [
      "first_name =  Taqi\n",
      "first_name.split('a') =  ['T', 'qi']\n"
     ]
    }
   ],
   "source": [
    "# Split a string\n",
    "print(\"first_name = \", first_name)\n",
    "print(\"first_name.split('a') = \", first_name.split('a'))"
   ]
  },
  {
   "cell_type": "code",
   "execution_count": 60,
   "metadata": {},
   "outputs": [
    {
     "name": "stdout",
     "output_type": "stream",
     "text": [
      "first_name =  Taqi\n",
      "last_name =  Javed\n",
      "My name is Taqi Javed\n",
      "age =  25\n",
      "My age is 25\n",
      "salary =  25000.5\n",
      "My salary is 25000.500000\n"
     ]
    }
   ],
   "source": [
    "# String formatting\n",
    "\n",
    "# String formatting with %s\n",
    "first_name = \"Taqi\"\n",
    "last_name = \"Javed\"\n",
    "print(\"first_name = \", first_name)\n",
    "print(\"last_name = \", last_name)\n",
    "print(\"My name is %s %s\" % (first_name, last_name))\n",
    "\n",
    "# String formatting with %d\n",
    "age = 25\n",
    "print(\"age = \", age)\n",
    "print(\"My age is %d\" % age)\n",
    "\n",
    "# String formatting with %f\n",
    "salary = 25000.50\n",
    "print(\"salary = \", salary)\n",
    "print(\"My salary is %f\" % salary)\n",
    "\n"
   ]
  },
  {
   "cell_type": "code",
   "execution_count": 63,
   "metadata": {},
   "outputs": [
    {
     "name": "stdout",
     "output_type": "stream",
     "text": [
      "My name is Alice and I am 25 years old.\n"
     ]
    }
   ],
   "source": [
    "# f-strings\n",
    "name = \"Alice\"\n",
    "age = 25\n",
    "formatted_string = f\"My name is {name} and I am {age} years old.\"\n",
    "print(formatted_string)"
   ]
  },
  {
   "cell_type": "code",
   "execution_count": 68,
   "metadata": {},
   "outputs": [
    {
     "name": "stdout",
     "output_type": "stream",
     "text": [
      "I bought 3 apple for $2.0\n",
      "I bought 3 apple for $1.99\n",
      "I bought 3 apple for $1.990\n",
      "I bought 3 apple for $1.9900\n"
     ]
    }
   ],
   "source": [
    "# format() method\n",
    "item = \"apple\"\n",
    "quantity = 3\n",
    "price = 1.99\n",
    "formatted_string1 = \"I bought {} {} for ${:.1f}\".format(quantity, item, price)\n",
    "formatted_string2 = \"I bought {} {} for ${:.2f}\".format(quantity, item, price)\n",
    "formatted_string3 = \"I bought {} {} for ${:.3f}\".format(quantity, item, price)\n",
    "formatted_string4 = \"I bought {} {} for ${:.4f}\".format(quantity, item, price)\n",
    "print(formatted_string1)\n",
    "print(formatted_string2)\n",
    "print(formatted_string3)\n",
    "print(formatted_string4)"
   ]
  },
  {
   "cell_type": "code",
   "execution_count": 78,
   "metadata": {},
   "outputs": [
    {
     "name": "stdout",
     "output_type": "stream",
     "text": [
      "first_name =  Taqi\n",
      "first_name.isalnum() =  True\n",
      "first_name =  Taqi\n",
      "first_name.isalpha() =  True\n",
      "first_name =  Taqi\n",
      "first_name.isdigit() =  False\n",
      "first_name =  Taqi\n",
      "first_name.islower() =  False\n",
      "first_name =  Taqi\n",
      "first_name.isupper() =  False\n"
     ]
    }
   ],
   "source": [
    "# String Checking Methods\n",
    "# isalnum() method\n",
    "print(\"first_name = \", first_name)\n",
    "print(\"first_name.isalnum() = \", first_name.isalnum())\n",
    "\n",
    "# isalpha() method\n",
    "print(\"first_name = \", first_name)\n",
    "print(\"first_name.isalpha() = \", first_name.isalpha())\n",
    "\n",
    "# isdigit() method\n",
    "print(\"first_name = \", first_name)\n",
    "print(\"first_name.isdigit() = \", first_name.isdigit())\n",
    "\n",
    "# islower() method\n",
    "print(\"first_name = \", first_name)\n",
    "print(\"first_name.islower() = \", first_name.islower())\n",
    "\n",
    "# isupper() method\n",
    "print(\"first_name = \", first_name)\n",
    "print(\"first_name.isupper() = \", first_name.isupper())\n",
    "\n"
   ]
  },
  {
   "cell_type": "code",
   "execution_count": 70,
   "metadata": {},
   "outputs": [
    {
     "name": "stdout",
     "output_type": "stream",
     "text": [
      "first_name =  Taqi\n",
      "first_name.startswith('T') =  True\n",
      "first_name =  Taqi\n",
      "first_name.endswith('i') =  True\n"
     ]
    }
   ],
   "source": [
    "# String Startswith and Endswith Methods\n",
    "\n",
    "# startswith() method\n",
    "print(\"first_name = \", first_name)\n",
    "print(\"first_name.startswith('T') = \", first_name.startswith('T'))\n",
    "\n",
    "# endswith() method\n",
    "print(\"first_name = \", first_name)\n",
    "print(\"first_name.endswith('i') = \", first_name.endswith('i'))"
   ]
  },
  {
   "cell_type": "code",
   "execution_count": 71,
   "metadata": {},
   "outputs": [
    {
     "name": "stdout",
     "output_type": "stream",
     "text": [
      "first_name =  Taqi\n",
      "first_name.count('a') =  1\n"
     ]
    }
   ],
   "source": [
    "# String Count Method\n",
    "print(\"first_name = \", first_name)\n",
    "print(\"first_name.count('a') = \", first_name.count('a'))"
   ]
  },
  {
   "cell_type": "code",
   "execution_count": 75,
   "metadata": {},
   "outputs": [
    {
     "name": "stdout",
     "output_type": "stream",
     "text": [
      "first_name =  Taqi\n",
      "first_name.join('1234') =  1Taqi2Taqi3Taqi4\n",
      "Python is fun\n"
     ]
    }
   ],
   "source": [
    "# String Join Method\n",
    "print(\"first_name = \", first_name)\n",
    "print(\"first_name.join('1234') = \", first_name.join('1234'))\n",
    "\n",
    "# String Replace Method\n",
    "words = [\"Python\", \"is\", \"fun\"]\n",
    "joined_string = \" \".join(words)\n",
    "print(joined_string)"
   ]
  },
  {
   "cell_type": "code",
   "execution_count": 77,
   "metadata": {},
   "outputs": [
    {
     "name": "stdout",
     "output_type": "stream",
     "text": [
      "['P', 'y', 't', 'h', 'o', 'n']\n"
     ]
    }
   ],
   "source": [
    "# String Concvertion to List Methods\n",
    "text = \"Python\"\n",
    "char_list = list(text)\n",
    "\n",
    "print(char_list)"
   ]
  },
  {
   "cell_type": "code",
   "execution_count": null,
   "metadata": {},
   "outputs": [],
   "source": []
  },
  {
   "cell_type": "code",
   "execution_count": null,
   "metadata": {},
   "outputs": [],
   "source": []
  },
  {
   "cell_type": "markdown",
   "metadata": {},
   "source": [
    "### List"
   ]
  },
  {
   "cell_type": "code",
   "execution_count": 29,
   "metadata": {},
   "outputs": [
    {
     "name": "stdout",
     "output_type": "stream",
     "text": [
      "numbers =  [1, 2, 3, 4, 5, 6, 7, 8, 9, 10]\n",
      "fruits =  ['apple', 'banana', 'orange', 'grapes']\n",
      "mixed_list =  [1, 2, 3, 'apple', 'banana', 'orange', 'grapes']\n"
     ]
    }
   ],
   "source": [
    "# list of numbers/integers\n",
    "numbers = [1,2,3,4,5,6,7,8,9,10] \n",
    "\n",
    "# list of strings/fruits\n",
    "fruits = ['apple', 'banana', 'orange', 'grapes'] \n",
    "\n",
    "# list of mixed data types\n",
    "mixed_list = [1, 2, 3, 'apple', 'banana', 'orange', 'grapes']\n",
    "\n",
    "# print the lists\n",
    "print(\"numbers = \", numbers)\n",
    "print(\"fruits = \", fruits)\n",
    "print(\"mixed_list = \", mixed_list)"
   ]
  },
  {
   "cell_type": "markdown",
   "metadata": {},
   "source": [
    "### List manipulation operations in python\n",
    "- `Concatenation`\n",
    "  - (`+`)\n",
    "- `Repetition`\n",
    "  - (`*`)\n",
    "- `List Access and Slicing`\n",
    "  - Indexing (`[]`)\n",
    "  - Slicing (`[:]`)\n",
    "  - Negative Indexing\n",
    "- `List Modification`\n",
    "  - append()\n",
    "    - Adding an element to the end of the list.\n",
    "  - extend()\n",
    "    - Extending a list by appending elements from another iterable.\n",
    "  - insert()\n",
    "    - Inserting an element at a specific index.\n",
    "  - remove()\n",
    "    - Removing the first occurrence of a specified element.\n",
    "  - pop()\n",
    "    - Removing and returning an element by index (or the last element if no index is specified).\n",
    "  - clear()\n",
    "- `Length`  \n",
    "  - len()\n",
    "- `Count`\n",
    "  - count()\n",
    "- `Lower-Bound`\n",
    "  - min()\n",
    "- `Upper-Bound`\n",
    "  - max()\n",
    "- `Replace`\n",
    "  - replace()\n",
    "- `List Copy`\n",
    "  - copy()\n",
    "- `List Searching`\n",
    "  - index()\n",
    "- `List Sorting`\n",
    "  - sort()\n",
    "- `List Reverse`\n",
    "  - reverse()\n",
    "- `String Checking and Validation`\n",
    "  - in\n",
    "    - checking if an element is present in the list\n",
    "  - all()\n",
    "    - checking if all elements in the list satisfy a condition\n",
    "  - any()\n",
    "    - checking if at least one element in the list satisfy a condition\n",
    "  - isinstance\n",
    "    - checking if a variable is a list\n",
    "- `List to String`\n",
    "  - join()"
   ]
  },
  {
   "cell_type": "code",
   "execution_count": 1,
   "metadata": {},
   "outputs": [
    {
     "name": "stdout",
     "output_type": "stream",
     "text": [
      "numbers =  [1, 2, 3]\n",
      "fruits =  ['apple', 'banana', 'orange']\n",
      "numbers + fruits =  [1, 2, 3, 'apple', 'banana', 'orange']\n"
     ]
    }
   ],
   "source": [
    "# List Concatenation\n",
    "numbers = [1, 2, 3]\n",
    "fruits = ['apple', 'banana', 'orange']\n",
    "print(\"numbers = \", numbers)\n",
    "print(\"fruits = \", fruits)\n",
    "print(\"numbers + fruits = \", numbers + fruits)"
   ]
  },
  {
   "cell_type": "code",
   "execution_count": 2,
   "metadata": {},
   "outputs": [
    {
     "name": "stdout",
     "output_type": "stream",
     "text": [
      "numbers =  [1, 2, 3]\n",
      "fruits =  ['apple', 'banana', 'orange']\n",
      "replicated_numbers =  [1, 2, 3, 1, 2, 3, 1, 2, 3]\n",
      "replicated_fruits =  ['apple', 'banana', 'orange', 'apple', 'banana', 'orange']\n"
     ]
    }
   ],
   "source": [
    "# List Replication\n",
    "numbers = [1, 2, 3]\n",
    "fruits = ['apple', 'banana', 'orange']\n",
    "replicated_numbers = numbers * 3\n",
    "replicated_fruits = fruits * 2\n",
    "\n",
    "print(\"numbers = \", numbers)\n",
    "print(\"fruits = \", fruits)\n",
    "print(\"replicated_numbers = \", replicated_numbers)\n",
    "print(\"replicated_fruits = \", replicated_fruits)"
   ]
  },
  {
   "cell_type": "code",
   "execution_count": 3,
   "metadata": {},
   "outputs": [
    {
     "name": "stdout",
     "output_type": "stream",
     "text": [
      "sliced_numbers[2:5] =  [3, 4, 5]\n",
      "sliced_fruits[1:3] =  ['banana', 'orange']\n",
      "sliced_mixed_list[3:6] =  ['apple', 'banana', 'orange']\n"
     ]
    }
   ],
   "source": [
    "# List Slicing\n",
    "numbers = [1, 2, 3, 4, 5, 6, 7, 8, 9, 10]\n",
    "fruits = ['apple', 'banana', 'orange', 'grapes']\n",
    "mixed_list = [1, 2, 3, 'apple', 'banana', 'orange', 'grapes']\n",
    "\n",
    "# slicing the list\n",
    "sliced_numbers = numbers[2:5]\n",
    "sliced_fruits = fruits[1:3]\n",
    "sliced_mixed_list = mixed_list[3:6]\n",
    "\n",
    "print(\"sliced_numbers[2:5] = \", sliced_numbers)\n",
    "print(\"sliced_fruits[1:3] = \", sliced_fruits)\n",
    "print(\"sliced_mixed_list[3:6] = \", sliced_mixed_list)"
   ]
  },
  {
   "cell_type": "code",
   "execution_count": 4,
   "metadata": {},
   "outputs": [
    {
     "name": "stdout",
     "output_type": "stream",
     "text": [
      "negative_sliced_numbers[-5:-2] =  [6, 7, 8]\n",
      "negative_sliced_fruits[-3:-1] =  ['banana', 'orange']\n",
      "negative_sliced_mixed_list[-4:-1] =  ['apple', 'banana', 'orange']\n"
     ]
    }
   ],
   "source": [
    "# List Negative Slicing\n",
    "numbers = [1, 2, 3, 4, 5, 6, 7, 8, 9, 10]\n",
    "fruits = ['apple', 'banana', 'orange', 'grapes']\n",
    "mixed_list = [1, 2, 3, 'apple', 'banana', 'orange', 'grapes']\n",
    "\n",
    "# slicing the list negative\n",
    "negative_sliced_numbers = numbers[-5:-2]\n",
    "negative_sliced_fruits = fruits[-3:-1]\n",
    "negative_sliced_mixed_list = mixed_list[-4:-1]\n",
    "\n",
    "print(\"negative_sliced_numbers[-5:-2] = \", negative_sliced_numbers)\n",
    "print(\"negative_sliced_fruits[-3:-1] = \", negative_sliced_fruits)\n",
    "print(\"negative_sliced_mixed_list[-4:-1] = \", negative_sliced_mixed_list)"
   ]
  },
  {
   "cell_type": "code",
   "execution_count": 5,
   "metadata": {},
   "outputs": [
    {
     "name": "stdout",
     "output_type": "stream",
     "text": [
      "number_1 =  1\n",
      "fruit_2 =  banana\n",
      "mixed_item_3 =  3\n"
     ]
    }
   ],
   "source": [
    "# List Indexing\n",
    "numbers = [1, 2, 3, 4, 5, 6, 7, 8, 9, 10]\n",
    "fruits = ['apple', 'banana', 'orange', 'grapes']\n",
    "mixed_list = [1, 2, 3, 'apple', 'banana', 'orange', 'grapes']\n",
    "\n",
    "# indexing the list\n",
    "number_1 = numbers[0]\n",
    "fruit_2 = fruits[1]\n",
    "mixed_item_3 = mixed_list[2]\n",
    "\n",
    "print(\"number_1 = \", number_1)\n",
    "print(\"fruit_2 = \", fruit_2)\n",
    "print(\"mixed_item_3 = \", mixed_item_3)"
   ]
  },
  {
   "cell_type": "markdown",
   "metadata": {},
   "source": [
    "#### List Modification"
   ]
  },
  {
   "cell_type": "code",
   "execution_count": 6,
   "metadata": {},
   "outputs": [
    {
     "name": "stdout",
     "output_type": "stream",
     "text": [
      "list1 =  [1, 2, 3, 4, 5]\n"
     ]
    }
   ],
   "source": [
    "# List append\n",
    "list1 = [1, 2, 3]\n",
    "list1.append(4)\n",
    "list1.append(5)\n",
    "print(\"list1 = \", list1)"
   ]
  },
  {
   "cell_type": "code",
   "execution_count": 7,
   "metadata": {},
   "outputs": [
    {
     "name": "stdout",
     "output_type": "stream",
     "text": [
      "list1 =  [1, 2, 3, 4, 5, 6]\n"
     ]
    }
   ],
   "source": [
    "# List extend\n",
    "list1 = [1, 2, 3]\n",
    "list2 = [4, 5, 6]\n",
    "list1.extend(list2)\n",
    "print(\"list1 = \", list1)"
   ]
  },
  {
   "cell_type": "code",
   "execution_count": 9,
   "metadata": {},
   "outputs": [
    {
     "name": "stdout",
     "output_type": "stream",
     "text": [
      "list1 =  [1, 4, 2, 3]\n"
     ]
    }
   ],
   "source": [
    "# List insert\n",
    "list1 = [1, 2, 3]\n",
    "list1.insert(1, 4) # insert 4 at index 1\n",
    "print(\"list1 = \", list1)"
   ]
  },
  {
   "cell_type": "code",
   "execution_count": 15,
   "metadata": {},
   "outputs": [
    {
     "name": "stdout",
     "output_type": "stream",
     "text": [
      "list1 =  [1, 2, 4, 5, 3]\n"
     ]
    }
   ],
   "source": [
    "# List remove\n",
    "list1 = [1, 2, 3, 4, 5, 3]\n",
    "list1.remove(3) # remove the first occurrence of 3 (3 as index 2 in this case)\n",
    "print(\"list1 = \", list1)"
   ]
  },
  {
   "cell_type": "code",
   "execution_count": 16,
   "metadata": {},
   "outputs": [
    {
     "name": "stdout",
     "output_type": "stream",
     "text": [
      "list1 =  [1, 2, 3, 4]\n",
      "list1 =  [1, 2, 4, 5]\n"
     ]
    }
   ],
   "source": [
    "# List pop\n",
    "list1 = [1, 2, 3, 4, 5]\n",
    "list1.pop() # remove the last item (5 in this case)\n",
    "print(\"list1 = \", list1)\n",
    "\n",
    "list1 = [1, 2, 3, 4, 5]\n",
    "list1.pop(2) # remove the item at index 2 (3 in this case)\n",
    "print(\"list1 = \", list1)"
   ]
  },
  {
   "cell_type": "code",
   "execution_count": 28,
   "metadata": {},
   "outputs": [
    {
     "name": "stdout",
     "output_type": "stream",
     "text": [
      "list1 =  []\n",
      "list1 =  []\n"
     ]
    }
   ],
   "source": [
    "# List clear\n",
    "list1 = [1, 2, 3, 4, 5]\n",
    "list1.clear()\n",
    "print(\"list1 = \", list1)"
   ]
  },
  {
   "cell_type": "code",
   "execution_count": 17,
   "metadata": {},
   "outputs": [
    {
     "name": "stdout",
     "output_type": "stream",
     "text": [
      "length =  5\n"
     ]
    }
   ],
   "source": [
    "# List Length\n",
    "list1 = [1, 2, 3, 4, 5]\n",
    "length = len(list1)\n",
    "print(\"length = \", length)"
   ]
  },
  {
   "cell_type": "code",
   "execution_count": 23,
   "metadata": {},
   "outputs": [
    {
     "name": "stdout",
     "output_type": "stream",
     "text": [
      "count =  2\n"
     ]
    }
   ],
   "source": [
    "# List count\n",
    "list1 = [1, 2, 3, 4, 5, 3]\n",
    "count = list1.count(3) # count the number of occurrences of 3\n",
    "print(\"count = \", count)"
   ]
  },
  {
   "cell_type": "code",
   "execution_count": 24,
   "metadata": {},
   "outputs": [
    {
     "name": "stdout",
     "output_type": "stream",
     "text": [
      "Lower bound: 1\n",
      "Upper bound: 5\n"
     ]
    }
   ],
   "source": [
    "# List Lower and Upper Bounds\n",
    "list1 = [1, 2, 3, 4, 5]\n",
    "lower_bound = min(list1)\n",
    "upper_bound = max(list1)\n",
    "print(\"Lower bound:\", lower_bound)\n",
    "print(\"Upper bound:\", upper_bound)"
   ]
  },
  {
   "cell_type": "code",
   "execution_count": 29,
   "metadata": {},
   "outputs": [
    {
     "name": "stdout",
     "output_type": "stream",
     "text": [
      "list1 =  [1, 2, 6, 4, 5]\n"
     ]
    }
   ],
   "source": [
    "# List Replace\n",
    "list1 = [1, 2, 3, 4, 5]\n",
    "list1[2] = 6 # replace the item at index 2 with 6\n",
    "print(\"list1 = \", list1)"
   ]
  },
  {
   "cell_type": "code",
   "execution_count": 30,
   "metadata": {},
   "outputs": [
    {
     "name": "stdout",
     "output_type": "stream",
     "text": [
      "list2 =  [1, 2, 3, 4, 5]\n"
     ]
    }
   ],
   "source": [
    "# List Copy\n",
    "list1 = [1, 2, 3, 4, 5]\n",
    "list2 = list1.copy()\n",
    "print(\"list2 = \", list2)"
   ]
  },
  {
   "cell_type": "code",
   "execution_count": 33,
   "metadata": {},
   "outputs": [
    {
     "name": "stdout",
     "output_type": "stream",
     "text": [
      "index =  2\n"
     ]
    }
   ],
   "source": [
    "# List Searching\n",
    "list1 = [1, 2, 3, 4, 5]\n",
    "index = list1.index(3) # find the index of 3\n",
    "print(\"index = \", index)"
   ]
  },
  {
   "cell_type": "code",
   "execution_count": 34,
   "metadata": {},
   "outputs": [
    {
     "name": "stdout",
     "output_type": "stream",
     "text": [
      "list1 =  [1, 2, 3, 4, 5]\n",
      "list1 =  [5, 4, 3, 2, 1]\n",
      "list1 =  [1, 2, 3, 4, 5]\n"
     ]
    }
   ],
   "source": [
    "# List sort\n",
    "list1 = [5, 3, 1, 2, 4]\n",
    "list1.sort() # sort the list in ascending order\n",
    "print(\"list1 = \", list1)\n",
    "\n",
    "list1 = [5, 3, 1, 2, 4]\n",
    "list1.sort(reverse=True) # sort the list in descending order\n",
    "print(\"list1 = \", list1)\n",
    "\n",
    "list1 = [5, 3, 1, 2, 4]\n",
    "list1.sort(reverse=False) # sort the list in ascending order\n",
    "print(\"list1 = \", list1)\n"
   ]
  },
  {
   "cell_type": "code",
   "execution_count": 35,
   "metadata": {},
   "outputs": [
    {
     "name": "stdout",
     "output_type": "stream",
     "text": [
      "list1 =  [4, 2, 1, 3, 5]\n"
     ]
    }
   ],
   "source": [
    "# List reverse\n",
    "list1 = [5, 3, 1, 2, 4]\n",
    "list1.reverse()  # reversing the order of elements in the list.\n",
    "print(\"list1 = \", list1) "
   ]
  },
  {
   "cell_type": "code",
   "execution_count": 36,
   "metadata": {},
   "outputs": [
    {
     "name": "stdout",
     "output_type": "stream",
     "text": [
      "result =  True\n",
      "result =  True\n"
     ]
    }
   ],
   "source": [
    "# List Membership and Not Membership\n",
    "list1 = [1, 2, 3, 4, 5]\n",
    "result = 3 in list1\n",
    "print(\"result = \", result)\n",
    "\n",
    "list1 = [1, 2, 3, 4, 5]\n",
    "result = 6 not in list1\n",
    "print(\"result = \", result)\n"
   ]
  },
  {
   "cell_type": "code",
   "execution_count": 40,
   "metadata": {},
   "outputs": [
    {
     "name": "stdout",
     "output_type": "stream",
     "text": [
      "all_even =  True\n",
      "all_odd =  False\n"
     ]
    }
   ],
   "source": [
    "# List all()\n",
    "my_list = [2, 4, 6, 8, 10]\n",
    "all_even = all(x % 2 == 0 for x in my_list)  # check if all elements in the list are even\n",
    "print(\"all_even = \", all_even)\n",
    "\n",
    "my_list = [2, 4, 6, 8, 9]\n",
    "all_odd = all(x % 2 == 0 for x in my_list)  # check if all elements in the list are odd\n",
    "print(\"all_odd = \", all_odd) # all elements in the list are not odd"
   ]
  },
  {
   "cell_type": "code",
   "execution_count": 41,
   "metadata": {},
   "outputs": [
    {
     "name": "stdout",
     "output_type": "stream",
     "text": [
      "any_even =  True\n",
      "any_odd =  True\n"
     ]
    }
   ],
   "source": [
    "# List any()\n",
    "my_list = [2, 4, 6, 8, 10]\n",
    "any_even = any(x % 2 == 0 for x in my_list)  # check if any element in the list is even\n",
    "print(\"any_even = \", any_even)\n",
    "\n",
    "my_list = [2, 4, 6, 8, 9]\n",
    "any_odd = any(x % 2 == 0 for x in my_list)  # check if any element in the list is odd\n",
    "print(\"any_odd = \", any_odd)"
   ]
  },
  {
   "cell_type": "code",
   "execution_count": 43,
   "metadata": {},
   "outputs": [
    {
     "name": "stdout",
     "output_type": "stream",
     "text": [
      "are_equal = False\n"
     ]
    }
   ],
   "source": [
    "# Check if all elements in the list are equal\n",
    "list1 = [5, 3, 1, 2, 4]\n",
    "are_equal = all(x == list1[0] for x in list1)  # check if all elements in the list are equal to the first element\n",
    "print(\"are_equal =\", are_equal)"
   ]
  },
  {
   "cell_type": "code",
   "execution_count": 44,
   "metadata": {},
   "outputs": [
    {
     "name": "stdout",
     "output_type": "stream",
     "text": [
      "is_equal = True\n"
     ]
    }
   ],
   "source": [
    "# Check if any element in the list is equal\n",
    "my_list = [5, 3, 1, 2, 4]\n",
    "is_equal = any(x == my_list[0] for x in my_list)  # check if any element in the list is equal to the first element\n",
    "print(\"is_equal =\", is_equal)"
   ]
  },
  {
   "cell_type": "code",
   "execution_count": 45,
   "metadata": {},
   "outputs": [
    {
     "name": "stdout",
     "output_type": "stream",
     "text": [
      "is_empty = True\n"
     ]
    }
   ],
   "source": [
    "# Check Empty List\n",
    "my_list = []\n",
    "is_empty = not my_list  # check if the list is empty or not (True if empty, False if not empty)\n",
    "print(\"is_empty =\", is_empty) "
   ]
  },
  {
   "cell_type": "code",
   "execution_count": 48,
   "metadata": {},
   "outputs": [
    {
     "name": "stdout",
     "output_type": "stream",
     "text": [
      "is_list = True\n"
     ]
    }
   ],
   "source": [
    "# List isinstance\n",
    "my_list = [1, 2, 3, 4, 5]\n",
    "is_list = isinstance(my_list, list)  # check if the object is a list (True if list, False if not list)\n",
    "print(\"is_list =\", is_list)"
   ]
  },
  {
   "cell_type": "code",
   "execution_count": 51,
   "metadata": {},
   "outputs": [
    {
     "name": "stdout",
     "output_type": "stream",
     "text": [
      "my_string = 12345\n",
      "result_string = apple, orange, banana\n"
     ]
    }
   ],
   "source": [
    "# List to String Conversion\n",
    "my_list = [1, 2, 3, 4, 5]\n",
    "my_string = ''.join(str(x) for x in my_list)\n",
    "print(\"my_string =\", my_string)\n",
    "\n",
    "# List to String Conversion\n",
    "my_list = ['apple', 'orange', 'banana']\n",
    "separator = ', '\n",
    "\n",
    "result_string = separator.join(my_list)\n",
    "print(\"result_string =\", result_string)"
   ]
  },
  {
   "cell_type": "code",
   "execution_count": null,
   "metadata": {},
   "outputs": [],
   "source": []
  },
  {
   "cell_type": "markdown",
   "metadata": {},
   "source": [
    "### Tuple"
   ]
  },
  {
   "cell_type": "code",
   "execution_count": 30,
   "metadata": {},
   "outputs": [
    {
     "name": "stdout",
     "output_type": "stream",
     "text": [
      "coordinates =  (1, 2, 3)\n",
      "colors =  ('red', 'green', 'blue')\n",
      "mixed_tuple =  (1, 2, 3, 'red', 'green', 'blue')\n"
     ]
    }
   ],
   "source": [
    "# tuple of numbers\n",
    "coordinates = (1, 2, 3) \n",
    "\n",
    "# tuple of strings\n",
    "colors = ('red', 'green', 'blue')\n",
    "\n",
    "# tuple of mixed data types\n",
    "mixed_tuple = (1, 2, 3, 'red', 'green', 'blue')\n",
    "\n",
    "# print the tuples\n",
    "print(\"coordinates = \", coordinates)\n",
    "print(\"colors = \", colors)\n",
    "print(\"mixed_tuple = \", mixed_tuple)"
   ]
  },
  {
   "cell_type": "markdown",
   "metadata": {},
   "source": [
    "### Tuple manipulation operations in python\n",
    "- `Concatenation`\n",
    "  - (`+`)\n",
    "- `Repetition`\n",
    "  - (`*`)\n",
    "- `Tuple Access and Slicing`\n",
    "  - Indexing (`[]`)\n",
    "  - Slicing (`[:]`)\n",
    "  - Negative Indexing\n",
    "- `Length`  \n",
    "  - len()\n",
    "- `Count`\n",
    "  - count()\n",
    "- `Lower-Bound`\n",
    "  - min()\n",
    "- `Upper-Bound`\n",
    "  - max()\n",
    "- `Unpaking Tuple`\n",
    "  - replace()\n",
    "- `Tuple Copy`\n",
    "  - copy()\n",
    "- `Tuple Searching`\n",
    "  - index()\n",
    "- `Tuple Sorting`\n",
    "  - sort()\n",
    "- `Tuple Reverse`\n",
    "  - reverse()\n",
    "- `Tuple Checking and Validation`\n",
    "  - in\n",
    "    - checking if an element is present in the Tuple\n",
    "  - all()\n",
    "    - checking if all elements in the Tuple satisfy a condition\n",
    "  - any()\n",
    "    - checking if at least one element in the Tuple satisfy a condition\n",
    "  - isinstance\n",
    "    - checking if a variable is a Tuple\n",
    "- `Converting Other Sequences to Tuple`\n",
    "  - Convert List to Tuple\n",
    "  - Convert String to Tuple\n",
    "  - Convert Dictionary to Tuple"
   ]
  },
  {
   "cell_type": "code",
   "execution_count": 52,
   "metadata": {},
   "outputs": [
    {
     "name": "stdout",
     "output_type": "stream",
     "text": [
      "concatenated_tuple = (1, 2, 3, 'a', 'b', 'c')\n"
     ]
    }
   ],
   "source": [
    "# Tuple Concatenation\n",
    "tuple1 = (1, 2, 3)\n",
    "tuple2 = ('a', 'b', 'c')\n",
    "concatenated_tuple = tuple1 + tuple2\n",
    "print(\"concatenated_tuple =\", concatenated_tuple)"
   ]
  },
  {
   "cell_type": "code",
   "execution_count": 53,
   "metadata": {},
   "outputs": [
    {
     "name": "stdout",
     "output_type": "stream",
     "text": [
      "repeated_tuple = (1, 2, 3, 1, 2, 3, 1, 2, 3)\n"
     ]
    }
   ],
   "source": [
    "# Tuple Repetition\n",
    "tuple1 = (1, 2, 3)\n",
    "repeated_tuple = tuple1 * 3\n",
    "print(\"repeated_tuple =\", repeated_tuple)"
   ]
  },
  {
   "cell_type": "code",
   "execution_count": 55,
   "metadata": {},
   "outputs": [
    {
     "name": "stdout",
     "output_type": "stream",
     "text": [
      "sliced_tuple = (2, 3, 4)\n",
      "reversed_tuple = (2, 3, 4)\n"
     ]
    }
   ],
   "source": [
    "# Tuple Slicing\n",
    "my_tuple = (1, 2, 3, 4, 5)\n",
    "sliced_tuple = my_tuple[1:4]\n",
    "print(\"sliced_tuple =\", sliced_tuple)\n",
    "\n",
    "# Negative Indexing\n",
    "my_tuple = (1, 2, 3, 4, 5)\n",
    "reversed_tuple = my_tuple[-4:-1]\n",
    "print(\"reversed_tuple =\", reversed_tuple)"
   ]
  },
  {
   "cell_type": "code",
   "execution_count": 56,
   "metadata": {},
   "outputs": [
    {
     "name": "stdout",
     "output_type": "stream",
     "text": [
      "first_element = 1\n"
     ]
    }
   ],
   "source": [
    "# Tuple Indexing\n",
    "my_tuple = (1, 2, 3, 4, 5)\n",
    "first_element = my_tuple[0]\n",
    "print(\"first_element =\", first_element)"
   ]
  },
  {
   "cell_type": "code",
   "execution_count": 57,
   "metadata": {},
   "outputs": [
    {
     "name": "stdout",
     "output_type": "stream",
     "text": [
      "last_element = 5\n"
     ]
    }
   ],
   "source": [
    "# Tuple  Negative Indexing\n",
    "my_tuple = (1, 2, 3, 4, 5)\n",
    "last_element = my_tuple[-1]\n",
    "print(\"last_element =\", last_element)"
   ]
  },
  {
   "cell_type": "code",
   "execution_count": 58,
   "metadata": {},
   "outputs": [
    {
     "name": "stdout",
     "output_type": "stream",
     "text": [
      "length = 5\n"
     ]
    }
   ],
   "source": [
    "# Tuple Length\n",
    "my_tuple = (1, 2, 3, 4, 5)\n",
    "length = len(my_tuple)\n",
    "print(\"length =\", length)"
   ]
  },
  {
   "cell_type": "code",
   "execution_count": 60,
   "metadata": {},
   "outputs": [
    {
     "name": "stdout",
     "output_type": "stream",
     "text": [
      "count = 2\n"
     ]
    }
   ],
   "source": [
    "# Tuple Count\n",
    "my_tuple = (1, 2, 3, 4, 5, 2, 3)\n",
    "count = my_tuple.count(2) # count the number of occurrences of 2 in the tuple\n",
    "print(\"count =\", count)"
   ]
  },
  {
   "cell_type": "code",
   "execution_count": 61,
   "metadata": {},
   "outputs": [
    {
     "name": "stdout",
     "output_type": "stream",
     "text": [
      "lower_bound = 1\n",
      "upper_bound = 5\n"
     ]
    }
   ],
   "source": [
    "# Tuple Lower and Upper Bounds\n",
    "my_tuple = (1, 2, 3, 4, 5)\n",
    "lower_bound = min(my_tuple)\n",
    "upper_bound = max(my_tuple)\n",
    "print(\"lower_bound =\", lower_bound)\n",
    "print(\"upper_bound =\", upper_bound)"
   ]
  },
  {
   "cell_type": "code",
   "execution_count": 63,
   "metadata": {},
   "outputs": [
    {
     "name": "stdout",
     "output_type": "stream",
     "text": [
      "a = 1\n",
      "b = 2\n",
      "c = 3\n",
      "d = 4\n",
      "e = 5\n"
     ]
    }
   ],
   "source": [
    "# Tuple Unpacking\n",
    "my_tuple = (1, 2, 3, 4, 5)\n",
    "a, b, c, d, e = my_tuple # unpack the tuple into variables a, b, c, d, and e respectively \n",
    "print(\"a =\", a)\n",
    "print(\"b =\", b)\n",
    "print(\"c =\", c)\n",
    "print(\"d =\", d)\n",
    "print(\"e =\", e)\n"
   ]
  },
  {
   "cell_type": "code",
   "execution_count": 65,
   "metadata": {},
   "outputs": [
    {
     "name": "stdout",
     "output_type": "stream",
     "text": [
      "new_tuple = (1, 2, 3, 4, 5)\n"
     ]
    }
   ],
   "source": [
    "# Tuple Copy\n",
    "my_tuple = (1, 2, 3, 4, 5)\n",
    "new_tuple = my_tuple[:]\n",
    "print(\"new_tuple =\", new_tuple)"
   ]
  },
  {
   "cell_type": "code",
   "execution_count": 66,
   "metadata": {},
   "outputs": [
    {
     "name": "stdout",
     "output_type": "stream",
     "text": [
      "index = 2\n"
     ]
    }
   ],
   "source": [
    "# Tuple Searching\n",
    "my_tuple = (1, 2, 3, 4, 5)\n",
    "index = my_tuple.index(3) # find the index of 3\n",
    "print(\"index =\", index)"
   ]
  },
  {
   "cell_type": "code",
   "execution_count": 68,
   "metadata": {},
   "outputs": [
    {
     "name": "stdout",
     "output_type": "stream",
     "text": [
      "sorted_tuple = (1, 2, 3, 4, 5)\n",
      "reverse_sort = (5, 4, 3, 2, 1)\n"
     ]
    }
   ],
   "source": [
    "# Tuple Sorting\n",
    "my_tuple = (5, 3, 1, 2, 4)\n",
    "sorted_tuple = tuple(sorted(my_tuple))\n",
    "print(\"sorted_tuple =\", sorted_tuple)\n",
    "\n",
    "# reverse sorting\n",
    "reverse_sort = tuple(sorted(my_tuple, reverse=True))\n",
    "print(\"reverse_sort =\", reverse_sort)"
   ]
  },
  {
   "cell_type": "code",
   "execution_count": 69,
   "metadata": {},
   "outputs": [
    {
     "name": "stdout",
     "output_type": "stream",
     "text": [
      "is_present = True\n"
     ]
    }
   ],
   "source": [
    "# Tuple Membership and Not Membership\n",
    "my_tuple = (1, 2, 3, 4, 5)\n",
    "is_present = 3 in my_tuple  # Result: True\n",
    "print(\"is_present =\", is_present)"
   ]
  },
  {
   "cell_type": "code",
   "execution_count": 72,
   "metadata": {},
   "outputs": [
    {
     "name": "stdout",
     "output_type": "stream",
     "text": [
      "result_all : True\n"
     ]
    }
   ],
   "source": [
    "# Tuple all()\n",
    "my_tuple = (True, 1, 'hello', 5.0)\n",
    "result_all = all(my_tuple) # function returns True if all elements in the iterable are truthy (or if the iterable is empty), and False otherwise\n",
    "print(\"result_all :\", result_all)"
   ]
  },
  {
   "cell_type": "code",
   "execution_count": 73,
   "metadata": {},
   "outputs": [
    {
     "name": "stdout",
     "output_type": "stream",
     "text": [
      "result_any : False\n"
     ]
    }
   ],
   "source": [
    "# Tuple any()\n",
    "my_tuple = (False, 0, '', None)\n",
    "result_any = any(my_tuple) # function returns True if any element in the iterable is truthy, and False otherwise\n",
    "print(\"result_any :\", result_any)"
   ]
  },
  {
   "cell_type": "code",
   "execution_count": 75,
   "metadata": {},
   "outputs": [
    {
     "name": "stdout",
     "output_type": "stream",
     "text": [
      "is_tuple = True\n",
      "are_all_integers = True\n",
      "are_all_numbers = True\n"
     ]
    }
   ],
   "source": [
    "# Tuple isinstance\n",
    "my_tuple = (1, 2, 3)\n",
    "\n",
    "# Check if the entire object is a tuple\n",
    "is_tuple = isinstance(my_tuple, tuple)\n",
    "\n",
    "# Check if each element in the tuple is an integer\n",
    "are_all_integers = all(isinstance(element, int) for element in my_tuple)\n",
    "\n",
    "# Check if each element is either an integer or a float\n",
    "are_all_numbers = all(isinstance(element, (int, float)) for element in my_tuple)\n",
    "\n",
    "print(\"is_tuple =\", is_tuple)\n",
    "print(\"are_all_integers =\", are_all_integers)\n",
    "print(\"are_all_numbers =\", are_all_numbers)"
   ]
  },
  {
   "cell_type": "code",
   "execution_count": 76,
   "metadata": {},
   "outputs": [
    {
     "name": "stdout",
     "output_type": "stream",
     "text": [
      "my_tuple_list = (1, 2, 3)\n",
      "my_tuple_string = ('a', 'b', 'c')\n",
      "my_tuple_dictionary = ('a', 'b', 'c')\n"
     ]
    }
   ],
   "source": [
    "# Converting Other Sequences to Tuples:\n",
    "# Converting List to Tuple\n",
    "my_list = [1, 2, 3]\n",
    "my_tuple_list = tuple(my_list)  # Result: (1, 2, 3)\n",
    "\n",
    "# Converting String to Tuple\n",
    "my_string = \"abc\"\n",
    "my_tuple_string = tuple(my_string)  # Result: ('a', 'b', 'c')\n",
    "\n",
    "# Converting Dictionary to Tuple\n",
    "my_dict = {'a': 1, 'b': 2, 'c': 3}\n",
    "my_tuple_dictionary = tuple(my_dict)  \n",
    "\n",
    "print(\"my_tuple_list =\", my_tuple_list)\n",
    "print(\"my_tuple_string =\", my_tuple_string)\n",
    "print(\"my_tuple_dictionary =\", my_tuple_dictionary)"
   ]
  },
  {
   "cell_type": "code",
   "execution_count": null,
   "metadata": {},
   "outputs": [],
   "source": []
  },
  {
   "cell_type": "markdown",
   "metadata": {},
   "source": [
    "### **3. Mapping Data Types**"
   ]
  },
  {
   "cell_type": "markdown",
   "metadata": {},
   "source": [
    "### Dictionary"
   ]
  },
  {
   "cell_type": "code",
   "execution_count": 31,
   "metadata": {},
   "outputs": [
    {
     "name": "stdout",
     "output_type": "stream",
     "text": [
      "numbers =  {1: 'one', 2: 'two', 3: 'three'}\n",
      "fruits =  {'a': 'apple', 'b': 'banana', 'o': 'orange', 'g': 'grapes'}\n",
      "mixed_dict =  {1: 'one', 'b': 'banana', 3: 'three', 'o': 'orange'}\n"
     ]
    }
   ],
   "source": [
    "# dictionary of numbers\n",
    "numbers = {1: 'one', 2: 'two', 3: 'three'}\n",
    "\n",
    "# dictionary of strings\n",
    "fruits = {'a': 'apple', 'b': 'banana', 'o': 'orange', 'g': 'grapes'}\n",
    "\n",
    "# dictionary of mixed data types\n",
    "mixed_dict = {1: 'one', 'b': 'banana', 3: 'three', 'o': 'orange'}\n",
    "\n",
    "# print the dictionaries\n",
    "print(\"numbers = \", numbers)\n",
    "print(\"fruits = \", fruits)\n",
    "print(\"mixed_dict = \", mixed_dict)"
   ]
  },
  {
   "cell_type": "code",
   "execution_count": 33,
   "metadata": {},
   "outputs": [
    {
     "name": "stdout",
     "output_type": "stream",
     "text": [
      "nested_dict =  {'numbers': {1: 'one', 2: 'two', 3: 'three'}, 'fruits': {'a': 'apple', 'b': 'banana', 'o': 'orange', 'g': 'grapes'}}\n"
     ]
    }
   ],
   "source": [
    "# Nested Dictionary\n",
    "# dictionary of dictionaries\n",
    "nested_dict = {'numbers': {1: 'one', 2: 'two', 3: 'three'}, 'fruits': {'a': 'apple', 'b': 'banana', 'o': 'orange', 'g': 'grapes'}}\n",
    "print(\"nested_dict = \", nested_dict)"
   ]
  },
  {
   "cell_type": "markdown",
   "metadata": {},
   "source": [
    "### Dictionary manipulation operations in python\n",
    "- `Dictionary Access`\n",
    "  - Accessing the value associated with the key\n",
    "- `Updating Values`\n",
    "  - Modifying the value associated with a key.\n",
    "- `Adding New Key-Value Pairs`\n",
    "  - Adding a new key-value pair to the dictionary.\n",
    "- `Removing Key-Value Pairs`\n",
    "  - Removing a key-value pair from the dictionary.\n",
    "- `Length`\n",
    "  - len()\n",
    "- `Dictionary Methods`\n",
    "  - pop()\n",
    "    - Removing and returning the value associated with a key.\n",
    "  - keys()\n",
    "    - Getting a list of all keys in the dictionary.\n",
    "  - values()\n",
    "    - Getting a list of all values in the dictionary.\n",
    "  - items()\n",
    "    - Getting a list of key-value pairs as tuples.\n",
    "  - clear()\n",
    "    - Removing all key-value pairs from the dictionary.\n",
    "  - `Dictionary Copy`\n",
    "    - copy()\n",
    "- `Dictionary Comprehension`\n",
    "  - Creating a new dictionary using a concise syntax.\n",
    "- `Merging Dictionaries`\n",
    "  - update()\n",
    "- `Dictionay Checking and Validation`\n",
    "  - in\n",
    "    - Checking if a specific key exists in the dictionary.\n",
    "  - get()\n",
    "    - method to retrieve a value or a default value if the key doesn't exist.\n",
    "  - isinstance\n",
    "    - checking if a variable is a Dictionay"
   ]
  },
  {
   "cell_type": "code",
   "execution_count": 88,
   "metadata": {},
   "outputs": [
    {
     "name": "stdout",
     "output_type": "stream",
     "text": [
      "Access my_dict1 value against key2 =  value2\n",
      "Access my_dict2 value against key3 =  value3\n"
     ]
    }
   ],
   "source": [
    "# Dictionay Accessing\n",
    "\n",
    "# Create Dictionary by Literal Syntax\n",
    "my_dict1 = {'key1': 'value1', 'key2': 'value2', 'key3': 'value3'}\n",
    "\n",
    "# Create Dictionay by `dict()` Constructor\n",
    "my_dict2 = dict(key1='value1', key2='value2', key3='value3')\n",
    "\n",
    "print(\"Access my_dict1 value against key2 = \", my_dict1['key2'])\n",
    "print(\"Access my_dict2 value against key3 = \", my_dict2['key3'])"
   ]
  },
  {
   "cell_type": "code",
   "execution_count": 83,
   "metadata": {},
   "outputs": [
    {
     "name": "stdout",
     "output_type": "stream",
     "text": [
      "my_dict1 =  {'key1': 5, 'key2': 'value2', 'key3': 'value3'}\n",
      "my_dict2 =  {'key1': 'value1', 'key2': 'value2', 'key3': 6}\n"
     ]
    }
   ],
   "source": [
    "# Dictionay Update\n",
    "my_dict1['key1'] = 5 # change value against key1 \n",
    "my_dict2['key3'] = 6 # change value against key1 \n",
    "\n",
    "print(\"my_dict1 = \", my_dict1)\n",
    "print(\"my_dict2 = \", my_dict2)"
   ]
  },
  {
   "cell_type": "code",
   "execution_count": 89,
   "metadata": {},
   "outputs": [
    {
     "name": "stdout",
     "output_type": "stream",
     "text": [
      "my_dict1 =  {'key2': 'value2', 'key3': 'value3'}\n"
     ]
    }
   ],
   "source": [
    "# Removing Key Value Pairs by `del`\n",
    "del my_dict1['key1'] # remove key1\n",
    "print(\"my_dict1 = \", my_dict1)\n"
   ]
  },
  {
   "cell_type": "code",
   "execution_count": 90,
   "metadata": {},
   "outputs": [
    {
     "data": {
      "text/plain": [
       "'value2'"
      ]
     },
     "execution_count": 90,
     "metadata": {},
     "output_type": "execute_result"
    }
   ],
   "source": [
    "# Removing Key Value Pairs by `pop()`\n",
    "my_dict2.pop('key2') # remove key2"
   ]
  },
  {
   "cell_type": "code",
   "execution_count": 86,
   "metadata": {},
   "outputs": [
    {
     "name": "stdout",
     "output_type": "stream",
     "text": [
      "length =  3\n"
     ]
    }
   ],
   "source": [
    "# Dictionary Length\n",
    "my_dict = {'key1': 'value1', 'key2': 'value2', 'key3': 'value3'}\n",
    "length = len(my_dict)\n",
    "print(\"length = \", length)"
   ]
  },
  {
   "cell_type": "markdown",
   "metadata": {},
   "source": [
    "#### Dictionary Methods"
   ]
  },
  {
   "cell_type": "code",
   "execution_count": 91,
   "metadata": {},
   "outputs": [
    {
     "name": "stdout",
     "output_type": "stream",
     "text": [
      "keys =  dict_keys(['key1', 'key2', 'key3'])\n"
     ]
    }
   ],
   "source": [
    "# Dictionary Keys\n",
    "my_dict = {'key1': 'value1', 'key2': 'value2', 'key3': 'value3'}\n",
    "keys = my_dict.keys()\n",
    "print(\"keys = \", keys)"
   ]
  },
  {
   "cell_type": "code",
   "execution_count": 92,
   "metadata": {},
   "outputs": [
    {
     "name": "stdout",
     "output_type": "stream",
     "text": [
      "values =  dict_values(['value1', 'value2', 'value3'])\n"
     ]
    }
   ],
   "source": [
    "# Dictionary Values\n",
    "my_dict = {'key1': 'value1', 'key2': 'value2', 'key3': 'value3'}\n",
    "values = my_dict.values()\n",
    "print(\"values = \", values)"
   ]
  },
  {
   "cell_type": "code",
   "execution_count": 93,
   "metadata": {},
   "outputs": [
    {
     "name": "stdout",
     "output_type": "stream",
     "text": [
      "items =  dict_items([('key1', 'value1'), ('key2', 'value2'), ('key3', 'value3')])\n"
     ]
    }
   ],
   "source": [
    "# Dictionary Items\n",
    "my_dict = {'key1': 'value1', 'key2': 'value2', 'key3': 'value3'}\n",
    "items = my_dict.items()\n",
    "print(\"items = \", items)"
   ]
  },
  {
   "cell_type": "code",
   "execution_count": 95,
   "metadata": {},
   "outputs": [
    {
     "name": "stdout",
     "output_type": "stream",
     "text": [
      "my_dict =  {}\n"
     ]
    }
   ],
   "source": [
    "# Dictionary Clear\n",
    "my_dict = {'key1': 'value1', 'key2': 'value2', 'key3': 'value3'}\n",
    "my_dict.clear()\n",
    "print(\"my_dict = \", my_dict)"
   ]
  },
  {
   "cell_type": "code",
   "execution_count": 94,
   "metadata": {},
   "outputs": [
    {
     "name": "stdout",
     "output_type": "stream",
     "text": [
      "copied_dict =  {'key1': 'value1', 'key2': 'value2', 'key3': 'value3'}\n"
     ]
    }
   ],
   "source": [
    "# Dictionary Copy\n",
    "my_dict = {'key1': 'value1', 'key2': 'value2', 'key3': 'value3'}\n",
    "copied_dict = my_dict.copy()\n",
    "print(\"copied_dict = \", copied_dict)"
   ]
  },
  {
   "cell_type": "code",
   "execution_count": 100,
   "metadata": {},
   "outputs": [
    {
     "name": "stdout",
     "output_type": "stream",
     "text": [
      "squared_dict = {1: 1, 2: 4, 3: 9, 4: 16, 5: 25}\n"
     ]
    }
   ],
   "source": [
    "# Dictionary Comprehension\n",
    "squared_dict = {key: key**2 for key in range(1, 6)}\n",
    "\n",
    "print(\"squared_dict =\",squared_dict)"
   ]
  },
  {
   "cell_type": "code",
   "execution_count": 102,
   "metadata": {},
   "outputs": [
    {
     "name": "stdout",
     "output_type": "stream",
     "text": [
      "squared_dict = {1: 1, 2: 4, 3: 9, 4: 16, 5: 25, 'key5': 'value5', 'key6': 'value6'}\n"
     ]
    }
   ],
   "source": [
    "# Dictionary Merging\n",
    "another_dict = {'key5': 'value5', 'key6': 'value6'}\n",
    "squared_dict.update(another_dict)\n",
    "print(\"squared_dict =\", squared_dict)"
   ]
  },
  {
   "cell_type": "code",
   "execution_count": 103,
   "metadata": {},
   "outputs": [
    {
     "name": "stdout",
     "output_type": "stream",
     "text": [
      "is_key_present = True\n"
     ]
    }
   ],
   "source": [
    "# Dictionay Key Existrnce\n",
    "my_dict = {'a': 1, 'b': 2, 'c': 3}\n",
    "key_to_check = 'b'\n",
    "is_key_present = key_to_check in my_dict  \n",
    "print(\"is_key_present =\", is_key_present)"
   ]
  },
  {
   "cell_type": "code",
   "execution_count": 107,
   "metadata": {},
   "outputs": [
    {
     "name": "stdout",
     "output_type": "stream",
     "text": [
      "value1 =  Key not found\n",
      "value2 =  2\n"
     ]
    }
   ],
   "source": [
    "# Dictionay get()\n",
    "my_dict = {'a': 1, 'b': 2, 'c': 3}\n",
    "key_to_check = 'd'\n",
    "key_to_check1 = 'b'\n",
    "value1 = my_dict.get(key_to_check, 'Key not found') \n",
    "value2 = my_dict.get(key_to_check1, 'Key not found') \n",
    "\n",
    "print(\"value1 = \", value1)\n",
    "print(\"value2 = \", value2)"
   ]
  },
  {
   "cell_type": "code",
   "execution_count": 108,
   "metadata": {},
   "outputs": [
    {
     "name": "stdout",
     "output_type": "stream",
     "text": [
      "is_dict = True\n",
      "all_integers = False\n"
     ]
    }
   ],
   "source": [
    "# Dictionay isinstances\n",
    "my_dict = {'a': 1, 'b': 2, 'c': 3}\n",
    "is_dict = isinstance(my_dict, dict)  \n",
    "print(\"is_dict =\", is_dict)\n",
    "\n",
    "# Dictionay isinstance() for each key\n",
    "my_dict = {'a': 1, 'b': 2, 'c': '3'}\n",
    "all_integers = all(isinstance(value, int) for value in my_dict.values())\n",
    "print(\"all_integers =\", all_integers)"
   ]
  },
  {
   "cell_type": "code",
   "execution_count": null,
   "metadata": {},
   "outputs": [],
   "source": []
  },
  {
   "cell_type": "markdown",
   "metadata": {},
   "source": [
    "### **4. Sets Data Types**"
   ]
  },
  {
   "cell_type": "markdown",
   "metadata": {},
   "source": [
    "### Sets"
   ]
  },
  {
   "cell_type": "code",
   "execution_count": 34,
   "metadata": {},
   "outputs": [
    {
     "name": "stdout",
     "output_type": "stream",
     "text": [
      "numbers =  {1, 2, 3, 4, 5}\n",
      "fruits =  {'banana', 'grapes', 'orange', 'apple'}\n",
      "mixed_set =  {1, 2, 3, 'blue', 'red', 'green'}\n"
     ]
    }
   ],
   "source": [
    "# Set of numbers\n",
    "numbers = {1, 2, 3, 4, 5}\n",
    "\n",
    "# Set of strings\n",
    "fruits = {'apple', 'banana', 'orange', 'grapes'}\n",
    "\n",
    "# Set of mixed data types\n",
    "mixed_set = {1, 2, 3, 'red', 'green', 'blue'}\n",
    "\n",
    "# print the sets\n",
    "print(\"numbers = \", numbers)\n",
    "print(\"fruits = \", fruits)\n",
    "print(\"mixed_set = \", mixed_set)"
   ]
  },
  {
   "cell_type": "markdown",
   "metadata": {},
   "source": [
    "### Sets manipulation operations in python\n",
    "- `Adding`\n",
    "  - add()\n",
    "    - Adding a single element to the set.\n",
    "- `Update`\n",
    "  - update()\n",
    "    - Adding multiple elements to the set.\n",
    "- `Removing`\n",
    "  - remove() `or` discard()\n",
    "    - Removing a specific element from the set.\n",
    "- `Pop Method`\n",
    "  - pop()\n",
    "    - Removing and returning an arbitrary element from the set.\n",
    "- `Set Clear`\n",
    "  - clear()\n",
    "    - Removing all elements from the set.\n",
    "- `Set Operations`\n",
    "  - Union\n",
    "    - union() `or` |\n",
    "      - Combining two sets, excluding duplicates.\n",
    "  - Intersection\n",
    "    - intersection() `or` &\n",
    "      - Finding common elements between two sets.\n",
    "  - Difference\n",
    "    - difference() `or` _\n",
    "      - Finding elements in one set but not in the other.\n",
    "  - Symmetric Difference\n",
    "    - symmetric_difference() `or` ^\n",
    "      - Finding elements in either set, but not both.\n",
    "  - Subset\n",
    "    - issubset() `or` <=\n",
    "      - method checks whether one set is a subset of another.\n",
    "        - A set A is considered a subset of set B if every element of A is also an element of B.\n",
    "  - Superset\n",
    "    - issuperset() `or` >=\n",
    "      - method checks whether one set is a superset of another. \n",
    "        - A set A is considered a superset of set B if every element of B is also an element of A.\n",
    "  - Disjoint\n",
    "    - isdisjoint()\n",
    "      - method checks whether two sets have no elements in common. \n",
    "        - If the sets are disjoint, the result is True; otherwise, it is False\n",
    "- `Set Membership`\n",
    "  - in\n",
    "    - Checking if an element is in the set.\n",
    "- `Set Length/Size`\n",
    "  - len()\n",
    "    - Getting the number of elements in the set."
   ]
  },
  {
   "cell_type": "code",
   "execution_count": 110,
   "metadata": {},
   "outputs": [
    {
     "name": "stdout",
     "output_type": "stream",
     "text": [
      "my_set1 = {1, 2, 3, 4, 5}\n",
      "my_set2 = {1, 2, 3, 4, 5}\n",
      "my_set3 = {1, 2, 3, 4, 5}\n",
      "my_set4 = {1, 2, 3, 4, 5}\n",
      "my_set5 = {'b', 'a', 'c'}\n"
     ]
    }
   ],
   "source": [
    "# Set creation method\n",
    "# Literal Syntax\n",
    "my_set1 = {1, 2, 3, 4, 5}\n",
    "\n",
    "# Using set() Constructor\n",
    "my_set2 = set({1, 2, 3, 4, 5})\n",
    "\n",
    "# From a list\n",
    "my_set3 = set([1, 2, 3, 4, 5])\n",
    "\n",
    "# From a tuple\n",
    "my_tuple = (1, 2, 3, 4, 5)\n",
    "my_list = list(my_tuple)\n",
    "my_set4 = set(my_list)\n",
    "\n",
    "# From a dictionary\n",
    "my_dict = {'a': 1, 'b': 2, 'c': 3}\n",
    "my_set5 = set(my_dict)\n",
    "\n",
    "print(\"my_set1 =\", my_set1)\n",
    "print(\"my_set2 =\", my_set2)\n",
    "print(\"my_set3 =\", my_set3)\n",
    "print(\"my_set4 =\", my_set4)\n",
    "print(\"my_set5 =\", my_set5)"
   ]
  },
  {
   "cell_type": "code",
   "execution_count": 111,
   "metadata": {},
   "outputs": [
    {
     "name": "stdout",
     "output_type": "stream",
     "text": [
      "my_set = {1, 2, 3, 4}\n"
     ]
    }
   ],
   "source": [
    "# Set Adding\n",
    "my_set = {1, 2, 3}\n",
    "my_set.add(4) # add 4 to the set\n",
    "print(\"my_set =\", my_set)"
   ]
  },
  {
   "cell_type": "code",
   "execution_count": 112,
   "metadata": {},
   "outputs": [
    {
     "name": "stdout",
     "output_type": "stream",
     "text": [
      "my_set = {1, 2, 3, 4, 5, 6}\n"
     ]
    }
   ],
   "source": [
    "# Set Updating\n",
    "my_set = {1, 2, 3}\n",
    "my_set.update([4, 5, 6]) # add multiple elements to the set\n",
    "print(\"my_set =\", my_set)"
   ]
  },
  {
   "cell_type": "code",
   "execution_count": 113,
   "metadata": {},
   "outputs": [
    {
     "name": "stdout",
     "output_type": "stream",
     "text": [
      "my_set = {1, 3}\n"
     ]
    }
   ],
   "source": [
    "# Set Removing\n",
    "my_set = {1, 2, 3}\n",
    "my_set.remove(2)  # remove element 2 from the set\n",
    "print(\"my_set =\", my_set)"
   ]
  },
  {
   "cell_type": "code",
   "execution_count": 114,
   "metadata": {},
   "outputs": [
    {
     "name": "stdout",
     "output_type": "stream",
     "text": [
      "my_set = {1, 3}\n"
     ]
    }
   ],
   "source": [
    "# Set Discard\n",
    "my_set = {1, 2, 3}\n",
    "my_set.discard(2)  # remove element 2 from the set\n",
    "print(\"my_set =\", my_set)"
   ]
  },
  {
   "cell_type": "code",
   "execution_count": 122,
   "metadata": {},
   "outputs": [
    {
     "name": "stdout",
     "output_type": "stream",
     "text": [
      "my_set = {2, 3}\n",
      "Removed element = 1\n"
     ]
    }
   ],
   "source": [
    "# Set Pop\n",
    "my_set = {1, 2, 3}\n",
    "element = my_set.pop()  # remove and return an element from the set\n",
    "print(\"my_set =\", my_set)\n",
    "print(\"Removed element =\", element)\n"
   ]
  },
  {
   "cell_type": "code",
   "execution_count": 123,
   "metadata": {},
   "outputs": [
    {
     "name": "stdout",
     "output_type": "stream",
     "text": [
      "my_set = set()\n"
     ]
    }
   ],
   "source": [
    "# Set Clear\n",
    "my_set = {1, 2, 3}\n",
    "my_set.clear()  # remove all elements from the set\n",
    "print(\"my_set =\", my_set)"
   ]
  },
  {
   "cell_type": "markdown",
   "metadata": {},
   "source": [
    "#### Set Operations"
   ]
  },
  {
   "cell_type": "code",
   "execution_count": 124,
   "metadata": {},
   "outputs": [
    {
     "name": "stdout",
     "output_type": "stream",
     "text": [
      "my_set3 = {1, 2, 3, 4, 5, 6}\n",
      "my_set6 = {7, 8, 9, 10, 11, 12}\n"
     ]
    }
   ],
   "source": [
    "# Sets Union\n",
    "my_set1 = {1, 2, 3}\n",
    "my_set2 = {4, 5, 6}\n",
    "my_set3 = my_set1.union(my_set2) # union of my_set1 and my_set2\n",
    "print(\"my_set3 =\", my_set3)\n",
    "\n",
    "# Sets Union using the '|' operator\n",
    "my_set4 = {7, 8, 9}\n",
    "my_set5 = {10, 11, 12}\n",
    "my_set6 = my_set4 | my_set5 # union of my_set4 and my_set5 using the '|' operator\n",
    "print(\"my_set6 =\", my_set6)"
   ]
  },
  {
   "cell_type": "code",
   "execution_count": 126,
   "metadata": {},
   "outputs": [
    {
     "name": "stdout",
     "output_type": "stream",
     "text": [
      "my_set3 = {2, 3}\n",
      "my_set6 = {6, 7}\n"
     ]
    }
   ],
   "source": [
    "# Sets Intersection\n",
    "my_set1 = {1, 2, 3}\n",
    "my_set2 = {2, 3, 4}\n",
    "my_set3 = my_set1.intersection(my_set2)  # intersection of my_set1 and my_set2\n",
    "print(\"my_set3 =\", my_set3)\n",
    "\n",
    "# Sets Intersection using the '&' operator\n",
    "my_set4 = {5, 6, 7}\n",
    "my_set5 = {6, 7, 8}\n",
    "my_set6 = my_set4 & my_set5  # intersection of my_set4 and my_set5 using the '&' operator\n",
    "print(\"my_set6 =\", my_set6)"
   ]
  },
  {
   "cell_type": "code",
   "execution_count": 128,
   "metadata": {},
   "outputs": [
    {
     "name": "stdout",
     "output_type": "stream",
     "text": [
      "my_set3 = {1}\n",
      "my_set6 = {5}\n"
     ]
    }
   ],
   "source": [
    "# Sets Difference\n",
    "my_set1 = {1, 2, 3}\n",
    "my_set2 = {2, 3, 4}\n",
    "my_set3 = my_set1.difference(my_set2)  # difference of my_set1 and my_set2\n",
    "print(\"my_set3 =\", my_set3)\n",
    "\n",
    "# Sets Difference using the '-' operator\n",
    "my_set4 = {5, 6, 7}\n",
    "my_set5 = {6, 7, 8}\n",
    "my_set6 = my_set4 - my_set5  # difference of my_set4 and my_set5 using the '-' operator\n",
    "print(\"my_set6 =\", my_set6)"
   ]
  },
  {
   "cell_type": "code",
   "execution_count": 129,
   "metadata": {},
   "outputs": [
    {
     "name": "stdout",
     "output_type": "stream",
     "text": [
      "my_set3 = {1, 4}\n",
      "my_set6 = {8, 5}\n"
     ]
    }
   ],
   "source": [
    "# Sets Symmetric Difference\n",
    "my_set1 = {1, 2, 3}\n",
    "my_set2 = {2, 3, 4}\n",
    "my_set3 = my_set1.symmetric_difference(my_set2)  # symmetric difference of my_set1 and my_set2\n",
    "print(\"my_set3 =\", my_set3)\n",
    "\n",
    "# Sets Symmetric Difference using the '^' operator\n",
    "my_set4 = {5, 6, 7}\n",
    "my_set5 = {6, 7, 8}\n",
    "my_set6 = my_set4 ^ my_set5  # symmetric difference of my_set4 and my_set5 using the '^' operator\n",
    "print(\"my_set6 =\", my_set6)"
   ]
  },
  {
   "cell_type": "code",
   "execution_count": 130,
   "metadata": {},
   "outputs": [
    {
     "name": "stdout",
     "output_type": "stream",
     "text": [
      "Is my_set2 a subset of my_set1? True\n",
      "Is my_set2 a subset of my_set1? True\n"
     ]
    }
   ],
   "source": [
    "# Sets Subset\n",
    "my_set1 = {1, 2, 3, 4, 5}\n",
    "my_set2 = {1, 2, 3}\n",
    "\n",
    "# Using issubset() method\n",
    "is_subset = my_set2.issubset(my_set1)\n",
    "print(\"Is my_set2 a subset of my_set1?\", is_subset)\n",
    "\n",
    "# Using <= operator\n",
    "is_subset = my_set2 <= my_set1\n",
    "print(\"Is my_set2 a subset of my_set1?\", is_subset)"
   ]
  },
  {
   "cell_type": "code",
   "execution_count": 131,
   "metadata": {},
   "outputs": [
    {
     "name": "stdout",
     "output_type": "stream",
     "text": [
      "Is my_set1 a superset of my_set2? True\n",
      "Is my_set1 a superset of my_set2? True\n"
     ]
    }
   ],
   "source": [
    "# Sets Superset\n",
    "my_set1 = {1, 2, 3, 4, 5}\n",
    "my_set2 = {1, 2, 3}\n",
    "\n",
    "# Using issuperset() method\n",
    "is_superset = my_set1.issuperset(my_set2)\n",
    "print(\"Is my_set1 a superset of my_set2?\", is_superset)\n",
    "\n",
    "# Using >= operator\n",
    "is_superset = my_set1 >= my_set2\n",
    "print(\"Is my_set1 a superset of my_set2?\", is_superset)"
   ]
  },
  {
   "cell_type": "code",
   "execution_count": 133,
   "metadata": {},
   "outputs": [
    {
     "name": "stdout",
     "output_type": "stream",
     "text": [
      "Are my_set1 and my_set2 disjoint? True\n"
     ]
    }
   ],
   "source": [
    "# Sets isdisjoint()\n",
    "my_set1 = {1, 2, 3}\n",
    "my_set2 = {4, 5, 6}\n",
    "\n",
    "# Using isdisjoint() method\n",
    "is_disjoint = my_set1.isdisjoint(my_set2)\n",
    "print(\"Are my_set1 and my_set2 disjoint?\", is_disjoint)"
   ]
  },
  {
   "cell_type": "code",
   "execution_count": 136,
   "metadata": {},
   "outputs": [
    {
     "name": "stdout",
     "output_type": "stream",
     "text": [
      "result =  True\n",
      "result =  False\n"
     ]
    }
   ],
   "source": [
    "# Set Membership and Not Membership\n",
    "my_set = {1, 2, 3, 4, 5}\n",
    "result = 3 in my_set\n",
    "print(\"result = \", result)\n",
    "\n",
    "my_set = {1, 2, 3, 4, 5}\n",
    "result = 1 not in my_set\n",
    "print(\"result = \", result)\n",
    "\n"
   ]
  },
  {
   "cell_type": "code",
   "execution_count": 139,
   "metadata": {},
   "outputs": [
    {
     "name": "stdout",
     "output_type": "stream",
     "text": [
      "length =  5\n"
     ]
    }
   ],
   "source": [
    "# Set length\n",
    "my_set = {1, 2, 3, 4, 5}\n",
    "length = len(my_set)\n",
    "print(\"length = \", length)"
   ]
  },
  {
   "cell_type": "code",
   "execution_count": null,
   "metadata": {},
   "outputs": [],
   "source": []
  },
  {
   "cell_type": "markdown",
   "metadata": {},
   "source": [
    "### **5. Boolean Data Types**"
   ]
  },
  {
   "cell_type": "markdown",
   "metadata": {},
   "source": [
    "### Boolean"
   ]
  },
  {
   "cell_type": "code",
   "execution_count": 140,
   "metadata": {},
   "outputs": [
    {
     "name": "stdout",
     "output_type": "stream",
     "text": [
      "x =  True\n",
      "y =  False\n"
     ]
    }
   ],
   "source": [
    "# Boolean\n",
    "x = True\n",
    "y = False\n",
    "\n",
    "print(\"x = \", x)\n",
    "print(\"y = \", y)"
   ]
  },
  {
   "cell_type": "markdown",
   "metadata": {},
   "source": [
    "### Sets manipulation operations in python\n",
    "- `Logical Operators`\n",
    "  - Logical AND\n",
    "    - and\n",
    "      - Returns True if both operands are True.\n",
    "  - Logical OR\n",
    "    - or\n",
    "      - Returns True if at least one operand is True.\n",
    "  - Logical NOT\n",
    "    - not\n",
    "      - Returns the opposite boolean value of the operand.\n",
    "- `Comparison Operators`\n",
    "  - Equality\n",
    "    - ==\n",
    "      - Checks if two values are equal.\n",
    "  - Inequality\n",
    "    - !=\n",
    "      - Checks if two values are not equal.\n",
    "  - Greater Than \n",
    "    - >\n",
    "      - Checks if one value is greater than or equal to another value.\n",
    "  - Less Than\n",
    "    - <\n",
    "      - Checks if one value is less than or equal to another value.\n",
    "- `Identity Operators`\n",
    "  - is and not is\n",
    "    - check whether two variables reference the same object in memory.\n"
   ]
  },
  {
   "cell_type": "code",
   "execution_count": 141,
   "metadata": {},
   "outputs": [
    {
     "name": "stdout",
     "output_type": "stream",
     "text": [
      "x and y = False\n",
      "x or y = True\n",
      "not x = False\n"
     ]
    }
   ],
   "source": [
    "# Logical Operators\n",
    "\n",
    "# AND\n",
    "x = True\n",
    "y = False\n",
    "\n",
    "print(\"x and y =\", x and y)\n",
    "\n",
    "# OR\n",
    "x = True\n",
    "y = False\n",
    "\n",
    "print(\"x or y =\", x or y)\n",
    "\n",
    "# NOT\n",
    "x = True\n",
    "y = False\n",
    "\n",
    "print(\"not x =\", not x)\n",
    "x = True\n",
    "y = False\n"
   ]
  },
  {
   "cell_type": "code",
   "execution_count": 145,
   "metadata": {},
   "outputs": [
    {
     "name": "stdout",
     "output_type": "stream",
     "text": [
      "x == y = False\n",
      "x != y = True\n",
      "x > y = False\n",
      "x < y = True\n",
      "x >= y = False\n",
      "x <= y = True\n"
     ]
    }
   ],
   "source": [
    "# Comparison Operators\n",
    "\n",
    "# Equality Operator (==)\n",
    "x = 5\n",
    "y = 10\n",
    "print(\"x == y =\", x == y)\n",
    "\n",
    "# Inequality Operator (!=)\n",
    "x = 5\n",
    "y = 10\n",
    "print(\"x != y =\", x != y)\n",
    "\n",
    "# Greater Than Operator (>)\n",
    "x = 5\n",
    "y = 10\n",
    "print(\"x > y =\", x > y)\n",
    "\n",
    "# Less Than Operator (<)\n",
    "x = 5\n",
    "y = 10\n",
    "print(\"x < y =\", x < y)\n",
    "\n",
    "# Greater Than or Equal to Operator (>=)\n",
    "x = 5\n",
    "y = 10\n",
    "print(\"x >= y =\", x >= y)\n",
    "\n",
    "# Less Than or Equal to Operator (<=)\n",
    "x = 5\n",
    "y = 10\n",
    "print(\"x <= y =\", x <= y)\n",
    "\n"
   ]
  },
  {
   "cell_type": "code",
   "execution_count": 146,
   "metadata": {},
   "outputs": [
    {
     "name": "stdout",
     "output_type": "stream",
     "text": [
      "x is y = False\n",
      "x is not y = True\n"
     ]
    }
   ],
   "source": [
    "# Identity Operators\n",
    "x = 5\n",
    "y = 10\n",
    "print(\"x is y =\", x is y)\n",
    "\n",
    "# Not Identity Operators\n",
    "x = 5\n",
    "y = 10\n",
    "print(\"x is not y =\", x is not y)"
   ]
  },
  {
   "cell_type": "code",
   "execution_count": null,
   "metadata": {},
   "outputs": [],
   "source": []
  },
  {
   "cell_type": "markdown",
   "metadata": {},
   "source": [
    "### **6. None Data Types**"
   ]
  },
  {
   "cell_type": "code",
   "execution_count": 37,
   "metadata": {},
   "outputs": [
    {
     "name": "stdout",
     "output_type": "stream",
     "text": [
      "x =  None\n"
     ]
    }
   ],
   "source": [
    "# none type\n",
    "x = None\n",
    "print(\"x = \", x)"
   ]
  },
  {
   "cell_type": "code",
   "execution_count": null,
   "metadata": {},
   "outputs": [],
   "source": []
  }
 ],
 "metadata": {
  "kernelspec": {
   "display_name": "python_ml",
   "language": "python",
   "name": "python3"
  },
  "language_info": {
   "codemirror_mode": {
    "name": "ipython",
    "version": 3
   },
   "file_extension": ".py",
   "mimetype": "text/x-python",
   "name": "python",
   "nbconvert_exporter": "python",
   "pygments_lexer": "ipython3",
   "version": "3.11.5"
  }
 },
 "nbformat": 4,
 "nbformat_minor": 2
}
