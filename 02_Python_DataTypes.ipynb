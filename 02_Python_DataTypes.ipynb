{
 "cells": [
  {
   "cell_type": "markdown",
   "metadata": {},
   "source": [
    "# Python Data Types\n",
    "1. `Numeric`\n",
    "    - Integers(int)\n",
    "        - Represents positive or negative whole numbers like 3 or -512.\n",
    "    - Floats(float)\n",
    "        - Represents positive or negative numbers with decimals like 2.3, -4.6, etc.\n",
    "    - Complex(complex)\n",
    "        - Represents numbers with a real and imaginary part like 3.14j, 4.0 + 6.3j, etc.\n",
    "2. `Sequence`\n",
    "    - Strings(str)\n",
    "        - Represents textual data like \"Hello World\".\n",
    "        - A sequence of characters enclosed within a pair of either single or double quotes.\n",
    "    - Lists(list)\n",
    "        - Ordered collection of items.\n",
    "        - Represented by square brackets e.g. [1, 2, 3, 4]\n",
    "    - Tuples(tuple)\n",
    "        - Similar to lists but immutable(cannot be changed).\n",
    "        - Represented by parentheses e.g. (1, 2, 3, 4) \n",
    "3. `Mapping`\n",
    "    - Dictionaries(dict)\n",
    "        - Collection of key-value pairs.\n",
    "        - Unordered collection of items.\n",
    "        - Represented by curly braces e.g. {1: 'a', 2: 'b', 3: 'c'}\n",
    "4. `Set`\n",
    "    - Sets(set)\n",
    "        - A mutable, unordered collection of unique elements.\n",
    "        - You can add, remove, or modify elements in a set after its creation.\n",
    "        - Elements in a set are not indexed, and the order is not guaranteed.\n",
    "        - Defined using curly braces {}, e.g. {1, 2, 3, 4}\n",
    "    - Frozen Sets(frozenset)\n",
    "        - An immutable, unordered collection of unique elements.\n",
    "        - Once a frozenset is created, you cannot add, remove, or modify its elements.\n",
    "        - Elements in a frozenset are not indexed, and the order is not guaranteed.\n",
    "        - Defined using curly braces {}, e.g. {1, 2, 3, 4}\n",
    "5. `Boolean`\n",
    "    - True\n",
    "    - False\n",
    "\n",
    "6. `None`\n",
    "    - Represents the absence of a value."
   ]
  },
  {
   "cell_type": "markdown",
   "metadata": {},
   "source": [
    "## Let's define each data type one by one"
   ]
  },
  {
   "cell_type": "markdown",
   "metadata": {},
   "source": [
    "### **1. Numeric Data Types**"
   ]
  },
  {
   "cell_type": "markdown",
   "metadata": {},
   "source": [
    "### Integers"
   ]
  },
  {
   "cell_type": "code",
   "execution_count": 2,
   "metadata": {},
   "outputs": [],
   "source": [
    "# initilize the variables\n",
    "a = 5\n",
    "b = 10\n",
    "c = 3"
   ]
  },
  {
   "cell_type": "code",
   "execution_count": 10,
   "metadata": {},
   "outputs": [
    {
     "name": "stdout",
     "output_type": "stream",
     "text": [
      "a =  5\n",
      "b =  10\n",
      "c =  3\n"
     ]
    }
   ],
   "source": [
    "# print the values of the variables\n",
    "print(\"a = \", a)\n",
    "print(\"b = \", b)\n",
    "print(\"c = \", c)"
   ]
  },
  {
   "cell_type": "code",
   "execution_count": 5,
   "metadata": {},
   "outputs": [
    {
     "name": "stdout",
     "output_type": "stream",
     "text": [
      "a = 5, b = 10, c = 3\n"
     ]
    }
   ],
   "source": [
    "# other method to print the values of the variables\n",
    "print(\"a = %d, b = %d, c = %d\" % (a, b, c))"
   ]
  },
  {
   "cell_type": "code",
   "execution_count": 7,
   "metadata": {},
   "outputs": [
    {
     "data": {
      "text/plain": [
       "(5, 10, 3)"
      ]
     },
     "execution_count": 7,
     "metadata": {},
     "output_type": "execute_result"
    }
   ],
   "source": [
    "# print a tuple of the variables\n",
    "a,b,c"
   ]
  },
  {
   "cell_type": "code",
   "execution_count": 12,
   "metadata": {},
   "outputs": [
    {
     "name": "stdout",
     "output_type": "stream",
     "text": [
      "5 10 3\n"
     ]
    }
   ],
   "source": [
    "# initialize multiple variables in a single line\n",
    "a, b, c = 5, 10, 3\n",
    "\n",
    "# priint the variables in a single print statement\n",
    "print(a,b,c)"
   ]
  },
  {
   "cell_type": "code",
   "execution_count": 21,
   "metadata": {},
   "outputs": [
    {
     "name": "stdout",
     "output_type": "stream",
     "text": [
      "<class 'int'>\n"
     ]
    },
    {
     "data": {
      "text/plain": [
       "int"
      ]
     },
     "execution_count": 21,
     "metadata": {},
     "output_type": "execute_result"
    }
   ],
   "source": [
    "# check the type of the variables\n",
    "print(type(b))\n",
    "\n",
    "type(a) # another method to check the type of the variable"
   ]
  },
  {
   "cell_type": "markdown",
   "metadata": {},
   "source": [
    "### Floats"
   ]
  },
  {
   "cell_type": "code",
   "execution_count": 13,
   "metadata": {},
   "outputs": [
    {
     "name": "stdout",
     "output_type": "stream",
     "text": [
      "x =  5.6\n",
      "y =  9.5\n"
     ]
    }
   ],
   "source": [
    "x = 5.6\n",
    "y = 9.5\n",
    "\n",
    "print(\"x = \", x)\n",
    "print(\"y = \", y)"
   ]
  },
  {
   "cell_type": "markdown",
   "metadata": {},
   "source": [
    "### Complex"
   ]
  },
  {
   "cell_type": "code",
   "execution_count": 14,
   "metadata": {},
   "outputs": [
    {
     "name": "stdout",
     "output_type": "stream",
     "text": [
      "d =  (-1-2j)\n",
      "e =  (1+2j)\n"
     ]
    }
   ],
   "source": [
    "d = -1 - 2j\n",
    "e = 1 + 2j\n",
    "\n",
    "print(\"d = \", d)\n",
    "print(\"e = \", e)"
   ]
  },
  {
   "cell_type": "markdown",
   "metadata": {},
   "source": [
    "### **2. Sequence Data Types**"
   ]
  },
  {
   "cell_type": "markdown",
   "metadata": {},
   "source": [
    "### String "
   ]
  },
  {
   "cell_type": "code",
   "execution_count": 15,
   "metadata": {},
   "outputs": [
    {
     "name": "stdout",
     "output_type": "stream",
     "text": [
      "first_name =  Taqi\n",
      "last_name =  Javed\n"
     ]
    }
   ],
   "source": [
    "first_name = \"Taqi\"\n",
    "last_name = 'Javed' # we can either use single or double quotes\n",
    "\n",
    "print(\"first_name = \", first_name)\n",
    "print(\"last_name = \", last_name)"
   ]
  },
  {
   "cell_type": "code",
   "execution_count": 16,
   "metadata": {},
   "outputs": [
    {
     "name": "stdout",
     "output_type": "stream",
     "text": [
      "<class 'str'>\n"
     ]
    }
   ],
   "source": [
    "# print the type of the variables\n",
    "print(type(first_name))"
   ]
  },
  {
   "cell_type": "code",
   "execution_count": 28,
   "metadata": {},
   "outputs": [
    {
     "name": "stdout",
     "output_type": "stream",
     "text": [
      "single_quote1 =  I'm a single quote string\n",
      "single_quote2 =  I'm a single quote string\n"
     ]
    }
   ],
   "source": [
    "# special example\n",
    "# if we want to use single quote in a string then we have to use backslash before the single quote\n",
    "# otherwise it will give an error\n",
    "# single_quote = 'I'm a single quote string'  # this will give an error\n",
    "\n",
    "# right method to use single quote in a string\n",
    "single_quote1 = 'I\\'m a single quote string'\n",
    "\n",
    "# other method to use single quote in a string\n",
    "single_quote2 = \"I'm a single quote string\" # we can use double quotes to use single quote in a string\n",
    "\n",
    "#print(\"single_quote = \", single_quote)\n",
    "print(\"single_quote1 = \", single_quote1)\n",
    "print(\"single_quote2 = \", single_quote2)"
   ]
  },
  {
   "cell_type": "markdown",
   "metadata": {},
   "source": [
    "### String manipulation operators in python\n",
    "- `Concatenation`\n",
    "  - (`+`)\n",
    "- `Repetition`\n",
    "  - (`*`)\n",
    "- `String Access and Slicing`\n",
    "  - Indexing (`[]`)\n",
    "  - Slicing (`[:]`)\n",
    "  - Negative Indexing\n",
    "- `Length`  \n",
    "  - len()\n",
    "- `Lowercase`\n",
    "  - lower()\n",
    "- `Uppercase`\n",
    "  - upper()\n",
    "- `Strip Whitespaces`\n",
    "  - strip()\n",
    "- `Replace`\n",
    "  - replace()\n",
    "- `Find Substring`\n",
    "  - find()\n",
    "- `Split`\n",
    "  - split()\n",
    "- `String Interpolation `\n",
    "  - f-strings\n",
    "- `Format Method`\n",
    "  - format\n",
    "- `String Checking and Validation`\n",
    "  - isalpha()\n",
    "  - isdigit()\n",
    "  - isalnum()\n",
    "- `Start/Ends with`\n",
    "  - startswith()\n",
    "  - endswith()\n",
    "- `Join Method`\n",
    "  - join()\n",
    "- `String to List`\n",
    "  - list()"
   ]
  },
  {
   "cell_type": "code",
   "execution_count": 38,
   "metadata": {},
   "outputs": [
    {
     "name": "stdout",
     "output_type": "stream",
     "text": [
      "full_name =  Taqi Javed\n"
     ]
    }
   ],
   "source": [
    "# Concate two strings\n",
    "first_name = \"Taqi\"\n",
    "last_name = \"Javed\"\n",
    "full_name = first_name + \" \" + last_name\n",
    "print(\"full_name = \", full_name)"
   ]
  },
  {
   "cell_type": "code",
   "execution_count": 39,
   "metadata": {},
   "outputs": [
    {
     "name": "stdout",
     "output_type": "stream",
     "text": [
      "first_name =  Taqi\n",
      "first_name * 3 =  TaqiTaqiTaqi\n"
     ]
    }
   ],
   "source": [
    "# Replicate a string\n",
    "first_name = \"Taqi\"\n",
    "print(\"first_name = \", first_name)\n",
    "print(\"first_name * 3 = \", first_name * 3)"
   ]
  },
  {
   "cell_type": "code",
   "execution_count": 40,
   "metadata": {},
   "outputs": [
    {
     "name": "stdout",
     "output_type": "stream",
     "text": [
      "first_name =  Taqi\n",
      "first_name[0] =  T\n",
      "first_name[1] =  a\n",
      "first_name[2] =  q\n",
      "first_name[3] =  i\n"
     ]
    }
   ],
   "source": [
    "# Accessing the characters of a string\n",
    "first_name = \"Taqi\"\n",
    "print(\"first_name = \", first_name)\n",
    "print(\"first_name[0] = \", first_name[0]) # index starts from 0\n",
    "print(\"first_name[1] = \", first_name[1])\n",
    "print(\"first_name[2] = \", first_name[2])\n",
    "print(\"first_name[3] = \", first_name[3])"
   ]
  },
  {
   "cell_type": "code",
   "execution_count": 41,
   "metadata": {},
   "outputs": [
    {
     "name": "stdout",
     "output_type": "stream",
     "text": [
      "first_name =  Taqi\n",
      "first_name[-1] =  i\n",
      "first_name[-2] =  q\n",
      "first_name[-3] =  a\n",
      "first_name[-4] =  T\n"
     ]
    }
   ],
   "source": [
    "# Accessing the characters of a string from the end\n",
    "# Negative indexing\n",
    "first_name = \"Taqi\"\n",
    "print(\"first_name = \", first_name)\n",
    "print(\"first_name[-1] = \", first_name[-1]) # index starts from -1\n",
    "print(\"first_name[-2] = \", first_name[-2])\n",
    "print(\"first_name[-3] = \", first_name[-3])\n",
    "print(\"first_name[-4] = \", first_name[-4])\n"
   ]
  },
  {
   "cell_type": "code",
   "execution_count": 51,
   "metadata": {},
   "outputs": [
    {
     "name": "stdout",
     "output_type": "stream",
     "text": [
      "first_name =  Taqi\n",
      "first_name[0:2] =  Ta\n",
      "first_name[1:3] =  aq\n",
      "first_name[2:4] =  qi\n",
      "first_name[0:4] =  Taqi\n",
      "first_name[0:] =  Taqi\n",
      "first_name[:4] =  Taqi\n",
      "first_name[:] =  Taqi\n",
      "first_name[-4:-2] =  Ta\n",
      "first_name[-4:] =  Taqi\n",
      "first_name[:-2] =  Ta\n",
      "first_name[-2:] =  qi\n",
      "first_name =  Taqi\n",
      "first_name[0:4:1] =  Taqi\n",
      "first_name[0:4:2] =  Tq\n",
      "first_name[0:4:3] =  Ti\n",
      "first_name[0:4:4] =  T\n",
      "first_name[0:4:5] =  T\n"
     ]
    }
   ],
   "source": [
    "# Slicing of a string\n",
    "first_name = \"Taqi\"\n",
    "print(\"first_name = \", first_name)\n",
    "print(\"first_name[0:2] = \", first_name[0:2]) # in slicing the last index is not included, here 2 is not included\n",
    "print(\"first_name[1:3] = \", first_name[1:3])\n",
    "print(\"first_name[2:4] = \", first_name[2:4])\n",
    "print(\"first_name[0:4] = \", first_name[0:4])\n",
    "print(\"first_name[0:] = \", first_name[0:]) # if we don't specify the last index then it will print till the end\n",
    "print(\"first_name[:4] = \", first_name[:4]) # if we don't specify the first index then it will print from the start\n",
    "print(\"first_name[:] = \", first_name[:]) # if we don't specify the first and last index then it will print the whole string\n",
    "\n",
    "# Slicing of a string from the end\n",
    "print(\"first_name[-4:-2] = \", first_name[-4:-2]) # in negative indexing the last index is not included, here -2 is not included\n",
    "print(\"first_name[-4:] = \", first_name[-4:]) \n",
    "print(\"first_name[:-2] = \", first_name[:-2]) \n",
    "print(\"first_name[-2:] = \", first_name[-2:]) \n",
    "\n",
    "# Slicing of a string with a step\n",
    "print(\"first_name = \", first_name)\n",
    "print(\"first_name[0:4:1] = \", first_name[0:4:1])\n",
    "print(\"first_name[0:4:2] = \", first_name[0:4:2])\n",
    "print(\"first_name[0:4:3] = \", first_name[0:4:3]) \n",
    "print(\"first_name[0:4:4] = \", first_name[0:4:4]) \n",
    "print(\"first_name[0:4:5] = \", first_name[0:4:5]) \n",
    "\n",
    "# Slicing error\n",
    "# in slicing the step cannot be zero\n",
    "#print(\"first_name[0:4:0] = \", first_name[0:4:0]) \n",
    "# in slicing the step cannot be negative\n",
    "#print(\"first_name[0:4:-1] = \", first_name[0:4:-1]) \n"
   ]
  },
  {
   "cell_type": "code",
   "execution_count": 52,
   "metadata": {},
   "outputs": [
    {
     "name": "stdout",
     "output_type": "stream",
     "text": [
      "first_name =  Taqi\n",
      "len(first_name) =  4\n"
     ]
    }
   ],
   "source": [
    "# Length of a string\n",
    "print(\"first_name = \", first_name)\n",
    "print(\"len(first_name) = \", len(first_name))"
   ]
  },
  {
   "cell_type": "code",
   "execution_count": 53,
   "metadata": {},
   "outputs": [
    {
     "name": "stdout",
     "output_type": "stream",
     "text": [
      "first_name =  Taqi\n",
      "first_name.lower() =  taqi\n",
      "first_name.upper() =  TAQI\n"
     ]
    }
   ],
   "source": [
    "# Lower case and upper case\n",
    "print(\"first_name = \", first_name)\n",
    "print(\"first_name.lower() = \", first_name.lower())\n",
    "print(\"first_name.upper() = \", first_name.upper())"
   ]
  },
  {
   "cell_type": "code",
   "execution_count": 56,
   "metadata": {},
   "outputs": [
    {
     "name": "stdout",
     "output_type": "stream",
     "text": [
      "first_name =  Taqi \n",
      "first_name.rstrip() =  Taqi\n",
      "first_name =   Taqi\n",
      "first_name.lstrip() =  Taqi\n",
      "first_name =   Taqi \n",
      "first_name.strip() =  Taqi\n"
     ]
    }
   ],
   "source": [
    "# String Whitespace\n",
    "# Whitespace is any space before or after the string\n",
    "# Whitespace is any space between the string\n",
    "first_name = \"Taqi \"\n",
    "print(\"first_name = \", first_name)\n",
    "print(\"first_name.rstrip() = \", first_name.rstrip()) # remove the whitespace from the right side\n",
    "\n",
    "first_name = \" Taqi\"\n",
    "print(\"first_name = \", first_name)\n",
    "print(\"first_name.lstrip() = \", first_name.lstrip()) # remove the whitespace from the left side\n",
    "\n",
    "first_name = \" Taqi \"\n",
    "print(\"first_name = \", first_name)\n",
    "print(\"first_name.strip() = \", first_name.strip()) # remove the whitespace from both sides\n"
   ]
  },
  {
   "cell_type": "code",
   "execution_count": 54,
   "metadata": {},
   "outputs": [
    {
     "name": "stdout",
     "output_type": "stream",
     "text": [
      "first_name =  Taqi\n",
      "first_name.replace('T', 't') =  taqi\n"
     ]
    }
   ],
   "source": [
    "# Replace a string\n",
    "print(\"first_name = \", first_name)\n",
    "print(\"first_name.replace('T', 't') = \", first_name.replace('T', 't'))"
   ]
  },
  {
   "cell_type": "code",
   "execution_count": 57,
   "metadata": {},
   "outputs": [
    {
     "name": "stdout",
     "output_type": "stream",
     "text": [
      "first_name =  Taqi\n",
      "first_name.find('q') =  2\n"
     ]
    }
   ],
   "source": [
    "# Find Substring\n",
    "first_name = \"Taqi\"\n",
    "print(\"first_name = \", first_name)\n",
    "print(\"first_name.find('q') = \", first_name.find('q')) # find the index of the character"
   ]
  },
  {
   "cell_type": "code",
   "execution_count": 55,
   "metadata": {},
   "outputs": [
    {
     "name": "stdout",
     "output_type": "stream",
     "text": [
      "first_name =  Taqi\n",
      "first_name.split('a') =  ['T', 'qi']\n"
     ]
    }
   ],
   "source": [
    "# Split a string\n",
    "print(\"first_name = \", first_name)\n",
    "print(\"first_name.split('a') = \", first_name.split('a'))"
   ]
  },
  {
   "cell_type": "code",
   "execution_count": 60,
   "metadata": {},
   "outputs": [
    {
     "name": "stdout",
     "output_type": "stream",
     "text": [
      "first_name =  Taqi\n",
      "last_name =  Javed\n",
      "My name is Taqi Javed\n",
      "age =  25\n",
      "My age is 25\n",
      "salary =  25000.5\n",
      "My salary is 25000.500000\n"
     ]
    }
   ],
   "source": [
    "# String formatting\n",
    "\n",
    "# String formatting with %s\n",
    "first_name = \"Taqi\"\n",
    "last_name = \"Javed\"\n",
    "print(\"first_name = \", first_name)\n",
    "print(\"last_name = \", last_name)\n",
    "print(\"My name is %s %s\" % (first_name, last_name))\n",
    "\n",
    "# String formatting with %d\n",
    "age = 25\n",
    "print(\"age = \", age)\n",
    "print(\"My age is %d\" % age)\n",
    "\n",
    "# String formatting with %f\n",
    "salary = 25000.50\n",
    "print(\"salary = \", salary)\n",
    "print(\"My salary is %f\" % salary)\n",
    "\n"
   ]
  },
  {
   "cell_type": "code",
   "execution_count": 63,
   "metadata": {},
   "outputs": [
    {
     "name": "stdout",
     "output_type": "stream",
     "text": [
      "My name is Alice and I am 25 years old.\n"
     ]
    }
   ],
   "source": [
    "# f-strings\n",
    "name = \"Alice\"\n",
    "age = 25\n",
    "formatted_string = f\"My name is {name} and I am {age} years old.\"\n",
    "print(formatted_string)"
   ]
  },
  {
   "cell_type": "code",
   "execution_count": 68,
   "metadata": {},
   "outputs": [
    {
     "name": "stdout",
     "output_type": "stream",
     "text": [
      "I bought 3 apple for $2.0\n",
      "I bought 3 apple for $1.99\n",
      "I bought 3 apple for $1.990\n",
      "I bought 3 apple for $1.9900\n"
     ]
    }
   ],
   "source": [
    "# format() method\n",
    "item = \"apple\"\n",
    "quantity = 3\n",
    "price = 1.99\n",
    "formatted_string1 = \"I bought {} {} for ${:.1f}\".format(quantity, item, price)\n",
    "formatted_string2 = \"I bought {} {} for ${:.2f}\".format(quantity, item, price)\n",
    "formatted_string3 = \"I bought {} {} for ${:.3f}\".format(quantity, item, price)\n",
    "formatted_string4 = \"I bought {} {} for ${:.4f}\".format(quantity, item, price)\n",
    "print(formatted_string1)\n",
    "print(formatted_string2)\n",
    "print(formatted_string3)\n",
    "print(formatted_string4)"
   ]
  },
  {
   "cell_type": "code",
   "execution_count": 69,
   "metadata": {},
   "outputs": [
    {
     "name": "stdout",
     "output_type": "stream",
     "text": [
      "first_name =  Taqi\n",
      "first_name.isalnum() =  True\n",
      "first_name =  Taqi\n",
      "first_name.isalpha() =  True\n",
      "first_name =  Taqi\n",
      "first_name.isdigit() =  False\n",
      "first_name =  Taqi\n",
      "first_name.islower() =  False\n",
      "first_name =  Taqi\n",
      "first_name.isupper() =  False\n",
      "first_name =  Taqi\n",
      "first_name.isspace() =  False\n"
     ]
    }
   ],
   "source": [
    "# String Checking Methods\n",
    "# isalnum() method\n",
    "print(\"first_name = \", first_name)\n",
    "print(\"first_name.isalnum() = \", first_name.isalnum())\n",
    "\n",
    "# isalpha() method\n",
    "print(\"first_name = \", first_name)\n",
    "print(\"first_name.isalpha() = \", first_name.isalpha())\n",
    "\n",
    "# isdigit() method\n",
    "print(\"first_name = \", first_name)\n",
    "print(\"first_name.isdigit() = \", first_name.isdigit())\n",
    "\n",
    "# islower() method\n",
    "print(\"first_name = \", first_name)\n",
    "print(\"first_name.islower() = \", first_name.islower())\n",
    "\n",
    "# isupper() method\n",
    "print(\"first_name = \", first_name)\n",
    "print(\"first_name.isupper() = \", first_name.isupper())\n",
    "\n",
    "# isspace() method\n",
    "print(\"first_name = \", first_name)\n",
    "print(\"first_name.isspace() = \", first_name.isspace())\n"
   ]
  },
  {
   "cell_type": "code",
   "execution_count": 70,
   "metadata": {},
   "outputs": [
    {
     "name": "stdout",
     "output_type": "stream",
     "text": [
      "first_name =  Taqi\n",
      "first_name.startswith('T') =  True\n",
      "first_name =  Taqi\n",
      "first_name.endswith('i') =  True\n"
     ]
    }
   ],
   "source": [
    "# String Startswith and Endswith Methods\n",
    "\n",
    "# startswith() method\n",
    "print(\"first_name = \", first_name)\n",
    "print(\"first_name.startswith('T') = \", first_name.startswith('T'))\n",
    "\n",
    "# endswith() method\n",
    "print(\"first_name = \", first_name)\n",
    "print(\"first_name.endswith('i') = \", first_name.endswith('i'))"
   ]
  },
  {
   "cell_type": "code",
   "execution_count": 71,
   "metadata": {},
   "outputs": [
    {
     "name": "stdout",
     "output_type": "stream",
     "text": [
      "first_name =  Taqi\n",
      "first_name.count('a') =  1\n"
     ]
    }
   ],
   "source": [
    "# String Count Method\n",
    "print(\"first_name = \", first_name)\n",
    "print(\"first_name.count('a') = \", first_name.count('a'))"
   ]
  },
  {
   "cell_type": "code",
   "execution_count": 75,
   "metadata": {},
   "outputs": [
    {
     "name": "stdout",
     "output_type": "stream",
     "text": [
      "first_name =  Taqi\n",
      "first_name.join('1234') =  1Taqi2Taqi3Taqi4\n",
      "Python is fun\n"
     ]
    }
   ],
   "source": [
    "# String Join Method\n",
    "print(\"first_name = \", first_name)\n",
    "print(\"first_name.join('1234') = \", first_name.join('1234'))\n",
    "\n",
    "# String Replace Method\n",
    "words = [\"Python\", \"is\", \"fun\"]\n",
    "joined_string = \" \".join(words)\n",
    "print(joined_string)"
   ]
  },
  {
   "cell_type": "code",
   "execution_count": 77,
   "metadata": {},
   "outputs": [
    {
     "name": "stdout",
     "output_type": "stream",
     "text": [
      "['P', 'y', 't', 'h', 'o', 'n']\n"
     ]
    }
   ],
   "source": [
    "# String Concvertion to List Methods\n",
    "text = \"Python\"\n",
    "char_list = list(text)\n",
    "\n",
    "print(char_list)"
   ]
  },
  {
   "cell_type": "markdown",
   "metadata": {},
   "source": [
    "### List"
   ]
  },
  {
   "cell_type": "code",
   "execution_count": 29,
   "metadata": {},
   "outputs": [
    {
     "name": "stdout",
     "output_type": "stream",
     "text": [
      "numbers =  [1, 2, 3, 4, 5, 6, 7, 8, 9, 10]\n",
      "fruits =  ['apple', 'banana', 'orange', 'grapes']\n",
      "mixed_list =  [1, 2, 3, 'apple', 'banana', 'orange', 'grapes']\n"
     ]
    }
   ],
   "source": [
    "# list of numbers/integers\n",
    "numbers = [1,2,3,4,5,6,7,8,9,10] \n",
    "\n",
    "# list of strings/fruits\n",
    "fruits = ['apple', 'banana', 'orange', 'grapes'] \n",
    "\n",
    "# list of mixed data types\n",
    "mixed_list = [1, 2, 3, 'apple', 'banana', 'orange', 'grapes']\n",
    "\n",
    "# print the lists\n",
    "print(\"numbers = \", numbers)\n",
    "print(\"fruits = \", fruits)\n",
    "print(\"mixed_list = \", mixed_list)"
   ]
  },
  {
   "cell_type": "markdown",
   "metadata": {},
   "source": [
    "### Tuple"
   ]
  },
  {
   "cell_type": "code",
   "execution_count": 30,
   "metadata": {},
   "outputs": [
    {
     "name": "stdout",
     "output_type": "stream",
     "text": [
      "coordinates =  (1, 2, 3)\n",
      "colors =  ('red', 'green', 'blue')\n",
      "mixed_tuple =  (1, 2, 3, 'red', 'green', 'blue')\n"
     ]
    }
   ],
   "source": [
    "# tuple of numbers\n",
    "coordinates = (1, 2, 3) \n",
    "\n",
    "# tuple of strings\n",
    "colors = ('red', 'green', 'blue')\n",
    "\n",
    "# tuple of mixed data types\n",
    "mixed_tuple = (1, 2, 3, 'red', 'green', 'blue')\n",
    "\n",
    "# print the tuples\n",
    "print(\"coordinates = \", coordinates)\n",
    "print(\"colors = \", colors)\n",
    "print(\"mixed_tuple = \", mixed_tuple)"
   ]
  },
  {
   "cell_type": "markdown",
   "metadata": {},
   "source": [
    "### **3. Mapping Data Types**"
   ]
  },
  {
   "cell_type": "markdown",
   "metadata": {},
   "source": [
    "### Dictionary"
   ]
  },
  {
   "cell_type": "code",
   "execution_count": 31,
   "metadata": {},
   "outputs": [
    {
     "name": "stdout",
     "output_type": "stream",
     "text": [
      "numbers =  {1: 'one', 2: 'two', 3: 'three'}\n",
      "fruits =  {'a': 'apple', 'b': 'banana', 'o': 'orange', 'g': 'grapes'}\n",
      "mixed_dict =  {1: 'one', 'b': 'banana', 3: 'three', 'o': 'orange'}\n"
     ]
    }
   ],
   "source": [
    "# dictionary of numbers\n",
    "numbers = {1: 'one', 2: 'two', 3: 'three'}\n",
    "\n",
    "# dictionary of strings\n",
    "fruits = {'a': 'apple', 'b': 'banana', 'o': 'orange', 'g': 'grapes'}\n",
    "\n",
    "# dictionary of mixed data types\n",
    "mixed_dict = {1: 'one', 'b': 'banana', 3: 'three', 'o': 'orange'}\n",
    "\n",
    "# print the dictionaries\n",
    "print(\"numbers = \", numbers)\n",
    "print(\"fruits = \", fruits)\n",
    "print(\"mixed_dict = \", mixed_dict)"
   ]
  },
  {
   "cell_type": "code",
   "execution_count": 33,
   "metadata": {},
   "outputs": [
    {
     "name": "stdout",
     "output_type": "stream",
     "text": [
      "nested_dict =  {'numbers': {1: 'one', 2: 'two', 3: 'three'}, 'fruits': {'a': 'apple', 'b': 'banana', 'o': 'orange', 'g': 'grapes'}}\n"
     ]
    }
   ],
   "source": [
    "# Nested Dictionary\n",
    "# dictionary of dictionaries\n",
    "nested_dict = {'numbers': {1: 'one', 2: 'two', 3: 'three'}, 'fruits': {'a': 'apple', 'b': 'banana', 'o': 'orange', 'g': 'grapes'}}\n",
    "print(\"nested_dict = \", nested_dict)"
   ]
  },
  {
   "cell_type": "markdown",
   "metadata": {},
   "source": [
    "### **4. Sets Data Types**"
   ]
  },
  {
   "cell_type": "markdown",
   "metadata": {},
   "source": [
    "### Sets"
   ]
  },
  {
   "cell_type": "code",
   "execution_count": 34,
   "metadata": {},
   "outputs": [
    {
     "name": "stdout",
     "output_type": "stream",
     "text": [
      "numbers =  {1, 2, 3, 4, 5}\n",
      "fruits =  {'banana', 'grapes', 'orange', 'apple'}\n",
      "mixed_set =  {1, 2, 3, 'blue', 'red', 'green'}\n"
     ]
    }
   ],
   "source": [
    "# Set of numbers\n",
    "numbers = {1, 2, 3, 4, 5}\n",
    "\n",
    "# Set of strings\n",
    "fruits = {'apple', 'banana', 'orange', 'grapes'}\n",
    "\n",
    "# Set of mixed data types\n",
    "mixed_set = {1, 2, 3, 'red', 'green', 'blue'}\n",
    "\n",
    "# print the sets\n",
    "print(\"numbers = \", numbers)\n",
    "print(\"fruits = \", fruits)\n",
    "print(\"mixed_set = \", mixed_set)"
   ]
  },
  {
   "cell_type": "markdown",
   "metadata": {},
   "source": [
    "### **5. Boolean Data Types**"
   ]
  },
  {
   "cell_type": "markdown",
   "metadata": {},
   "source": [
    "### Boolean"
   ]
  },
  {
   "cell_type": "code",
   "execution_count": 36,
   "metadata": {},
   "outputs": [
    {
     "name": "stdout",
     "output_type": "stream",
     "text": [
      "x =  True\n",
      "y =  False\n"
     ]
    }
   ],
   "source": [
    "# Boolean\n",
    "x = True\n",
    "y = False\n",
    "\n",
    "print(\"x = \", x)\n",
    "print(\"y = \", y)"
   ]
  },
  {
   "cell_type": "markdown",
   "metadata": {},
   "source": [
    "### **6. None Data Types**"
   ]
  },
  {
   "cell_type": "code",
   "execution_count": 37,
   "metadata": {},
   "outputs": [
    {
     "name": "stdout",
     "output_type": "stream",
     "text": [
      "x =  None\n"
     ]
    }
   ],
   "source": [
    "# none type\n",
    "x = None\n",
    "print(\"x = \", x)"
   ]
  },
  {
   "cell_type": "code",
   "execution_count": null,
   "metadata": {},
   "outputs": [],
   "source": []
  }
 ],
 "metadata": {
  "kernelspec": {
   "display_name": "python_ml",
   "language": "python",
   "name": "python3"
  },
  "language_info": {
   "codemirror_mode": {
    "name": "ipython",
    "version": 3
   },
   "file_extension": ".py",
   "mimetype": "text/x-python",
   "name": "python",
   "nbconvert_exporter": "python",
   "pygments_lexer": "ipython3",
   "version": "3.11.5"
  }
 },
 "nbformat": 4,
 "nbformat_minor": 2
}
