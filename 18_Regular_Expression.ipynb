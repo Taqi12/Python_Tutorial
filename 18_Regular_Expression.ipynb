{
 "cells": [
  {
   "cell_type": "markdown",
   "metadata": {},
   "source": [
    "## Regular Expression"
   ]
  },
  {
   "cell_type": "markdown",
   "metadata": {},
   "source": [
    "- `Definition`\n",
    "  - Regular expressions are sequences of characters that define a search pattern. \n",
    "  - other names\n",
    "    - regex\n",
    "    - regexp\n",
    "  - They are commonly used for \n",
    "    - string manipulation \n",
    "    - pattern matching\n",
    "    - text search operations. \n",
    "- `Library in Python`\n",
    "  - The `re` module provides functions and methods for working with regular expressions."
   ]
  },
  {
   "cell_type": "markdown",
   "metadata": {},
   "source": [
    "## Basic Patterns:\n",
    "\n",
    "- `Literal Characters:` \n",
    "  - Match the characters exactly as they appear.\n",
    "  \n",
    "        - Example: apple matches the string \"apple\".\n",
    "  \n",
    "  - `Metacharacters:` \n",
    "    - Special characters with a reserved meaning.\n",
    "\n",
    "    - Examples: . ^ $ * + ? { } [ ] \\ | ( )\n",
    "\n",
    "- `Quantifiers:`\n",
    " \n",
    "  - `*:` Matches 0 or more occurrences of the preceding character or group.\n",
    "\n",
    "    - Example: a* matches \"\", \"a\", \"aa\", \"aaa\", ...\n",
    "\n",
    "  - `+:` Matches 1 or more occurrences of the preceding character or group.\n",
    "\n",
    "    - Example: a+ matches \"a\", \"aa\", \"aaa\", ...\n",
    "\n",
    "  - `?:` Matches 0 or 1 occurrence of the preceding character or group.\n",
    "\n",
    "    - Example: a? matches \"\", \"a\".\n",
    "  \n",
    "  - `{n}:` Matches exactly n occurrences of the preceding character or group.\n",
    "\n",
    "    - Example: a{3} matches \"aaa\".\n",
    "\n",
    "- `{n,}:` Matches n or more occurrences of the preceding character or group.\n",
    "\n",
    "  - Example: a{2,} matches \"aa\", \"aaa\", ...\n",
    "\n",
    "- `{n,m}:` Matches between n and m occurrences of the preceding character or group.\n",
    "\n",
    "  - Example: a{2,4} matches \"aa\", \"aaa\", \"aaaa\".\n",
    "\n",
    "- `Character Classes:`\n",
    "\n",
    "  - `[ ]:` Matches any single character within the square brackets.\n",
    "\n",
    "    - Example: [aeiou] matches any vowel.\n",
    "\n",
    "  - `[^ ]:` Matches any single character not within the square brackets.\n",
    "\n",
    "    - Example: [^aeiou] matches any non-vowel.\n",
    "\n",
    "- `Ranges:` Specify a range of characters within square brackets.\n",
    "\n",
    "  - Example: [a-z] matches any lowercase letter.\n",
    "\n",
    "- `Anchors:`\n",
    "\n",
    "  - `^:` Matches the start of a string.\n",
    "\n",
    "    - Example: ^abc matches \"abc\" at the start of a string.\n",
    "\n",
    "  - `$:` Matches the end of a string.\n",
    "\n",
    "    - Example: xyz$ matches \"xyz\" at the end of a string.\n",
    "\n",
    "- `Escape Characters:`\n",
    "  \n",
    "  - `\\:` Escapes a metacharacter, allowing it to be treated as a literal character.\n",
    "\n",
    "    - Example: \\. matches a literal dot.\n",
    "\n",
    "- `Grouping and Capturing:`\n",
    "  \n",
    "  - `( ):` Groups patterns together. Captures the matched text for later use.\n",
    "\n",
    "    - Example: (ab)+ matches \"ab\", \"abab\", \"ababab\", ...\n",
    "\n",
    "- `Special Sequences:`\n",
    "  \n",
    "  - `\\d:` Matches any digit (0-9).\n",
    "  \n",
    "  - `\\D:` Matches any non-digit character.\n",
    "  \n",
    "  - `\\w:` Matches any word character (alphanumeric + underscore).\n",
    "\n",
    "  - `\\W:` Matches any non-word character.\n",
    "  \n",
    "  - `\\s:` Matches any whitespace character (space, tab, newline).\n",
    "  \n",
    "  - `\\S:` Matches any non-whitespace character.\n",
    "\n",
    "- `Quantifiers (Greedy and Non-Greedy):`\n",
    "  \n",
    "  - `Greedy:` Matches as much as possible.\n",
    "\n",
    "    - Example: .* matches the entire string.\n",
    "\n",
    "  - `Non-Greedy:` Matches as little as possible.\n",
    "\n",
    "    - Example: .*? matches the smallest part possible.\n",
    "\n",
    "  - `Lookahead and Lookbehind:`\n",
    "  \n",
    "    - `(?= ...):` Positive lookahead assertion. Matches the preceding pattern only if it is followed by the specified pattern.\n",
    "\n",
    "      - Example: apple(?= pie) matches \"apple\" only if it is followed by \" pie\".\n",
    "\n",
    "    - `(?! ...):` Negative lookahead assertion. Matches the preceding pattern only if it is not followed by the specified pattern.\n",
    "\n",
    "      - Example: apple(?! pie) matches \"apple\" only if it is not followed by \" pie\".\n",
    "\n",
    "    - `(?<= ...):` Positive lookbehind assertion. Matches the following pattern only if it is preceded by the specified pattern.\n",
    "\n",
    "      - Example: (?<=good )morning matches \"morning\" only if it is preceded by \"good \".\n",
    "\n",
    "    - `(?<! ...):` Negative lookbehind assertion. Matches the following pattern only if it is not preceded by the specified pattern.\n",
    "\n",
    "      - Example: (?<!bad )apple matches \"apple\" only if it is not preceded by \"bad \".\n",
    "\n",
    "- `Flags:`\n",
    "  \n",
    "  - `re.IGNORECASE (re.I):` Case-insensitive matching.\n",
    "    \n",
    "    - Example: re.compile(r'apple', re.I) matches \"apple\", \"Apple\", \"APPLE\", etc."
   ]
  },
  {
   "cell_type": "code",
   "execution_count": null,
   "metadata": {},
   "outputs": [],
   "source": []
  },
  {
   "cell_type": "code",
   "execution_count": 2,
   "metadata": {},
   "outputs": [],
   "source": [
    "# import Regular Expression\n",
    "import re"
   ]
  },
  {
   "cell_type": "code",
   "execution_count": null,
   "metadata": {},
   "outputs": [],
   "source": []
  },
  {
   "cell_type": "markdown",
   "metadata": {},
   "source": [
    "### Literal Characters"
   ]
  },
  {
   "cell_type": "code",
   "execution_count": 4,
   "metadata": {},
   "outputs": [
    {
     "name": "stdout",
     "output_type": "stream",
     "text": [
      "Match found: apple\n"
     ]
    }
   ],
   "source": [
    "# Example: Matching the literal string \"apple\". \n",
    "import re\n",
    "\n",
    "pattern = re.compile(r'apple')\n",
    "text = 'I love apples and oranges.'\n",
    "\n",
    "match = pattern.search(text)\n",
    "if match:\n",
    "    print(\"Match found:\", match.group())\n",
    "else:\n",
    "    print(\"No match.\")\n"
   ]
  },
  {
   "cell_type": "code",
   "execution_count": null,
   "metadata": {},
   "outputs": [],
   "source": []
  },
  {
   "cell_type": "markdown",
   "metadata": {},
   "source": [
    "### Quantifiers:"
   ]
  },
  {
   "cell_type": "code",
   "execution_count": 7,
   "metadata": {},
   "outputs": [
    {
     "name": "stdout",
     "output_type": "stream",
     "text": [
      "Matches: ['aaa']\n"
     ]
    }
   ],
   "source": [
    "# Example: Matching one or more occurrences of the letter 'a'.\n",
    "\n",
    "import re\n",
    "\n",
    "pattern = re.compile(r'a+')\n",
    "text = 'aaabbbccc'\n",
    "\n",
    "matches = pattern.findall(text)\n",
    "print(\"Matches:\", matches)\n"
   ]
  },
  {
   "cell_type": "code",
   "execution_count": null,
   "metadata": {},
   "outputs": [],
   "source": []
  },
  {
   "cell_type": "code",
   "execution_count": 9,
   "metadata": {},
   "outputs": [
    {
     "name": "stdout",
     "output_type": "stream",
     "text": [
      "Matches: ['aaa', 'a', 'aa', 'a']\n"
     ]
    }
   ],
   "source": [
    "# Example: Matching one or more occurrences of the letter 'a'.\n",
    "\n",
    "import re\n",
    "\n",
    "pattern = re.compile(r'a+')\n",
    "text = 'aaabbbcccadaahjga' # if a is not in sequence then it will break the match and will proceed for next character if found it will match and make a new sequence\n",
    "\n",
    "matches = pattern.findall(text)\n",
    "print(\"Matches:\", matches)\n"
   ]
  },
  {
   "cell_type": "code",
   "execution_count": null,
   "metadata": {},
   "outputs": [],
   "source": []
  },
  {
   "cell_type": "markdown",
   "metadata": {},
   "source": [
    "### Character Classes"
   ]
  },
  {
   "cell_type": "code",
   "execution_count": 11,
   "metadata": {},
   "outputs": [
    {
     "name": "stdout",
     "output_type": "stream",
     "text": [
      "Vowels found: ['e', 'o', 'o']\n"
     ]
    }
   ],
   "source": [
    "# Example: Matching any vowel.\n",
    "import re\n",
    "\n",
    "pattern = re.compile(r'[aeiou]')\n",
    "text = 'Hello, World!'\n",
    "\n",
    "matches = pattern.findall(text)\n",
    "print(\"Vowels found:\", matches)"
   ]
  },
  {
   "cell_type": "code",
   "execution_count": null,
   "metadata": {},
   "outputs": [],
   "source": []
  },
  {
   "cell_type": "markdown",
   "metadata": {},
   "source": [
    "### Anchors"
   ]
  },
  {
   "cell_type": "code",
   "execution_count": 12,
   "metadata": {},
   "outputs": [
    {
     "name": "stdout",
     "output_type": "stream",
     "text": [
      "Match found!\n"
     ]
    }
   ],
   "source": [
    "# Example: Matching the string that starts with 'abc'.\n",
    "import re\n",
    "\n",
    "pattern = re.compile(r'^abc')\n",
    "text = 'abc123'\n",
    "\n",
    "if pattern.match(text):\n",
    "    print(\"Match found!\")\n",
    "else:\n",
    "    print(\"No match.\")"
   ]
  },
  {
   "cell_type": "code",
   "execution_count": null,
   "metadata": {},
   "outputs": [],
   "source": []
  },
  {
   "cell_type": "markdown",
   "metadata": {},
   "source": [
    "### Escape Characters:\n"
   ]
  },
  {
   "cell_type": "code",
   "execution_count": 13,
   "metadata": {},
   "outputs": [
    {
     "name": "stdout",
     "output_type": "stream",
     "text": [
      "Match found!\n"
     ]
    }
   ],
   "source": [
    "# Example: Matching a literal dot in a string\n",
    "import re\n",
    "\n",
    "pattern = re.compile(r'\\.')\n",
    "text = 'file.txt'\n",
    "\n",
    "if pattern.search(text):\n",
    "    print(\"Match found!\")\n",
    "else:\n",
    "    print(\"No match.\")"
   ]
  },
  {
   "cell_type": "code",
   "execution_count": null,
   "metadata": {},
   "outputs": [],
   "source": []
  },
  {
   "cell_type": "markdown",
   "metadata": {},
   "source": [
    "### Grouping and Capturing"
   ]
  },
  {
   "cell_type": "code",
   "execution_count": 3,
   "metadata": {},
   "outputs": [
    {
     "name": "stdout",
     "output_type": "stream",
     "text": [
      "Matches: ['ab']\n",
      "Matches: ['ab', 'ab', 'ab']\n"
     ]
    }
   ],
   "source": [
    "# Example : Capturing repeated patterns of \"ab\"\n",
    "import re\n",
    "\n",
    "pattern = re.compile(r'(ab)+')\n",
    "text = 'abababab'\n",
    "text1 = 'ababaababaab'\n",
    "\n",
    "matches = pattern.findall(text)\n",
    "matches1 = pattern.findall(text1)\n",
    "print(\"Matches:\", matches)\n",
    "print(\"Matches:\", matches1)\n"
   ]
  },
  {
   "cell_type": "code",
   "execution_count": null,
   "metadata": {},
   "outputs": [],
   "source": []
  },
  {
   "cell_type": "markdown",
   "metadata": {},
   "source": [
    "### Special Sequences"
   ]
  },
  {
   "cell_type": "code",
   "execution_count": 17,
   "metadata": {},
   "outputs": [
    {
     "name": "stdout",
     "output_type": "stream",
     "text": [
      "Digits found: ['123']\n"
     ]
    }
   ],
   "source": [
    "# Example : Matching digits in a string\n",
    "import re\n",
    "\n",
    "pattern = re.compile(r'\\d+')\n",
    "text = 'There are 123 apples in the basket.'\n",
    "\n",
    "matches = pattern.findall(text)\n",
    "print(\"Digits found:\", matches)\n"
   ]
  },
  {
   "cell_type": "code",
   "execution_count": null,
   "metadata": {},
   "outputs": [],
   "source": []
  },
  {
   "cell_type": "markdown",
   "metadata": {},
   "source": [
    "### Quantifiers (Greedy and Non-Greedy)"
   ]
  },
  {
   "cell_type": "code",
   "execution_count": 5,
   "metadata": {},
   "outputs": [
    {
     "name": "stdout",
     "output_type": "stream",
     "text": [
      "Match found: Start of the sentence and the end\n"
     ]
    }
   ],
   "source": [
    "# Example: Using a non-greedy quantifier to match the smallest part possible.\n",
    "import re\n",
    "\n",
    "pattern = re.compile(r'.*?end')\n",
    "text = 'Start of the sentence and the end of the sentence.'\n",
    "\n",
    "match = pattern.search(text)\n",
    "if match:\n",
    "    print(\"Match found:\", match.group())  \n",
    "else:\n",
    "    print(\"No match.\")\n"
   ]
  },
  {
   "cell_type": "code",
   "execution_count": null,
   "metadata": {},
   "outputs": [],
   "source": []
  },
  {
   "cell_type": "markdown",
   "metadata": {},
   "source": [
    "## Lookahead and Lookbehind"
   ]
  },
  {
   "cell_type": "code",
   "execution_count": 19,
   "metadata": {},
   "outputs": [
    {
     "name": "stdout",
     "output_type": "stream",
     "text": [
      "Match found: apple\n"
     ]
    }
   ],
   "source": [
    "# Example: Using positive lookahead to match \"apple\" only if it is followed by \" pie\".\n",
    "import re\n",
    "\n",
    "pattern = re.compile(r'apple(?= pie)')\n",
    "text = 'I like apple pie.'\n",
    "\n",
    "match = pattern.search(text)\n",
    "if match:\n",
    "    print(\"Match found:\", match.group())\n",
    "else:\n",
    "    print(\"No match.\")\n"
   ]
  },
  {
   "cell_type": "code",
   "execution_count": null,
   "metadata": {},
   "outputs": [],
   "source": []
  },
  {
   "cell_type": "markdown",
   "metadata": {},
   "source": [
    "### Flags"
   ]
  },
  {
   "cell_type": "code",
   "execution_count": 20,
   "metadata": {},
   "outputs": [
    {
     "name": "stdout",
     "output_type": "stream",
     "text": [
      "Match found: Apple\n"
     ]
    }
   ],
   "source": [
    "# Example: Using the case-insensitive flag to match \"apple\" regardless of case.\n",
    "import re\n",
    "\n",
    "pattern = re.compile(r'apple', re.I)\n",
    "text = 'I have an Apple tree.'\n",
    "\n",
    "match = pattern.search(text)\n",
    "if match:\n",
    "    print(\"Match found:\", match.group())\n",
    "else:\n",
    "    print(\"No match.\")\n"
   ]
  },
  {
   "cell_type": "code",
   "execution_count": null,
   "metadata": {},
   "outputs": [],
   "source": []
  }
 ],
 "metadata": {
  "kernelspec": {
   "display_name": "python_ml",
   "language": "python",
   "name": "python3"
  },
  "language_info": {
   "codemirror_mode": {
    "name": "ipython",
    "version": 3
   },
   "file_extension": ".py",
   "mimetype": "text/x-python",
   "name": "python",
   "nbconvert_exporter": "python",
   "pygments_lexer": "ipython3",
   "version": "3.11.5"
  }
 },
 "nbformat": 4,
 "nbformat_minor": 2
}
