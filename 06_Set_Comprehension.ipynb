{
 "cells": [
  {
   "cell_type": "markdown",
   "metadata": {},
   "source": [
    "## Set Comprehension"
   ]
  },
  {
   "cell_type": "markdown",
   "metadata": {},
   "source": [
    "- `Definition`\n",
    "  - Set comprehension is a concise way to create set in Python. \n",
    "  - It allows you to create a new new by specifying the elements you want to include based on a condition or transformation applied to existing iterable objects.\n",
    "- `Syntax`\n",
    "  - The syntax is similar to list comprehensions, but it uses curly braces {} to denote sets.\n",
    "    - `new_set = {expression for item in iterable if condition}`\n",
    "      - expression: The operation or value you want to include in the new set.\n",
    "      - item: The variable representing each element in the iterable.\n",
    "      - iterable: The existing iterable (e.g., a list, tuple, or string) that you are iterating over.\n",
    "      - condition (optional): A filtering condition to include only certain elements."
   ]
  },
  {
   "cell_type": "code",
   "execution_count": 2,
   "metadata": {},
   "outputs": [
    {
     "name": "stdout",
     "output_type": "stream",
     "text": [
      "{1, 4, 9, 16, 25}\n"
     ]
    }
   ],
   "source": [
    "# Example 1: Set Comprehension\n",
    "numbers = {1, 2, 3, 4, 5}\n",
    "squared_numbers = {num**2 for num in numbers}\n",
    "print(squared_numbers)"
   ]
  },
  {
   "cell_type": "code",
   "execution_count": 3,
   "metadata": {},
   "outputs": [
    {
     "name": "stdout",
     "output_type": "stream",
     "text": [
      "{2, 4}\n"
     ]
    }
   ],
   "source": [
    "# Example 2: Set Comprehension with Condition\n",
    "numbers = {1, 2, 3, 4, 5}\n",
    "even_numbers = {num for num in numbers if num % 2 == 0}\n",
    "print(even_numbers)"
   ]
  },
  {
   "cell_type": "code",
   "execution_count": 5,
   "metadata": {},
   "outputs": [
    {
     "name": "stdout",
     "output_type": "stream",
     "text": [
      "{0, 64, 4, 36, 16}\n"
     ]
    }
   ],
   "source": [
    "# Example 3: Set Comprehension with Transformation\n",
    "# Create a set of squares only for even numbers from 0 to 9\n",
    "squares_of_evens_set = {x**2 for x in range(10) if x % 2 == 0}\n",
    "print(squares_of_evens_set)"
   ]
  },
  {
   "cell_type": "code",
   "execution_count": 6,
   "metadata": {},
   "outputs": [
    {
     "name": "stdout",
     "output_type": "stream",
     "text": [
      "{'c', 'n', 'o', 'S', 't', 'h', 'r', 'a', 'i', 'p', 'm', 'e', 's'}\n"
     ]
    }
   ],
   "source": [
    "# Example 4: Set Comprehension with Strings\n",
    "# Create a set of unique characters from a string\n",
    "sentence = \"Set comprehensions are concise\"\n",
    "unique_characters_set = {char for char in sentence if char.isalpha()}\n",
    "print(unique_characters_set)"
   ]
  },
  {
   "cell_type": "code",
   "execution_count": 7,
   "metadata": {},
   "outputs": [
    {
     "name": "stdout",
     "output_type": "stream",
     "text": [
      "{0.0, 1.4142135623730951, 2.0, 2.449489742783178, 2.8284271247461903}\n"
     ]
    }
   ],
   "source": [
    "# Example 5: Set Comprehension with Mathematical Operations\n",
    "# Create a set of the square roots of even numbers from 0 to 9\n",
    "import math\n",
    "square_roots_set = {math.sqrt(x) for x in range(10) if x % 2 == 0}\n",
    "print(square_roots_set)"
   ]
  },
  {
   "cell_type": "code",
   "execution_count": 8,
   "metadata": {},
   "outputs": [
    {
     "name": "stdout",
     "output_type": "stream",
     "text": [
      "{8, 2, 3, 14}\n"
     ]
    }
   ],
   "source": [
    "# Example 6: Set Comprehension with Tuple Unpacking\n",
    "# Create a set of lengths of words in a sentence\n",
    "sentence = \"Set comprehensions can be powerful\"\n",
    "word_lengths_set = {len(word) for word in sentence.split()}\n",
    "print(word_lengths_set)"
   ]
  },
  {
   "cell_type": "code",
   "execution_count": 9,
   "metadata": {},
   "outputs": [
    {
     "name": "stdout",
     "output_type": "stream",
     "text": [
      "{(3, 'c'), (2, 'a'), (3, 'a'), (1, 'a'), (1, 'c'), (2, 'c'), (3, 'b'), (2, 'b'), (1, 'b')}\n"
     ]
    }
   ],
   "source": [
    "# Example 7: Set Comprehension with Nested Comprehensions\n",
    "# Create a set of tuples representing all possible pairs of numbers from two sets\n",
    "set_a = {1, 2, 3}\n",
    "set_b = {'a', 'b', 'c'}\n",
    "all_pairs_set = {(x, y) for x in set_a for y in set_b}\n",
    "print(all_pairs_set)"
   ]
  },
  {
   "cell_type": "code",
   "execution_count": null,
   "metadata": {},
   "outputs": [],
   "source": []
  }
 ],
 "metadata": {
  "kernelspec": {
   "display_name": "python_ml",
   "language": "python",
   "name": "python3"
  },
  "language_info": {
   "codemirror_mode": {
    "name": "ipython",
    "version": 3
   },
   "file_extension": ".py",
   "mimetype": "text/x-python",
   "name": "python",
   "nbconvert_exporter": "python",
   "pygments_lexer": "ipython3",
   "version": "3.11.5"
  }
 },
 "nbformat": 4,
 "nbformat_minor": 2
}
