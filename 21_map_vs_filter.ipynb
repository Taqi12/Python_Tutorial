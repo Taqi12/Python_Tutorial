{
 "cells": [
  {
   "cell_type": "markdown",
   "metadata": {},
   "source": [
    "## map() vs filter()"
   ]
  },
  {
   "cell_type": "markdown",
   "metadata": {},
   "source": [
    "| Criteria       | `map()`                                      | `filter()`                                   |\n",
    "|-----------------|----------------------------------------------|----------------------------------------------|\n",
    "| **Purpose**     | Applies a function to each element in iterable | Filters elements based on a specified condition |\n",
    "| **Syntax**      | `map(function, iterable)`                     | `filter(function, iterable)`                 |\n",
    "| **Result**      | Produces a new iterable with transformed elements | Produces a new iterable with filtered elements |\n",
    "| **Use Cases**   | Transformations, element-wise operations     | Filtering based on a condition               |\n",
    "| **Advantages**  | Conciseness, efficiency for large datasets   | Conciseness, efficient data filtering       |\n",
    "| **Limitations** | Readability for simple operations            | Readability for simple conditions           |\n",
    "| **Returns**     | Iterable (needs conversion if list needed)   | Iterable (needs conversion if list needed)   |\n"
   ]
  },
  {
   "cell_type": "code",
   "execution_count": null,
   "metadata": {},
   "outputs": [],
   "source": []
  }
 ],
 "metadata": {
  "kernelspec": {
   "display_name": "python_ml",
   "language": "python",
   "name": "python3"
  },
  "language_info": {
   "codemirror_mode": {
    "name": "ipython",
    "version": 3
   },
   "file_extension": ".py",
   "mimetype": "text/x-python",
   "name": "python",
   "nbconvert_exporter": "python",
   "pygments_lexer": "ipython3",
   "version": "3.11.5"
  }
 },
 "nbformat": 4,
 "nbformat_minor": 2
}
